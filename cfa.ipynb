{
 "cells": [
  {
   "cell_type": "markdown",
   "source": [
    "# Confirmatory Factor Analysis"
   ],
   "metadata": {
    "collapsed": false
   },
   "id": "b30273ddb6a997db"
  },
  {
   "cell_type": "markdown",
   "source": [
    "This notebook employs Confirmatory Factor Analysis (CFA) to validate our research in line with three central constructs. These constructs serve as the foundation for our hypotheses:\n",
    "\n",
    "**Eco-labeling Perception**: We assess if multiple eco-labeling schemes lead to consumer confusion and hinder awareness of eco-friendly products (Hypothesis 1).\n",
    "\n",
    "**Consumer Trust**: We investigate the trust consumers place in products bearing the KEBS label concerning quality and safety (Hypothesis 2).\n",
    "\n",
    "**Consumer Attitudes**: We analyze consumer attitudes concerning the KEBS label and its association with government oversight and product choice (Hypothesis 3)."
   ],
   "metadata": {
    "collapsed": false
   },
   "id": "64517210bcdf9a96"
  },
  {
   "cell_type": "code",
   "execution_count": 27,
   "outputs": [],
   "source": [
    "import warnings\n",
    "import pandas as pd\n",
    "import numpy as np\n",
    "import semopy\n",
    "\n",
    "data = pd.read_csv('cfa.csv')\n",
    "# To filter out all warnings\n",
    "warnings.filterwarnings(\"ignore\")"
   ],
   "metadata": {
    "collapsed": false,
    "ExecuteTime": {
     "end_time": "2023-11-01T19:31:48.009137300Z",
     "start_time": "2023-11-01T19:31:47.711538200Z"
    }
   },
   "id": "8dda9d5c9ed0b677"
  },
  {
   "cell_type": "code",
   "execution_count": 28,
   "outputs": [
    {
     "data": {
      "text/plain": "     Unnamed: 0 What is your age?  What is your Gender?  \\\n0             0             18-24                   1.0   \n1             1             18-24                   1.0   \n2             2             55-64                   0.0   \n3             3             25-34                   0.0   \n4             4             35-44                   0.0   \n..          ...               ...                   ...   \n110         110             18-24                   1.0   \n111         111             18-24                   0.0   \n112         112             18-24                   NaN   \n113         113             35-44                   1.0   \n114         114             25-34                   0.0   \n\n     Which region in Kenya do you currently reside in?  \\\n0                                                    5   \n1                                                    4   \n2                                                    3   \n3                                                    5   \n4                                                    2   \n..                                                 ...   \n110                                                  5   \n111                                                  5   \n112                                                  5   \n113                                                  3   \n114                                                  3   \n\n     How aware are you about the environmental issues?(1 being the lowest,5 being the highest)  \\\n0                                                    5                                           \n1                                                    5                                           \n2                                                    5                                           \n3                                                    4                                           \n4                                                    4                                           \n..                                                 ...                                           \n110                                                  4                                           \n111                                                  4                                           \n112                                                  5                                           \n113                                                  3                                           \n114                                                  4                                           \n\n     Do you actively engage in environment-friendly practices in your daily life?  \\\n0                                                  0.0                              \n1                                                  1.0                              \n2                                                  1.0                              \n3                                                  1.0                              \n4                                                  1.0                              \n..                                                 ...                              \n110                                                1.0                              \n111                                                1.0                              \n112                                                1.0                              \n113                                                1.0                              \n114                                                1.0                              \n\n     I am confident in my ability to distinguish between different eco-labels when shopping for products.  \\\n0                                                    5                                                      \n1                                                    4                                                      \n2                                                    1                                                      \n3                                                    3                                                      \n4                                                    3                                                      \n..                                                 ...                                                      \n110                                                  3                                                      \n111                                                  3                                                      \n112                                                  5                                                      \n113                                                  2                                                      \n114                                                  4                                                      \n\n     Have you ever encountered multiple eco-labels on similar products?  \\\n0                                                    1                    \n1                                                    0                    \n2                                                    0                    \n3                                                    1                    \n4                                                    1                    \n..                                                 ...                    \n110                                                  0                    \n111                                                  0                    \n112                                                  1                    \n113                                                  1                    \n114                                                  1                    \n\n     How often do you find it challenging to understand the environmental implications of a product based on its eco-label?  \\\n0                                                    5                                                                        \n1                                                    4                                                                        \n2                                                    5                                                                        \n3                                                    4                                                                        \n4                                                    3                                                                        \n..                                                 ...                                                                        \n110                                                  4                                                                        \n111                                                  3                                                                        \n112                                                  2                                                                        \n113                                                  3                                                                        \n114                                                  4                                                                        \n\n     Are you familiar with the KEBS (Kenya Bureau of Standards) standard mark?  \\\n0                                                    1                           \n1                                                    1                           \n2                                                    1                           \n3                                                    1                           \n4                                                    1                           \n..                                                 ...                           \n110                                                  1                           \n111                                                  1                           \n112                                                  1                           \n113                                                  1                           \n114                                                  1                           \n\n     How much trust do you place in products that bear the KEBS label when it comes to quality and safety?  \\\n0                                                  4.0                                                       \n1                                                  NaN                                                       \n2                                                  NaN                                                       \n3                                                  3.0                                                       \n4                                                  3.0                                                       \n..                                                 ...                                                       \n110                                                5.0                                                       \n111                                                5.0                                                       \n112                                                5.0                                                       \n113                                                5.0                                                       \n114                                                5.0                                                       \n\n     Have you intentionally purchased products with the KEBS label because of its perceived quality and safety standards?  \\\n0                                                    1                                                                      \n1                                                    1                                                                      \n2                                                    1                                                                      \n3                                                    0                                                                      \n4                                                    0                                                                      \n..                                                 ...                                                                      \n110                                                  1                                                                      \n111                                                  1                                                                      \n112                                                  1                                                                      \n113                                                  1                                                                      \n114                                                  1                                                                      \n\n     To what extent do you associate the KEBS label with government oversight and regulation?  \\\n0                                                    3                                          \n1                                                    5                                          \n2                                                    5                                          \n3                                                    3                                          \n4                                                    4                                          \n..                                                 ...                                          \n110                                                  5                                          \n111                                                  5                                          \n112                                                  4                                          \n113                                                  4                                          \n114                                                  5                                          \n\n     Do you believe that products with the KEBS label are more reliable and safer than those without it?  \\\n0                                                    1                                                     \n1                                                    1                                                     \n2                                                    1                                                     \n3                                                    0                                                     \n4                                                    0                                                     \n..                                                 ...                                                     \n110                                                  1                                                     \n111                                                  1                                                     \n112                                                  1                                                     \n113                                                  1                                                     \n114                                                  1                                                     \n\n     How likely are you to choose a product with the KEBS label over a similar product without it?  \n0                                                    4                                              \n1                                                    5                                              \n2                                                    5                                              \n3                                                    3                                              \n4                                                    4                                              \n..                                                 ...                                              \n110                                                  5                                              \n111                                                  5                                              \n112                                                  5                                              \n113                                                  5                                              \n114                                                  5                                              \n\n[115 rows x 15 columns]",
      "text/html": "<div>\n<style scoped>\n    .dataframe tbody tr th:only-of-type {\n        vertical-align: middle;\n    }\n\n    .dataframe tbody tr th {\n        vertical-align: top;\n    }\n\n    .dataframe thead th {\n        text-align: right;\n    }\n</style>\n<table border=\"1\" class=\"dataframe\">\n  <thead>\n    <tr style=\"text-align: right;\">\n      <th></th>\n      <th>Unnamed: 0</th>\n      <th>What is your age?</th>\n      <th>What is your Gender?</th>\n      <th>Which region in Kenya do you currently reside in?</th>\n      <th>How aware are you about the environmental issues?(1 being the lowest,5 being the highest)</th>\n      <th>Do you actively engage in environment-friendly practices in your daily life?</th>\n      <th>I am confident in my ability to distinguish between different eco-labels when shopping for products.</th>\n      <th>Have you ever encountered multiple eco-labels on similar products?</th>\n      <th>How often do you find it challenging to understand the environmental implications of a product based on its eco-label?</th>\n      <th>Are you familiar with the KEBS (Kenya Bureau of Standards) standard mark?</th>\n      <th>How much trust do you place in products that bear the KEBS label when it comes to quality and safety?</th>\n      <th>Have you intentionally purchased products with the KEBS label because of its perceived quality and safety standards?</th>\n      <th>To what extent do you associate the KEBS label with government oversight and regulation?</th>\n      <th>Do you believe that products with the KEBS label are more reliable and safer than those without it?</th>\n      <th>How likely are you to choose a product with the KEBS label over a similar product without it?</th>\n    </tr>\n  </thead>\n  <tbody>\n    <tr>\n      <th>0</th>\n      <td>0</td>\n      <td>18-24</td>\n      <td>1.0</td>\n      <td>5</td>\n      <td>5</td>\n      <td>0.0</td>\n      <td>5</td>\n      <td>1</td>\n      <td>5</td>\n      <td>1</td>\n      <td>4.0</td>\n      <td>1</td>\n      <td>3</td>\n      <td>1</td>\n      <td>4</td>\n    </tr>\n    <tr>\n      <th>1</th>\n      <td>1</td>\n      <td>18-24</td>\n      <td>1.0</td>\n      <td>4</td>\n      <td>5</td>\n      <td>1.0</td>\n      <td>4</td>\n      <td>0</td>\n      <td>4</td>\n      <td>1</td>\n      <td>NaN</td>\n      <td>1</td>\n      <td>5</td>\n      <td>1</td>\n      <td>5</td>\n    </tr>\n    <tr>\n      <th>2</th>\n      <td>2</td>\n      <td>55-64</td>\n      <td>0.0</td>\n      <td>3</td>\n      <td>5</td>\n      <td>1.0</td>\n      <td>1</td>\n      <td>0</td>\n      <td>5</td>\n      <td>1</td>\n      <td>NaN</td>\n      <td>1</td>\n      <td>5</td>\n      <td>1</td>\n      <td>5</td>\n    </tr>\n    <tr>\n      <th>3</th>\n      <td>3</td>\n      <td>25-34</td>\n      <td>0.0</td>\n      <td>5</td>\n      <td>4</td>\n      <td>1.0</td>\n      <td>3</td>\n      <td>1</td>\n      <td>4</td>\n      <td>1</td>\n      <td>3.0</td>\n      <td>0</td>\n      <td>3</td>\n      <td>0</td>\n      <td>3</td>\n    </tr>\n    <tr>\n      <th>4</th>\n      <td>4</td>\n      <td>35-44</td>\n      <td>0.0</td>\n      <td>2</td>\n      <td>4</td>\n      <td>1.0</td>\n      <td>3</td>\n      <td>1</td>\n      <td>3</td>\n      <td>1</td>\n      <td>3.0</td>\n      <td>0</td>\n      <td>4</td>\n      <td>0</td>\n      <td>4</td>\n    </tr>\n    <tr>\n      <th>...</th>\n      <td>...</td>\n      <td>...</td>\n      <td>...</td>\n      <td>...</td>\n      <td>...</td>\n      <td>...</td>\n      <td>...</td>\n      <td>...</td>\n      <td>...</td>\n      <td>...</td>\n      <td>...</td>\n      <td>...</td>\n      <td>...</td>\n      <td>...</td>\n      <td>...</td>\n    </tr>\n    <tr>\n      <th>110</th>\n      <td>110</td>\n      <td>18-24</td>\n      <td>1.0</td>\n      <td>5</td>\n      <td>4</td>\n      <td>1.0</td>\n      <td>3</td>\n      <td>0</td>\n      <td>4</td>\n      <td>1</td>\n      <td>5.0</td>\n      <td>1</td>\n      <td>5</td>\n      <td>1</td>\n      <td>5</td>\n    </tr>\n    <tr>\n      <th>111</th>\n      <td>111</td>\n      <td>18-24</td>\n      <td>0.0</td>\n      <td>5</td>\n      <td>4</td>\n      <td>1.0</td>\n      <td>3</td>\n      <td>0</td>\n      <td>3</td>\n      <td>1</td>\n      <td>5.0</td>\n      <td>1</td>\n      <td>5</td>\n      <td>1</td>\n      <td>5</td>\n    </tr>\n    <tr>\n      <th>112</th>\n      <td>112</td>\n      <td>18-24</td>\n      <td>NaN</td>\n      <td>5</td>\n      <td>5</td>\n      <td>1.0</td>\n      <td>5</td>\n      <td>1</td>\n      <td>2</td>\n      <td>1</td>\n      <td>5.0</td>\n      <td>1</td>\n      <td>4</td>\n      <td>1</td>\n      <td>5</td>\n    </tr>\n    <tr>\n      <th>113</th>\n      <td>113</td>\n      <td>35-44</td>\n      <td>1.0</td>\n      <td>3</td>\n      <td>3</td>\n      <td>1.0</td>\n      <td>2</td>\n      <td>1</td>\n      <td>3</td>\n      <td>1</td>\n      <td>5.0</td>\n      <td>1</td>\n      <td>4</td>\n      <td>1</td>\n      <td>5</td>\n    </tr>\n    <tr>\n      <th>114</th>\n      <td>114</td>\n      <td>25-34</td>\n      <td>0.0</td>\n      <td>3</td>\n      <td>4</td>\n      <td>1.0</td>\n      <td>4</td>\n      <td>1</td>\n      <td>4</td>\n      <td>1</td>\n      <td>5.0</td>\n      <td>1</td>\n      <td>5</td>\n      <td>1</td>\n      <td>5</td>\n    </tr>\n  </tbody>\n</table>\n<p>115 rows × 15 columns</p>\n</div>"
     },
     "execution_count": 28,
     "metadata": {},
     "output_type": "execute_result"
    }
   ],
   "source": [
    "data"
   ],
   "metadata": {
    "collapsed": false,
    "ExecuteTime": {
     "end_time": "2023-11-01T19:31:48.275615900Z",
     "start_time": "2023-11-01T19:31:47.720834Z"
    }
   },
   "id": "d3ed4b6eb4cdd461"
  },
  {
   "cell_type": "code",
   "execution_count": 29,
   "outputs": [
    {
     "data": {
      "text/plain": "     I am confident in my ability to distinguish between different eco-labels when shopping for products.  \\\n0                                                    5                                                      \n1                                                    4                                                      \n2                                                    1                                                      \n3                                                    3                                                      \n4                                                    3                                                      \n..                                                 ...                                                      \n110                                                  3                                                      \n111                                                  3                                                      \n112                                                  5                                                      \n113                                                  2                                                      \n114                                                  4                                                      \n\n     Have you ever encountered multiple eco-labels on similar products?  \\\n0                                                    1                    \n1                                                    0                    \n2                                                    0                    \n3                                                    1                    \n4                                                    1                    \n..                                                 ...                    \n110                                                  0                    \n111                                                  0                    \n112                                                  1                    \n113                                                  1                    \n114                                                  1                    \n\n     How often do you find it challenging to understand the environmental implications of a product based on its eco-label?  \n0                                                    5                                                                       \n1                                                    4                                                                       \n2                                                    5                                                                       \n3                                                    4                                                                       \n4                                                    3                                                                       \n..                                                 ...                                                                       \n110                                                  4                                                                       \n111                                                  3                                                                       \n112                                                  2                                                                       \n113                                                  3                                                                       \n114                                                  4                                                                       \n\n[115 rows x 3 columns]",
      "text/html": "<div>\n<style scoped>\n    .dataframe tbody tr th:only-of-type {\n        vertical-align: middle;\n    }\n\n    .dataframe tbody tr th {\n        vertical-align: top;\n    }\n\n    .dataframe thead th {\n        text-align: right;\n    }\n</style>\n<table border=\"1\" class=\"dataframe\">\n  <thead>\n    <tr style=\"text-align: right;\">\n      <th></th>\n      <th>I am confident in my ability to distinguish between different eco-labels when shopping for products.</th>\n      <th>Have you ever encountered multiple eco-labels on similar products?</th>\n      <th>How often do you find it challenging to understand the environmental implications of a product based on its eco-label?</th>\n    </tr>\n  </thead>\n  <tbody>\n    <tr>\n      <th>0</th>\n      <td>5</td>\n      <td>1</td>\n      <td>5</td>\n    </tr>\n    <tr>\n      <th>1</th>\n      <td>4</td>\n      <td>0</td>\n      <td>4</td>\n    </tr>\n    <tr>\n      <th>2</th>\n      <td>1</td>\n      <td>0</td>\n      <td>5</td>\n    </tr>\n    <tr>\n      <th>3</th>\n      <td>3</td>\n      <td>1</td>\n      <td>4</td>\n    </tr>\n    <tr>\n      <th>4</th>\n      <td>3</td>\n      <td>1</td>\n      <td>3</td>\n    </tr>\n    <tr>\n      <th>...</th>\n      <td>...</td>\n      <td>...</td>\n      <td>...</td>\n    </tr>\n    <tr>\n      <th>110</th>\n      <td>3</td>\n      <td>0</td>\n      <td>4</td>\n    </tr>\n    <tr>\n      <th>111</th>\n      <td>3</td>\n      <td>0</td>\n      <td>3</td>\n    </tr>\n    <tr>\n      <th>112</th>\n      <td>5</td>\n      <td>1</td>\n      <td>2</td>\n    </tr>\n    <tr>\n      <th>113</th>\n      <td>2</td>\n      <td>1</td>\n      <td>3</td>\n    </tr>\n    <tr>\n      <th>114</th>\n      <td>4</td>\n      <td>1</td>\n      <td>4</td>\n    </tr>\n  </tbody>\n</table>\n<p>115 rows × 3 columns</p>\n</div>"
     },
     "execution_count": 29,
     "metadata": {},
     "output_type": "execute_result"
    }
   ],
   "source": [
    "###Select data for the Eco-label Perception construct\n",
    "d1 = data[['I am confident in my ability to distinguish between different eco-labels when shopping for products.',\n",
    "         'Have you ever encountered multiple eco-labels on similar products?',\n",
    "         'How often do you find it challenging to understand the environmental implications of a product based on its eco-label?']]\n",
    "d1"
   ],
   "metadata": {
    "collapsed": false,
    "ExecuteTime": {
     "end_time": "2023-11-01T19:31:48.389310500Z",
     "start_time": "2023-11-01T19:31:48.328473500Z"
    }
   },
   "id": "8480e965dbb1c765"
  },
  {
   "cell_type": "code",
   "execution_count": 30,
   "outputs": [
    {
     "data": {
      "text/plain": "     How much trust do you place in products that bear the KEBS label when it comes to quality and safety?  \\\n0                                                  4.0                                                       \n1                                                  NaN                                                       \n2                                                  NaN                                                       \n3                                                  3.0                                                       \n4                                                  3.0                                                       \n..                                                 ...                                                       \n110                                                5.0                                                       \n111                                                5.0                                                       \n112                                                5.0                                                       \n113                                                5.0                                                       \n114                                                5.0                                                       \n\n     Do you believe that products with the KEBS label are more reliable and safer than those without it?  \n0                                                    1                                                    \n1                                                    1                                                    \n2                                                    1                                                    \n3                                                    0                                                    \n4                                                    0                                                    \n..                                                 ...                                                    \n110                                                  1                                                    \n111                                                  1                                                    \n112                                                  1                                                    \n113                                                  1                                                    \n114                                                  1                                                    \n\n[115 rows x 2 columns]",
      "text/html": "<div>\n<style scoped>\n    .dataframe tbody tr th:only-of-type {\n        vertical-align: middle;\n    }\n\n    .dataframe tbody tr th {\n        vertical-align: top;\n    }\n\n    .dataframe thead th {\n        text-align: right;\n    }\n</style>\n<table border=\"1\" class=\"dataframe\">\n  <thead>\n    <tr style=\"text-align: right;\">\n      <th></th>\n      <th>How much trust do you place in products that bear the KEBS label when it comes to quality and safety?</th>\n      <th>Do you believe that products with the KEBS label are more reliable and safer than those without it?</th>\n    </tr>\n  </thead>\n  <tbody>\n    <tr>\n      <th>0</th>\n      <td>4.0</td>\n      <td>1</td>\n    </tr>\n    <tr>\n      <th>1</th>\n      <td>NaN</td>\n      <td>1</td>\n    </tr>\n    <tr>\n      <th>2</th>\n      <td>NaN</td>\n      <td>1</td>\n    </tr>\n    <tr>\n      <th>3</th>\n      <td>3.0</td>\n      <td>0</td>\n    </tr>\n    <tr>\n      <th>4</th>\n      <td>3.0</td>\n      <td>0</td>\n    </tr>\n    <tr>\n      <th>...</th>\n      <td>...</td>\n      <td>...</td>\n    </tr>\n    <tr>\n      <th>110</th>\n      <td>5.0</td>\n      <td>1</td>\n    </tr>\n    <tr>\n      <th>111</th>\n      <td>5.0</td>\n      <td>1</td>\n    </tr>\n    <tr>\n      <th>112</th>\n      <td>5.0</td>\n      <td>1</td>\n    </tr>\n    <tr>\n      <th>113</th>\n      <td>5.0</td>\n      <td>1</td>\n    </tr>\n    <tr>\n      <th>114</th>\n      <td>5.0</td>\n      <td>1</td>\n    </tr>\n  </tbody>\n</table>\n<p>115 rows × 2 columns</p>\n</div>"
     },
     "execution_count": 30,
     "metadata": {},
     "output_type": "execute_result"
    }
   ],
   "source": [
    "### Select data for the Trust construct\n",
    "d2 = data[['How much trust do you place in products that bear the KEBS label when it comes to quality and safety?','Do you believe that products with the KEBS label are more reliable and safer than those without it?']]\n",
    "d2"
   ],
   "metadata": {
    "collapsed": false,
    "ExecuteTime": {
     "end_time": "2023-11-01T19:31:48.970942400Z",
     "start_time": "2023-11-01T19:31:48.333461200Z"
    }
   },
   "id": "c49e6f541ecb2380"
  },
  {
   "cell_type": "code",
   "execution_count": 31,
   "outputs": [
    {
     "data": {
      "text/plain": "     Have you intentionally purchased products with the KEBS label because of its perceived quality and safety standards?  \\\n0                                                    1                                                                      \n1                                                    1                                                                      \n2                                                    1                                                                      \n3                                                    0                                                                      \n4                                                    0                                                                      \n..                                                 ...                                                                      \n110                                                  1                                                                      \n111                                                  1                                                                      \n112                                                  1                                                                      \n113                                                  1                                                                      \n114                                                  1                                                                      \n\n     To what extent do you associate the KEBS label with government oversight and regulation?  \\\n0                                                    3                                          \n1                                                    5                                          \n2                                                    5                                          \n3                                                    3                                          \n4                                                    4                                          \n..                                                 ...                                          \n110                                                  5                                          \n111                                                  5                                          \n112                                                  4                                          \n113                                                  4                                          \n114                                                  5                                          \n\n     How likely are you to choose a product with the KEBS label over a similar product without it?  \n0                                                    4                                              \n1                                                    5                                              \n2                                                    5                                              \n3                                                    3                                              \n4                                                    4                                              \n..                                                 ...                                              \n110                                                  5                                              \n111                                                  5                                              \n112                                                  5                                              \n113                                                  5                                              \n114                                                  5                                              \n\n[115 rows x 3 columns]",
      "text/html": "<div>\n<style scoped>\n    .dataframe tbody tr th:only-of-type {\n        vertical-align: middle;\n    }\n\n    .dataframe tbody tr th {\n        vertical-align: top;\n    }\n\n    .dataframe thead th {\n        text-align: right;\n    }\n</style>\n<table border=\"1\" class=\"dataframe\">\n  <thead>\n    <tr style=\"text-align: right;\">\n      <th></th>\n      <th>Have you intentionally purchased products with the KEBS label because of its perceived quality and safety standards?</th>\n      <th>To what extent do you associate the KEBS label with government oversight and regulation?</th>\n      <th>How likely are you to choose a product with the KEBS label over a similar product without it?</th>\n    </tr>\n  </thead>\n  <tbody>\n    <tr>\n      <th>0</th>\n      <td>1</td>\n      <td>3</td>\n      <td>4</td>\n    </tr>\n    <tr>\n      <th>1</th>\n      <td>1</td>\n      <td>5</td>\n      <td>5</td>\n    </tr>\n    <tr>\n      <th>2</th>\n      <td>1</td>\n      <td>5</td>\n      <td>5</td>\n    </tr>\n    <tr>\n      <th>3</th>\n      <td>0</td>\n      <td>3</td>\n      <td>3</td>\n    </tr>\n    <tr>\n      <th>4</th>\n      <td>0</td>\n      <td>4</td>\n      <td>4</td>\n    </tr>\n    <tr>\n      <th>...</th>\n      <td>...</td>\n      <td>...</td>\n      <td>...</td>\n    </tr>\n    <tr>\n      <th>110</th>\n      <td>1</td>\n      <td>5</td>\n      <td>5</td>\n    </tr>\n    <tr>\n      <th>111</th>\n      <td>1</td>\n      <td>5</td>\n      <td>5</td>\n    </tr>\n    <tr>\n      <th>112</th>\n      <td>1</td>\n      <td>4</td>\n      <td>5</td>\n    </tr>\n    <tr>\n      <th>113</th>\n      <td>1</td>\n      <td>4</td>\n      <td>5</td>\n    </tr>\n    <tr>\n      <th>114</th>\n      <td>1</td>\n      <td>5</td>\n      <td>5</td>\n    </tr>\n  </tbody>\n</table>\n<p>115 rows × 3 columns</p>\n</div>"
     },
     "execution_count": 31,
     "metadata": {},
     "output_type": "execute_result"
    }
   ],
   "source": [
    "#### Select data to test the Attitude Construct\n",
    "d3 = data[['Have you intentionally purchased products with the KEBS label because of its perceived quality and safety standards?','To what extent do you associate the KEBS label with government oversight and regulation?','How likely are you to choose a product with the KEBS label over a similar product without it?']]\n",
    "d3"
   ],
   "metadata": {
    "collapsed": false,
    "ExecuteTime": {
     "end_time": "2023-11-01T19:31:49.237268900Z",
     "start_time": "2023-11-01T19:31:48.785173600Z"
    }
   },
   "id": "f1f5b684e95d44d0"
  },
  {
   "cell_type": "markdown",
   "source": [
    "# Ecolabel Perception"
   ],
   "metadata": {
    "collapsed": false
   },
   "id": "b03f1f66ad0ed35b"
  },
  {
   "cell_type": "code",
   "execution_count": 32,
   "outputs": [
    {
     "data": {
      "text/plain": "     Confidence  Encounter_Multiple_Labels  Challenging_Understanding\n0             5                          1                          5\n1             4                          0                          4\n2             1                          0                          5\n3             3                          1                          4\n4             3                          1                          3\n..          ...                        ...                        ...\n110           3                          0                          4\n111           3                          0                          3\n112           5                          1                          2\n113           2                          1                          3\n114           4                          1                          4\n\n[115 rows x 3 columns]",
      "text/html": "<div>\n<style scoped>\n    .dataframe tbody tr th:only-of-type {\n        vertical-align: middle;\n    }\n\n    .dataframe tbody tr th {\n        vertical-align: top;\n    }\n\n    .dataframe thead th {\n        text-align: right;\n    }\n</style>\n<table border=\"1\" class=\"dataframe\">\n  <thead>\n    <tr style=\"text-align: right;\">\n      <th></th>\n      <th>Confidence</th>\n      <th>Encounter_Multiple_Labels</th>\n      <th>Challenging_Understanding</th>\n    </tr>\n  </thead>\n  <tbody>\n    <tr>\n      <th>0</th>\n      <td>5</td>\n      <td>1</td>\n      <td>5</td>\n    </tr>\n    <tr>\n      <th>1</th>\n      <td>4</td>\n      <td>0</td>\n      <td>4</td>\n    </tr>\n    <tr>\n      <th>2</th>\n      <td>1</td>\n      <td>0</td>\n      <td>5</td>\n    </tr>\n    <tr>\n      <th>3</th>\n      <td>3</td>\n      <td>1</td>\n      <td>4</td>\n    </tr>\n    <tr>\n      <th>4</th>\n      <td>3</td>\n      <td>1</td>\n      <td>3</td>\n    </tr>\n    <tr>\n      <th>...</th>\n      <td>...</td>\n      <td>...</td>\n      <td>...</td>\n    </tr>\n    <tr>\n      <th>110</th>\n      <td>3</td>\n      <td>0</td>\n      <td>4</td>\n    </tr>\n    <tr>\n      <th>111</th>\n      <td>3</td>\n      <td>0</td>\n      <td>3</td>\n    </tr>\n    <tr>\n      <th>112</th>\n      <td>5</td>\n      <td>1</td>\n      <td>2</td>\n    </tr>\n    <tr>\n      <th>113</th>\n      <td>2</td>\n      <td>1</td>\n      <td>3</td>\n    </tr>\n    <tr>\n      <th>114</th>\n      <td>4</td>\n      <td>1</td>\n      <td>4</td>\n    </tr>\n  </tbody>\n</table>\n<p>115 rows × 3 columns</p>\n</div>"
     },
     "execution_count": 32,
     "metadata": {},
     "output_type": "execute_result"
    }
   ],
   "source": [
    "#Rename the columns to use them easily\n",
    "d1.rename({\n",
    "    'I am confident in my ability to distinguish between different eco-labels when shopping for products.': 'Confidence',\n",
    "    'Have you ever encountered multiple eco-labels on similar products?': 'Encounter_Multiple_Labels',\n",
    "    'How often do you find it challenging to understand the environmental implications of a product based on its eco-label?': 'Challenging_Understanding'\n",
    "}, axis=1, inplace=True)\n",
    "d1"
   ],
   "metadata": {
    "collapsed": false,
    "ExecuteTime": {
     "end_time": "2023-11-01T19:31:49.237268900Z",
     "start_time": "2023-11-01T19:31:49.113599400Z"
    }
   },
   "id": "6dab7be39f786923"
  },
  {
   "cell_type": "code",
   "execution_count": 33,
   "outputs": [
    {
     "name": "stdout",
     "output_type": "stream",
     "text": [
      "Name of objective: MLW\n",
      "Optimization method: SLSQP\n",
      "Optimization successful.\n",
      "Optimization terminated successfully\n",
      "Objective value: 0.000\n",
      "Number of iterations: 15\n",
      "Params: 0.570 0.937 0.138 0.346 0.095 -0.103 0.111 -0.094 0.223\n"
     ]
    }
   ],
   "source": [
    "#Carry out CFA\n",
    "import semopy\n",
    "\n",
    "model = '''\n",
    "    # Measurement model\n",
    "    f1 =~ Confidence\n",
    "    f2 =~ Encounter_Multiple_Labels\n",
    "    f3 =~ Challenging_Understanding\n",
    "'''\n",
    "model = semopy.Model(model)\n",
    "res =model.fit(d1)\n",
    "print(res)\n",
    " "
   ],
   "metadata": {
    "collapsed": false,
    "ExecuteTime": {
     "end_time": "2023-11-01T19:31:49.600655600Z",
     "start_time": "2023-11-01T19:31:49.120580500Z"
    }
   },
   "id": "ab12d4d039a6b1b6"
  },
  {
   "cell_type": "markdown",
   "source": [
    "# Intepretation\n",
    "In Confirmatory Factor Analysis (CFA), the factor loadings represent the relationships between latent factors (in this case, your Eco-label Perception Construct) and the observed variables (the three questions). The factor loadings are standardized coefficients that indicate how much variance in the observed variables is explained by the underlying latent construct. \n",
    "\n",
    "\"I am confident in my ability to distinguish between different eco-labels when shopping for products.\"\n",
    "\n",
    "Factor Loading: 0.570\n",
    "Interpretation: The factor loading of 0.570 suggests that this question is moderately positively associated with the Eco-label Perception Construct. In other words, individuals who report higher confidence in distinguishing between eco-labels are more likely to score higher on the Eco-label Perception Construct. This question contributes significantly to the measurement of the Eco-label Perception Construct.\n",
    "\"Have you ever encountered multiple eco-labels on similar products?\"\n",
    "\n",
    "Factor Loading: 0.937\n",
    "Interpretation: The factor loading of 0.937 indicates a strong positive association between encountering multiple eco-labels and the Eco-label Perception Construct. Individuals who have encountered multiple eco-labels on similar products are more likely to have a higher score on the Eco-label Perception Construct. This question is a strong indicator of the construct.\n",
    "\"How often do you find it challenging to understand the environmental implications of a product based on its eco-label?\"\n",
    "\n",
    "Factor Loading: 0.138\n",
    "Interpretation: The factor loading of 0.138 suggests that this question is weakly positively associated with the Eco-label Perception Construct. It contributes to the measurement of the construct, but to a lesser extent compared to the other two questions. Individuals who find it challenging to understand eco-labels tend to have a slightly higher score on the Eco-label Perception Construct"
   ],
   "metadata": {
    "collapsed": false
   },
   "id": "3d170b74568482d6"
  },
  {
   "cell_type": "markdown",
   "source": [
    "## Trust Construct"
   ],
   "metadata": {
    "collapsed": false
   },
   "id": "3072efdb920ed3a4"
  },
  {
   "cell_type": "code",
   "execution_count": 34,
   "outputs": [],
   "source": [
    "# Define a dictionary to map the old column names to new short names\n",
    "column_mapping_d2 = {\n",
    "    'How much trust do you place in products that bear the KEBS label when it comes to quality and safety?': 'TrustKEBS',\n",
    "    'Do you believe that products with the KEBS label are more reliable and safer than those without it?': 'BeliefKEBS'\n",
    "}\n",
    "\n",
    "# Rename the columns\n",
    "d2 = d2.rename(columns=column_mapping_d2)"
   ],
   "metadata": {
    "collapsed": false,
    "ExecuteTime": {
     "end_time": "2023-11-01T19:31:49.870283200Z",
     "start_time": "2023-11-01T19:31:49.581710Z"
    }
   },
   "id": "d9a5a44dd196ed60"
  },
  {
   "cell_type": "code",
   "execution_count": 35,
   "outputs": [
    {
     "name": "stdout",
     "output_type": "stream",
     "text": [
      "Name of objective: MLW\n",
      "Optimization method: SLSQP\n",
      "Optimization successful.\n",
      "Optimization terminated successfully\n",
      "Objective value: 0.000\n",
      "Number of iterations: 11\n",
      "Params: 0.125 1.189 0.430 0.153 0.090\n"
     ]
    }
   ],
   "source": [
    "# Define your measurement model specifying the latent constructs and observed variables\n",
    "model2 = '''\n",
    "    # Measurement model\n",
    "    f1 =~ TrustKEBS\n",
    "    f2 =~ BeliefKEBS\n",
    "'''\n",
    "\n",
    "# Create a Model object with your specified model\n",
    "model2 = semopy.Model(model2)\n",
    "\n",
    "# Fit the CFA model to your data\n",
    "fit = model2.fit(d2)\n",
    "\n",
    "# Print the model fit results\n",
    "print(fit)\n"
   ],
   "metadata": {
    "collapsed": false,
    "ExecuteTime": {
     "end_time": "2023-11-01T19:31:50.317678500Z",
     "start_time": "2023-11-01T19:31:49.870283200Z"
    }
   },
   "id": "853a625e34ecbba3"
  },
  {
   "cell_type": "markdown",
   "source": [
    "## CFA Results for Consumer Trust Construct\n",
    "\n",
    "The objective of this analysis was to assess the Consumer Trust Construct using Confirmatory Factor Analysis (CFA). The analysis was conducted with the following parameters:\n",
    "\n",
    "Name of Objective: MLW\n",
    "Optimization Method: SLSQP\n",
    "Optimization Status: Successful\n",
    "Objective Value: 0.000\n",
    "Number of Iterations: 11\n",
    "Factor Loadings:\n",
    "\n",
    "The factor loadings for each observed variable (survey questions) associated with the Consumer Trust Construct are as follows:\n",
    "\n",
    "\"How much trust do you place in products that bear the KEBS label when it comes to quality and safety?\"\n",
    "\n",
    "Factor Loading: 0.125\n",
    "Interpretation: The factor loading of 0.125 suggests a weak positive association between this question and the Consumer Trust Construct. Individuals who place more trust in products with the KEBS label for quality and safety standards tend to have a slightly higher score on the Consumer Trust Construct. However, this question contributes to the measurement of the construct to a lesser extent.\n",
    "\n",
    "\"Do you believe that products with the KEBS label are more reliable and safer than those without it?\"\n",
    "\n",
    "Factor Loading: 1.189\n",
    "Interpretation: The factor loading of 1.189 indicates a strong positive association between this question and the Consumer Trust Construct. Individuals who believe that products with the KEBS label are more reliable and safer tend to have a significantly higher score on the Consumer Trust Construct. This question is a robust indicator of consumer trust.\n",
    "\n",
    "Conclusion:\n",
    "\n",
    "In conclusion, the CFA results reveal that the question related to the belief in products with the KEBS label being more reliable and safer strongly contributes to the measurement of the Consumer Trust Construct. This question is a powerful predictor of consumer trust. On the other hand, the question about the extent of trust in KEBS-labeled products contributes to the construct but to a lesser degree, indicating a weaker association.\n",
    "\n",
    "These findings are valuable for organizations and regulatory bodies aiming to understand and influence consumer trust in products labeled with KEBS standards\n",
    "\n",
    "\n"
   ],
   "metadata": {
    "collapsed": false
   },
   "id": "7ce9e3a390796b57"
  },
  {
   "cell_type": "markdown",
   "source": [
    "## Attitude Construct\n"
   ],
   "metadata": {
    "collapsed": false
   },
   "id": "d8425bc077df07b"
  },
  {
   "cell_type": "code",
   "execution_count": 36,
   "outputs": [
    {
     "data": {
      "text/plain": "     PurchaseKEBS  AssociationKEBS  LikelihoodKEBS\n0               1                3               4\n1               1                5               5\n2               1                5               5\n3               0                3               3\n4               0                4               4\n..            ...              ...             ...\n110             1                5               5\n111             1                5               5\n112             1                4               5\n113             1                4               5\n114             1                5               5\n\n[115 rows x 3 columns]",
      "text/html": "<div>\n<style scoped>\n    .dataframe tbody tr th:only-of-type {\n        vertical-align: middle;\n    }\n\n    .dataframe tbody tr th {\n        vertical-align: top;\n    }\n\n    .dataframe thead th {\n        text-align: right;\n    }\n</style>\n<table border=\"1\" class=\"dataframe\">\n  <thead>\n    <tr style=\"text-align: right;\">\n      <th></th>\n      <th>PurchaseKEBS</th>\n      <th>AssociationKEBS</th>\n      <th>LikelihoodKEBS</th>\n    </tr>\n  </thead>\n  <tbody>\n    <tr>\n      <th>0</th>\n      <td>1</td>\n      <td>3</td>\n      <td>4</td>\n    </tr>\n    <tr>\n      <th>1</th>\n      <td>1</td>\n      <td>5</td>\n      <td>5</td>\n    </tr>\n    <tr>\n      <th>2</th>\n      <td>1</td>\n      <td>5</td>\n      <td>5</td>\n    </tr>\n    <tr>\n      <th>3</th>\n      <td>0</td>\n      <td>3</td>\n      <td>3</td>\n    </tr>\n    <tr>\n      <th>4</th>\n      <td>0</td>\n      <td>4</td>\n      <td>4</td>\n    </tr>\n    <tr>\n      <th>...</th>\n      <td>...</td>\n      <td>...</td>\n      <td>...</td>\n    </tr>\n    <tr>\n      <th>110</th>\n      <td>1</td>\n      <td>5</td>\n      <td>5</td>\n    </tr>\n    <tr>\n      <th>111</th>\n      <td>1</td>\n      <td>5</td>\n      <td>5</td>\n    </tr>\n    <tr>\n      <th>112</th>\n      <td>1</td>\n      <td>4</td>\n      <td>5</td>\n    </tr>\n    <tr>\n      <th>113</th>\n      <td>1</td>\n      <td>4</td>\n      <td>5</td>\n    </tr>\n    <tr>\n      <th>114</th>\n      <td>1</td>\n      <td>5</td>\n      <td>5</td>\n    </tr>\n  </tbody>\n</table>\n<p>115 rows × 3 columns</p>\n</div>"
     },
     "execution_count": 36,
     "metadata": {},
     "output_type": "execute_result"
    }
   ],
   "source": [
    "column_mapping_d3 = {\n",
    "    'Have you intentionally purchased products with the KEBS label because of its perceived quality and safety standards?': 'PurchaseKEBS',\n",
    "    'To what extent do you associate the KEBS label with government oversight and regulation?': 'AssociationKEBS',\n",
    "    'How likely are you to choose a product with the KEBS label over a similar product without it?': 'LikelihoodKEBS'\n",
    "}\n",
    "\n",
    "# Rename the columns\n",
    "d3 = d3.rename(columns=column_mapping_d3)\n",
    "d3\n"
   ],
   "metadata": {
    "collapsed": false,
    "ExecuteTime": {
     "end_time": "2023-11-01T19:31:50.614812600Z",
     "start_time": "2023-11-01T19:31:50.260832300Z"
    }
   },
   "id": "6936a880c0b8b9f3"
  },
  {
   "cell_type": "code",
   "execution_count": 37,
   "outputs": [
    {
     "name": "stdout",
     "output_type": "stream",
     "text": [
      "Name of objective: MLW\n",
      "Optimization method: SLSQP\n",
      "Optimization successful.\n",
      "Optimization terminated successfully\n",
      "Objective value: 0.000\n",
      "Number of iterations: 15\n",
      "Params: 0.933 0.996 0.081 0.090 0.212 0.232 0.345 0.708 0.365\n"
     ]
    }
   ],
   "source": [
    "\n",
    "# Define your measurement model specifying the latent constructs and observed variables\n",
    "model3 = '''\n",
    "    # Measurement model\n",
    "    f1 =~ PurchaseKEBS\n",
    "    f2 =~ AssociationKEBS\n",
    "    f3 =~ LikelihoodKEBS\n",
    "'''\n",
    "\n",
    "# Create a Model object with your specified model\n",
    "model3 = semopy.Model(model3)\n",
    "\n",
    "# Fit the CFA model to your data\n",
    "fit = model3.fit(d3)\n",
    "print(fit)"
   ],
   "metadata": {
    "collapsed": false,
    "ExecuteTime": {
     "end_time": "2023-11-01T19:31:50.828229800Z",
     "start_time": "2023-11-01T19:31:50.605838Z"
    }
   },
   "id": "9ccf040ed6207e53"
  },
  {
   "cell_type": "markdown",
   "source": [
    "\n",
    "\n",
    "\n",
    "## CFA Results for Consumer Attitude Construct\n",
    "\n",
    "The objective of this analysis was to assess the Consumer Attitude Construct using Confirmatory Factor Analysis (CFA). The analysis was conducted with the following parameters:\n",
    "\n",
    "Name of Objective: MLW\n",
    "Optimization Method: SLSQP\n",
    "Optimization Status: Successful\n",
    "Objective Value: 0.000\n",
    "Number of Iterations: 15\n",
    "Factor Loadings:\n",
    "\n",
    "The factor loadings for each observed variable (survey questions) associated with the Consumer Attitude Construct are as follows:\n",
    "\n",
    "\"Have you intentionally purchased products with the KEBS label because of its perceived quality and safety standards?\"\n",
    "\n",
    "Factor Loading: 0.933\n",
    "Interpretation: The high factor loading of 0.933 suggests a strong positive association between this question and the Consumer Attitude Construct. Individuals who have intentionally purchased products with the KEBS label due to quality and safety perceptions are more likely to have a higher score on the Consumer Attitude Construct. This question is a robust indicator of consumer attitude.\n",
    "\n",
    "\"To what extent do you associate the KEBS label with government oversight and regulation?\"\n",
    "\n",
    "Factor Loading: 0.996\n",
    "Interpretation: The factor loading of 0.996 indicates a very strong positive association between this question and the Consumer Attitude Construct. Individuals who strongly associate the KEBS label with government oversight and regulation tend to have a significantly higher score on the Consumer Attitude Construct. This question is a powerful predictor of consumer attitude.\n",
    "\n",
    "\"How likely are you to choose a product with the KEBS label over a similar product without it?\"\n",
    "\n",
    "Factor Loading: 0.081\n",
    "Interpretation: The factor loading of 0.081, while positive, is notably lower compared to the other questions. This suggests that this question is only weakly associated with the Consumer Attitude Construct. It contributes to the measurement of the construct but to a much lesser extent compared to the first two questions.\n",
    "\n",
    "Conclusion:\n",
    "\n",
    "In conclusion, the CFA results indicate that the questions related to trust in products with the KEBS label and the association of KEBS with government oversight strongly contribute to the measurement of the Consumer Attitude Construct. These questions are robust indicators of consumer attitude and can be used effectively to assess the attitudes of consumers towards products labeled with KEBS standards. The third question, related to the likelihood of choosing KEBS-labeled products, contributes to the construct measurement but to a lesser degree.\n",
    "\n",
    "These findings are essential for organizations and regulatory bodies to understand and influence consumer attitudes towards product quality and safety standards."
   ],
   "metadata": {
    "collapsed": false
   },
   "id": "577f15671c9cdac9"
  },
  {
   "cell_type": "code",
   "execution_count": 37,
   "outputs": [],
   "source": [],
   "metadata": {
    "collapsed": false,
    "ExecuteTime": {
     "end_time": "2023-11-01T19:31:50.857152600Z",
     "start_time": "2023-11-01T19:31:50.677594100Z"
    }
   },
   "id": "d57261b278122e82"
  }
 ],
 "metadata": {
  "kernelspec": {
   "display_name": "Python 3",
   "language": "python",
   "name": "python3"
  },
  "language_info": {
   "codemirror_mode": {
    "name": "ipython",
    "version": 2
   },
   "file_extension": ".py",
   "mimetype": "text/x-python",
   "name": "python",
   "nbconvert_exporter": "python",
   "pygments_lexer": "ipython2",
   "version": "2.7.6"
  }
 },
 "nbformat": 4,
 "nbformat_minor": 5
}
