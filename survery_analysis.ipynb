{
 "cells": [
  {
   "cell_type": "markdown",
   "source": [
    "# Survey Analysis: Unravelling Consumer Awareness of Eco-Labels in Kenya: Assessing the Impact of Multiple Schemes and Exploring the KEBS Framework for Enhanced Sustainable Consumption"
   ],
   "metadata": {
    "collapsed": false
   },
   "id": "b916f2bcfe0c1278"
  },
  {
   "cell_type": "markdown",
   "source": [
    "In this notebook we will examine and test 3 hypotheses to help us assess the impact of multiples ecolabelling schemes on consumers in Kenya"
   ],
   "metadata": {
    "collapsed": false
   },
   "id": "83a9958fe4103ecf"
  },
  {
   "cell_type": "code",
   "execution_count": 11,
   "outputs": [
    {
     "data": {
      "text/plain": "             Timestamp  \\\n0   9/21/2023 18:44:35   \n1   9/21/2023 19:01:12   \n2   9/21/2023 19:07:56   \n3   9/21/2023 19:17:04   \n4   9/21/2023 20:01:56   \n..                 ...   \n76   9/29/2023 8:58:41   \n77   9/29/2023 9:02:53   \n78  10/1/2023 14:20:39   \n79  10/6/2023 11:55:10   \n80  10/9/2023 11:02:53   \n\n   I confirm that I have read the information above and understand that my participation is voluntary.  \\\n0                                                 Yes                                                    \n1                                                 Yes                                                    \n2                                                 Yes                                                    \n3                                                 Yes                                                    \n4                                                 Yes                                                    \n..                                                ...                                                    \n76                                                Yes                                                    \n77                                                Yes                                                    \n78                                                Yes                                                    \n79                                                Yes                                                    \n80                                                Yes                                                    \n\n   Kindly enter your email address to proceed What is your age?  \\\n0                      susanmuia128@gmail.com             18-24   \n1                    c.gichuki@alustudent.com             18-24   \n2                      eddiepkhiras@gmail.com             55-64   \n3                 kirangakariukilaw@gmail.com             25-34   \n4                      negrilson20@gmail.com              35-44   \n..                                        ...               ...   \n76                      kndirangu44@gmail.com             35-44   \n77                       gaatuomar@gmail.com              35-44   \n78                      brianomega8@gmail.com             35-44   \n79                         mcnjathi@gmail.com             25-34   \n80                     r.okoko@alustudent.com             25-34   \n\n   What is your Gender? Which region in Kenya do you currently reside in?  \\\n0                Female                                           Nairobi   \n1                Female                                           Central   \n2                  Male                                             Coast   \n3                  Male                                           Nairobi   \n4                  Male                                            Nyanza   \n..                  ...                                               ...   \n76                 Male                                             Coast   \n77                 Male                                     North Eastern   \n78                 Male                                           Nairobi   \n79                 Male                                           Nairobi   \n80                 Male                                           Nairobi   \n\n    How aware are you about the environmental issues?(1 being the lowest,5 being the highest)  \\\n0                                                   5                                           \n1                                                   5                                           \n2                                                   5                                           \n3                                                   4                                           \n4                                                   4                                           \n..                                                ...                                           \n76                                                  3                                           \n77                                                  4                                           \n78                                                  5                                           \n79                                                  3                                           \n80                                                  5                                           \n\n   Do you actively engage in environment-friendly practices in your daily life?  \\\n0                                                  No                             \n1                                                 Yes                             \n2                                                 Yes                             \n3                                                 Yes                             \n4                                                 Yes                             \n..                                                ...                             \n76                                                 No                             \n77                                                Yes                             \n78                                                Yes                             \n79                                                Yes                             \n80                                                Yes                             \n\n   I am confident in my ability to distinguish between different eco-labels when shopping for products.  \\\n0                                      Strongly Agree                                                     \n1                                               Agree                                                     \n2                                   Strongly Disagree                                                     \n3                                             Neutral                                                     \n4                                             Neutral                                                     \n..                                                ...                                                     \n76                                           Disagree                                                     \n77                                              Agree                                                     \n78                                     Strongly Agree                                                     \n79                                            Neutral                                                     \n80                                           Disagree                                                     \n\n   Have you ever encountered multiple eco-labels on similar products?  \\\n0                                                 Yes                   \n1                                                  No                   \n2                                                  No                   \n3                                                 Yes                   \n4                                                 Yes                   \n..                                                ...                   \n76                                                 No                   \n77                                                 No                   \n78                                                Yes                   \n79                                                Yes                   \n80                                                 No                   \n\n   How often do you find it challenging to understand the environmental implications of a product based on its eco-label?  \\\n0                                          Frequently                                                                       \n1                                              Rarely                                                                       \n2                                          Frequently                                                                       \n3                                              Rarely                                                                       \n4                                        Occasionally                                                                       \n..                                                ...                                                                       \n76                                             Rarely                                                                       \n77                                             Rarely                                                                       \n78                                             Rarely                                                                       \n79                                       Occasionally                                                                       \n80                                       Occasionally                                                                       \n\n   Are you familiar with the KEBS (Kenya Bureau of Standards) standard mark?  \\\n0                                                 Yes                          \n1                                                 Yes                          \n2                                                 Yes                          \n3                                                 Yes                          \n4                                                 Yes                          \n..                                                ...                          \n76                                                Yes                          \n77                                                Yes                          \n78                                                Yes                          \n79                                                Yes                          \n80                                                Yes                          \n\n   How much trust do you place in products that bear the KEBS label when it comes to quality and safety?  \\\n0                                                Some                                                      \n1                                        A grest deal                                                      \n2                                        A grest deal                                                      \n3                                              Little                                                      \n4                                              Little                                                      \n..                                                ...                                                      \n76                                           Somewhat                                                      \n77                                       A great deal                                                      \n78                                       A great deal                                                      \n79                                             Little                                                      \n80                                       A great deal                                                      \n\n   Have you intentionally purchased products with the KEBS label because of its perceived quality and safety standards?  \\\n0                                                 Yes                                                                     \n1                                                 Yes                                                                     \n2                                                 Yes                                                                     \n3                                                  No                                                                     \n4                                                  No                                                                     \n..                                                ...                                                                     \n76                                                 No                                                                     \n77                                                Yes                                                                     \n78                                                Yes                                                                     \n79                                                Yes                                                                     \n80                                                Yes                                                                     \n\n   To what extent do you associate the KEBS label with government oversight and regulation?  \\\n0                                             Neutral                                         \n1                                            Strongly                                         \n2                                            Strongly                                         \n3                                             Neutral                                         \n4                                            Somewhat                                         \n..                                                ...                                         \n76                                           Somewhat                                         \n77                                           Strongly                                         \n78                                           Strongly                                         \n79                                           Not very                                         \n80                                           Strongly                                         \n\n   Do you believe that products with the KEBS label are more reliable and safer than those without it?  \\\n0                                                 Yes                                                    \n1                                                 Yes                                                    \n2                                                 Yes                                                    \n3                                                  No                                                    \n4                                                  No                                                    \n..                                                ...                                                    \n76                                                Yes                                                    \n77                                                Yes                                                    \n78                                                Yes                                                    \n79                                                 No                                                    \n80                                                Yes                                                    \n\n   How likely are you to choose a product with the KEBS label over a similar product without it?  \n0                                     Somewhat likely                                             \n1                                         Very likely                                             \n2                                         Very likely                                             \n3                                             Neutral                                             \n4                                     Somewhat likely                                             \n..                                                ...                                             \n76                                        Very likely                                             \n77                                        Very likely                                             \n78                                        Very likely                                             \n79                                    Somewhat likely                                             \n80                                        Very likely                                             \n\n[81 rows x 17 columns]",
      "text/html": "<div>\n<style scoped>\n    .dataframe tbody tr th:only-of-type {\n        vertical-align: middle;\n    }\n\n    .dataframe tbody tr th {\n        vertical-align: top;\n    }\n\n    .dataframe thead th {\n        text-align: right;\n    }\n</style>\n<table border=\"1\" class=\"dataframe\">\n  <thead>\n    <tr style=\"text-align: right;\">\n      <th></th>\n      <th>Timestamp</th>\n      <th>I confirm that I have read the information above and understand that my participation is voluntary.</th>\n      <th>Kindly enter your email address to proceed</th>\n      <th>What is your age?</th>\n      <th>What is your Gender?</th>\n      <th>Which region in Kenya do you currently reside in?</th>\n      <th>How aware are you about the environmental issues?(1 being the lowest,5 being the highest)</th>\n      <th>Do you actively engage in environment-friendly practices in your daily life?</th>\n      <th>I am confident in my ability to distinguish between different eco-labels when shopping for products.</th>\n      <th>Have you ever encountered multiple eco-labels on similar products?</th>\n      <th>How often do you find it challenging to understand the environmental implications of a product based on its eco-label?</th>\n      <th>Are you familiar with the KEBS (Kenya Bureau of Standards) standard mark?</th>\n      <th>How much trust do you place in products that bear the KEBS label when it comes to quality and safety?</th>\n      <th>Have you intentionally purchased products with the KEBS label because of its perceived quality and safety standards?</th>\n      <th>To what extent do you associate the KEBS label with government oversight and regulation?</th>\n      <th>Do you believe that products with the KEBS label are more reliable and safer than those without it?</th>\n      <th>How likely are you to choose a product with the KEBS label over a similar product without it?</th>\n    </tr>\n  </thead>\n  <tbody>\n    <tr>\n      <th>0</th>\n      <td>9/21/2023 18:44:35</td>\n      <td>Yes</td>\n      <td>susanmuia128@gmail.com</td>\n      <td>18-24</td>\n      <td>Female</td>\n      <td>Nairobi</td>\n      <td>5</td>\n      <td>No</td>\n      <td>Strongly Agree</td>\n      <td>Yes</td>\n      <td>Frequently</td>\n      <td>Yes</td>\n      <td>Some</td>\n      <td>Yes</td>\n      <td>Neutral</td>\n      <td>Yes</td>\n      <td>Somewhat likely</td>\n    </tr>\n    <tr>\n      <th>1</th>\n      <td>9/21/2023 19:01:12</td>\n      <td>Yes</td>\n      <td>c.gichuki@alustudent.com</td>\n      <td>18-24</td>\n      <td>Female</td>\n      <td>Central</td>\n      <td>5</td>\n      <td>Yes</td>\n      <td>Agree</td>\n      <td>No</td>\n      <td>Rarely</td>\n      <td>Yes</td>\n      <td>A grest deal</td>\n      <td>Yes</td>\n      <td>Strongly</td>\n      <td>Yes</td>\n      <td>Very likely</td>\n    </tr>\n    <tr>\n      <th>2</th>\n      <td>9/21/2023 19:07:56</td>\n      <td>Yes</td>\n      <td>eddiepkhiras@gmail.com</td>\n      <td>55-64</td>\n      <td>Male</td>\n      <td>Coast</td>\n      <td>5</td>\n      <td>Yes</td>\n      <td>Strongly Disagree</td>\n      <td>No</td>\n      <td>Frequently</td>\n      <td>Yes</td>\n      <td>A grest deal</td>\n      <td>Yes</td>\n      <td>Strongly</td>\n      <td>Yes</td>\n      <td>Very likely</td>\n    </tr>\n    <tr>\n      <th>3</th>\n      <td>9/21/2023 19:17:04</td>\n      <td>Yes</td>\n      <td>kirangakariukilaw@gmail.com</td>\n      <td>25-34</td>\n      <td>Male</td>\n      <td>Nairobi</td>\n      <td>4</td>\n      <td>Yes</td>\n      <td>Neutral</td>\n      <td>Yes</td>\n      <td>Rarely</td>\n      <td>Yes</td>\n      <td>Little</td>\n      <td>No</td>\n      <td>Neutral</td>\n      <td>No</td>\n      <td>Neutral</td>\n    </tr>\n    <tr>\n      <th>4</th>\n      <td>9/21/2023 20:01:56</td>\n      <td>Yes</td>\n      <td>negrilson20@gmail.com</td>\n      <td>35-44</td>\n      <td>Male</td>\n      <td>Nyanza</td>\n      <td>4</td>\n      <td>Yes</td>\n      <td>Neutral</td>\n      <td>Yes</td>\n      <td>Occasionally</td>\n      <td>Yes</td>\n      <td>Little</td>\n      <td>No</td>\n      <td>Somewhat</td>\n      <td>No</td>\n      <td>Somewhat likely</td>\n    </tr>\n    <tr>\n      <th>...</th>\n      <td>...</td>\n      <td>...</td>\n      <td>...</td>\n      <td>...</td>\n      <td>...</td>\n      <td>...</td>\n      <td>...</td>\n      <td>...</td>\n      <td>...</td>\n      <td>...</td>\n      <td>...</td>\n      <td>...</td>\n      <td>...</td>\n      <td>...</td>\n      <td>...</td>\n      <td>...</td>\n      <td>...</td>\n    </tr>\n    <tr>\n      <th>76</th>\n      <td>9/29/2023 8:58:41</td>\n      <td>Yes</td>\n      <td>kndirangu44@gmail.com</td>\n      <td>35-44</td>\n      <td>Male</td>\n      <td>Coast</td>\n      <td>3</td>\n      <td>No</td>\n      <td>Disagree</td>\n      <td>No</td>\n      <td>Rarely</td>\n      <td>Yes</td>\n      <td>Somewhat</td>\n      <td>No</td>\n      <td>Somewhat</td>\n      <td>Yes</td>\n      <td>Very likely</td>\n    </tr>\n    <tr>\n      <th>77</th>\n      <td>9/29/2023 9:02:53</td>\n      <td>Yes</td>\n      <td>gaatuomar@gmail.com</td>\n      <td>35-44</td>\n      <td>Male</td>\n      <td>North Eastern</td>\n      <td>4</td>\n      <td>Yes</td>\n      <td>Agree</td>\n      <td>No</td>\n      <td>Rarely</td>\n      <td>Yes</td>\n      <td>A great deal</td>\n      <td>Yes</td>\n      <td>Strongly</td>\n      <td>Yes</td>\n      <td>Very likely</td>\n    </tr>\n    <tr>\n      <th>78</th>\n      <td>10/1/2023 14:20:39</td>\n      <td>Yes</td>\n      <td>brianomega8@gmail.com</td>\n      <td>35-44</td>\n      <td>Male</td>\n      <td>Nairobi</td>\n      <td>5</td>\n      <td>Yes</td>\n      <td>Strongly Agree</td>\n      <td>Yes</td>\n      <td>Rarely</td>\n      <td>Yes</td>\n      <td>A great deal</td>\n      <td>Yes</td>\n      <td>Strongly</td>\n      <td>Yes</td>\n      <td>Very likely</td>\n    </tr>\n    <tr>\n      <th>79</th>\n      <td>10/6/2023 11:55:10</td>\n      <td>Yes</td>\n      <td>mcnjathi@gmail.com</td>\n      <td>25-34</td>\n      <td>Male</td>\n      <td>Nairobi</td>\n      <td>3</td>\n      <td>Yes</td>\n      <td>Neutral</td>\n      <td>Yes</td>\n      <td>Occasionally</td>\n      <td>Yes</td>\n      <td>Little</td>\n      <td>Yes</td>\n      <td>Not very</td>\n      <td>No</td>\n      <td>Somewhat likely</td>\n    </tr>\n    <tr>\n      <th>80</th>\n      <td>10/9/2023 11:02:53</td>\n      <td>Yes</td>\n      <td>r.okoko@alustudent.com</td>\n      <td>25-34</td>\n      <td>Male</td>\n      <td>Nairobi</td>\n      <td>5</td>\n      <td>Yes</td>\n      <td>Disagree</td>\n      <td>No</td>\n      <td>Occasionally</td>\n      <td>Yes</td>\n      <td>A great deal</td>\n      <td>Yes</td>\n      <td>Strongly</td>\n      <td>Yes</td>\n      <td>Very likely</td>\n    </tr>\n  </tbody>\n</table>\n<p>81 rows × 17 columns</p>\n</div>"
     },
     "execution_count": 11,
     "metadata": {},
     "output_type": "execute_result"
    }
   ],
   "source": [
    "#import the neccesary libaries and data\n",
    "import pandas as pd\n",
    "import numpy as np\n",
    "import seaborn as sns\n",
    "data = pd.read_csv(\"data.csv\")\n",
    "data"
   ],
   "metadata": {
    "collapsed": false,
    "ExecuteTime": {
     "end_time": "2023-10-30T08:49:50.521237Z",
     "start_time": "2023-10-30T08:49:50.248467800Z"
    }
   },
   "id": "90b6378dbef3b65"
  },
  {
   "cell_type": "markdown",
   "source": [
    "# Hypothesis 1\n",
    "###   Multiple eco-labelling schemes create confusion among consumers in Kenya and fail to promote awareness of eco-friendly products effectively."
   ],
   "metadata": {
    "collapsed": false
   },
   "id": "a334915402b0108b"
  },
  {
   "cell_type": "markdown",
   "source": [
    "**Specific Question for Testing: \"How often do you find it challenging to understand the environmental implications of a product based on its eco-label?\"**\n",
    "Let's focus on one specific aspect of the hypothesis: the relationship between encountering multiple eco-labels and the challenge of understanding environmental implications.\n"
   ],
   "metadata": {
    "collapsed": false
   },
   "id": "66abcb1f711c17f7"
  },
  {
   "cell_type": "markdown",
   "source": [
    "*H0:There is no significant relationship between encountering multiple eco-labels and the frequency of finding it challenging to understand the environmental implications of a product based on its eco-label.*\n",
    "*H1:There is a significant relationship between encountering multiple eco-labels and the frequency of finding it challenging to understand the environmental implications of a product based on its eco-label*\n"
   ],
   "metadata": {
    "collapsed": false
   },
   "id": "92d1f0653b5de172"
  },
  {
   "cell_type": "code",
   "execution_count": 12,
   "outputs": [
    {
     "name": "stdout",
     "output_type": "stream",
     "text": [
      "Chi-squared statistic: 6.1537404902789525\n",
      "P-value: 0.10436533940361604\n",
      "Degrees of freedom: 3\n",
      "Expected frequencies table:\n",
      "[[ 9.33333333  2.07407407 20.22222222 10.37037037]\n",
      " [ 8.66666667  1.92592593 18.77777778  9.62962963]]\n"
     ]
    }
   ],
   "source": [
    "# Chi-squared testing\n",
    "from scipy.stats import chi2_contingency\n",
    "\n",
    "\n",
    "#Create a subset of the data from to include only the relevant questions\n",
    "d1 = data[['Have you ever encountered multiple eco-labels on similar products?','How often do you find it challenging to understand the environmental implications of a product based on its eco-label?']]\n",
    "\n",
    "# Create a contingency table\n",
    "contingency_table = pd.crosstab(d1['Have you ever encountered multiple eco-labels on similar products?'], d1['How often do you find it challenging to understand the environmental implications of a product based on its eco-label?'])\n",
    "\n",
    "# Perform the Chi-squared test\n",
    "chi2, p, dof, expected = chi2_contingency(contingency_table)\n",
    "\n",
    "# Print the results\n",
    "print(\"Chi-squared statistic:\", chi2)\n",
    "print(\"P-value:\", p)\n",
    "print(\"Degrees of freedom:\", dof)\n",
    "print(\"Expected frequencies table:\")\n",
    "print(expected)\n"
   ],
   "metadata": {
    "collapsed": false,
    "ExecuteTime": {
     "end_time": "2023-10-30T08:49:50.538503Z",
     "start_time": "2023-10-30T08:49:50.394980300Z"
    }
   },
   "id": "7559adc2e3f63ec"
  },
  {
   "cell_type": "markdown",
   "source": [
    "## Results and Interpretation at 95% Confidence\n",
    "The Chi-squared Statistic: 6.154\n",
    "\n",
    "The Chi-squared statistic measures the strength of association between the two categorical variables, which in this case are \"Encountering Multiple Eco-Labels\" and \"Challenges Understanding Eco-Labels.\"\n",
    "P-value: Approximately 0.104\n",
    "\n",
    "The p-value indicates the probability of obtaining the observed relationship (or a stronger one) between the variables by random chance, assuming there is no actual association.\n",
    "Degrees of Freedom: 3\n",
    "\n",
    "The degrees of freedom represent the number of categories or cells in the contingency table that are free to vary.\n",
    "Interpretation at a 95% Confidence Level:\n",
    "\n",
    "At a 95% confidence level, corresponding to a significance level (alpha) of 0.05, we aim to be 95% confident in our conclusions and consider the results statistically significant if the p-value is less than 0.05.\n",
    "\n",
    "The p-value we obtained is approximately 0.104, which is greater than 0.05. Therefore, there is not enough evidence to reject the null hypothesis at the 95% confidence level.\n",
    "\n",
    "Interpretation and Implications:\n",
    "\n",
    "In the context of our hypothesis, which posits that \"Multiple eco-labelling schemes create confusion among consumers in Kenya and fail to promote awareness of eco-friendly products effectively,\" the results of this analysis suggest that there is no statistically significant relationship between encountering multiple eco-labels and the frequency of finding it challenging to understand the environmental implications based on eco-labels. In other words, this specific analysis does not provide strong evidence to conclude that encountering multiple eco-labels leads to a higher frequency of challenges in understanding eco-labels.\n",
    "\n",
    "It's important to note that this result is specific to the data and analysis conducted. Several factors may influence consumer perceptions and eco-label effectiveness, and this analysis is just one piece of the puzzle. Further research and exploration of these variables may provide a more comprehensive understanding of consumer behaviors and eco-labeling schemes in Kenya.\n",
    "\n",
    "Additionally, it's worth considering that the non-significant result does not necessarily imply the absence of any effect. It could be influenced by the specific sample size, the choice of survey questions, or other external factors. Therefore, this result should be considered in conjunction with other research findings and real-world observations.\n",
    "\n",
    "By adding context and discussing the implications, your research report will provide a more comprehensive understanding of the results and their significance within the broader research landscape.\n"
   ],
   "metadata": {
    "collapsed": false
   },
   "id": "9e718aba256a37cc"
  },
  {
   "cell_type": "markdown",
   "source": [
    "# Hypothesis 2\n",
    "### How much trust do you place in products that bear the KEBS label when it comes to quality and safety?"
   ],
   "metadata": {
    "collapsed": false
   },
   "id": "f9a4f02290dee4f8"
  },
  {
   "cell_type": "markdown",
   "source": [
    "#### Specific Questions for Testing:\n",
    "\n",
    "**How much trust do you place in products that bear the KEBS label when it comes to quality and safety?**\n",
    "\n",
    "**Have you intentionally purchased products with the KEBS label because of its perceived quality and safety standards?**"
   ],
   "metadata": {
    "collapsed": false
   },
   "id": "873cf5779cd2650d"
  },
  {
   "cell_type": "markdown",
   "source": [
    "Null Hypothesis (H0): There is no significant relationship between respondents' trust in products with the KEBS label and their likelihood to intentionally purchase products with the KEBS label.\n",
    "\n",
    "Alternative Hypothesis (H1): There is a significant relationship between respondents' trust in products with the KEBS label and their likelihood to intentionally purchase products with the KEBS label"
   ],
   "metadata": {
    "collapsed": false
   },
   "id": "72c15645ccbea1b2"
  },
  {
   "cell_type": "code",
   "execution_count": 13,
   "outputs": [
    {
     "data": {
      "text/plain": "   How much trust do you place in products that bear the KEBS label when it comes to quality and safety?  \\\n0                                                Some                                                      \n1                                        A grest deal                                                      \n2                                        A grest deal                                                      \n3                                              Little                                                      \n4                                              Little                                                      \n..                                                ...                                                      \n76                                           Somewhat                                                      \n77                                       A great deal                                                      \n78                                       A great deal                                                      \n79                                             Little                                                      \n80                                       A great deal                                                      \n\n   Have you intentionally purchased products with the KEBS label because of its perceived quality and safety standards?  \n0                                                 Yes                                                                    \n1                                                 Yes                                                                    \n2                                                 Yes                                                                    \n3                                                  No                                                                    \n4                                                  No                                                                    \n..                                                ...                                                                    \n76                                                 No                                                                    \n77                                                Yes                                                                    \n78                                                Yes                                                                    \n79                                                Yes                                                                    \n80                                                Yes                                                                    \n\n[81 rows x 2 columns]",
      "text/html": "<div>\n<style scoped>\n    .dataframe tbody tr th:only-of-type {\n        vertical-align: middle;\n    }\n\n    .dataframe tbody tr th {\n        vertical-align: top;\n    }\n\n    .dataframe thead th {\n        text-align: right;\n    }\n</style>\n<table border=\"1\" class=\"dataframe\">\n  <thead>\n    <tr style=\"text-align: right;\">\n      <th></th>\n      <th>How much trust do you place in products that bear the KEBS label when it comes to quality and safety?</th>\n      <th>Have you intentionally purchased products with the KEBS label because of its perceived quality and safety standards?</th>\n    </tr>\n  </thead>\n  <tbody>\n    <tr>\n      <th>0</th>\n      <td>Some</td>\n      <td>Yes</td>\n    </tr>\n    <tr>\n      <th>1</th>\n      <td>A grest deal</td>\n      <td>Yes</td>\n    </tr>\n    <tr>\n      <th>2</th>\n      <td>A grest deal</td>\n      <td>Yes</td>\n    </tr>\n    <tr>\n      <th>3</th>\n      <td>Little</td>\n      <td>No</td>\n    </tr>\n    <tr>\n      <th>4</th>\n      <td>Little</td>\n      <td>No</td>\n    </tr>\n    <tr>\n      <th>...</th>\n      <td>...</td>\n      <td>...</td>\n    </tr>\n    <tr>\n      <th>76</th>\n      <td>Somewhat</td>\n      <td>No</td>\n    </tr>\n    <tr>\n      <th>77</th>\n      <td>A great deal</td>\n      <td>Yes</td>\n    </tr>\n    <tr>\n      <th>78</th>\n      <td>A great deal</td>\n      <td>Yes</td>\n    </tr>\n    <tr>\n      <th>79</th>\n      <td>Little</td>\n      <td>Yes</td>\n    </tr>\n    <tr>\n      <th>80</th>\n      <td>A great deal</td>\n      <td>Yes</td>\n    </tr>\n  </tbody>\n</table>\n<p>81 rows × 2 columns</p>\n</div>"
     },
     "execution_count": 13,
     "metadata": {},
     "output_type": "execute_result"
    }
   ],
   "source": [
    "d2 = data[['How much trust do you place in products that bear the KEBS label when it comes to quality and safety?','Have you intentionally purchased products with the KEBS label because of its perceived quality and safety standards?']]\n",
    "d2"
   ],
   "metadata": {
    "collapsed": false,
    "ExecuteTime": {
     "end_time": "2023-10-30T08:49:50.541636700Z",
     "start_time": "2023-10-30T08:49:50.461421500Z"
    }
   },
   "id": "994dae7e71bbb254"
  },
  {
   "cell_type": "code",
   "execution_count": 14,
   "outputs": [
    {
     "name": "stdout",
     "output_type": "stream",
     "text": [
      "Chi-squared statistic: 32.185034534033\n",
      "P-value: 5.460451677135931e-06\n",
      "Degrees of freedom: 5\n",
      "Expected frequencies table:\n",
      "[[ 5.97530864 16.02469136]\n",
      " [ 0.54320988  1.45679012]\n",
      " [ 5.97530864 16.02469136]\n",
      " [ 2.17283951  5.82716049]\n",
      " [ 0.27160494  0.72839506]\n",
      " [ 7.0617284  18.9382716 ]]\n"
     ]
    }
   ],
   "source": [
    "from scipy.stats import chi2_contingency\n",
    "\n",
    "# Create a contingency table\n",
    "contingency_table = pd.crosstab(d2['How much trust do you place in products that bear the KEBS label when it comes to quality and safety?'], d2['Have you intentionally purchased products with the KEBS label because of its perceived quality and safety standards?'])\n",
    "\n",
    "# Perform the Chi-squared test\n",
    "chi2, p, dof, expected = chi2_contingency(contingency_table)\n",
    "\n",
    "# Print the results\n",
    "print(\"Chi-squared statistic:\", chi2)\n",
    "print(\"P-value:\", p)\n",
    "print(\"Degrees of freedom:\", dof)\n",
    "print(\"Expected frequencies table:\")\n",
    "print(expected)\n"
   ],
   "metadata": {
    "collapsed": false,
    "ExecuteTime": {
     "end_time": "2023-10-30T08:49:50.555347700Z",
     "start_time": "2023-10-30T08:49:50.505951700Z"
    }
   },
   "id": "1001cd7811bcc87d"
  },
  {
   "cell_type": "markdown",
   "source": [
    "At 95% Confidence Level:\n",
    "\n",
    "With a 95% confidence level, we would typically use a significance level (alpha) of 0.05. Let's interpret the results at this level:\n",
    "\n",
    "Chi-squared Statistic: The Chi-squared statistic is approximately 32.185.\n",
    "\n",
    "This statistic measures the strength of the association between trust in products with the KEBS label and the intention to purchase products with the KEBS label.\n",
    "P-value: The p-value is approximately 5.46e-06, which is very close to zero.\n",
    "\n",
    "A p-value of 5.46e-06 is much less than 0.05 (the significance level for a 95% confidence level). This indicates a highly significant relationship.\n",
    "Interpretation at 95% Confidence:\n",
    "\n",
    "At a 95% confidence level, the results provide strong evidence to reject the null hypothesis. This suggests that there is a significant relationship between respondents' trust in products with the KEBS label and their intention to purchase products with the KEBS label. In the context of our hypothesis, this would indicate that trust in KEBS-labeled products is related to the intention to purchase such products.\n",
    "\n",
    "At 90% Confidence Level:\n",
    "\n",
    "With a 90% confidence level, we would typically use a significance level (alpha) of 0.10. Let's interpret the results at this level:\n",
    "\n",
    "Chi-squared Statistic: The Chi-squared statistic remains approximately 32.185.\n",
    "\n",
    "P-value: The p-value remains approximately 5.46e-06.\n",
    "\n",
    "Interpretation at 90% Confidence:\n",
    "\n",
    "At a 90% confidence level, the results still provide very strong evidence to reject the null hypothesis. This indicates a highly significant relationship, similar to what was observed at the 95% confidence level.\n",
    "\n",
    "Summary:\n",
    "\n",
    "In both cases, at both the 95% and 90% confidence levels, the results strongly support the alternative hypothesis, suggesting a significant relationship between trust in products with the KEBS label and the intention to purchase products with the KEBS label. This finding is consistent with the hypothesis that trust in KEBS-labeled products affects the intention to purchase them."
   ],
   "metadata": {
    "collapsed": false
   },
   "id": "16dd7e9201cfde50"
  },
  {
   "cell_type": "markdown",
   "source": [
    "# Hypothesis 3: To what extent do you associate the KEBS label with government oversight and regulation?\n"
   ],
   "metadata": {
    "collapsed": false
   },
   "id": "fdadf1fd5101c391"
  },
  {
   "cell_type": "markdown",
   "source": [
    "Specific Questions for Testing:\n",
    "\n",
    "\"To what extent do you associate the KEBS label with government oversight and regulation?\"\n",
    "\n",
    "\"Do you believe that products with the KEBS label are more reliable and safer than those without it?\""
   ],
   "metadata": {
    "collapsed": false
   },
   "id": "7a173e1aaaa5d696"
  },
  {
   "cell_type": "markdown",
   "source": [
    "Null Hypothesis (H0): There is no significant relationship between respondents' association of the KEBS label with government oversight and regulation and their belief in the reliability and safety of products with the KEBS label.\n",
    "\n",
    "Alternative Hypothesis (H1): There is a significant relationship between respondents' association of the KEBS label with government oversight and regulation and their belief in the reliability and safety of products with the KEBS label."
   ],
   "metadata": {
    "collapsed": false
   },
   "id": "e2f783f0714b2aa1"
  },
  {
   "cell_type": "code",
   "execution_count": 15,
   "outputs": [
    {
     "data": {
      "text/plain": "   To what extent do you associate the KEBS label with government oversight and regulation?  \\\n0                                             Neutral                                         \n1                                            Strongly                                         \n2                                            Strongly                                         \n3                                             Neutral                                         \n4                                            Somewhat                                         \n..                                                ...                                         \n76                                           Somewhat                                         \n77                                           Strongly                                         \n78                                           Strongly                                         \n79                                           Not very                                         \n80                                           Strongly                                         \n\n   Do you believe that products with the KEBS label are more reliable and safer than those without it?  \n0                                                 Yes                                                   \n1                                                 Yes                                                   \n2                                                 Yes                                                   \n3                                                  No                                                   \n4                                                  No                                                   \n..                                                ...                                                   \n76                                                Yes                                                   \n77                                                Yes                                                   \n78                                                Yes                                                   \n79                                                 No                                                   \n80                                                Yes                                                   \n\n[81 rows x 2 columns]",
      "text/html": "<div>\n<style scoped>\n    .dataframe tbody tr th:only-of-type {\n        vertical-align: middle;\n    }\n\n    .dataframe tbody tr th {\n        vertical-align: top;\n    }\n\n    .dataframe thead th {\n        text-align: right;\n    }\n</style>\n<table border=\"1\" class=\"dataframe\">\n  <thead>\n    <tr style=\"text-align: right;\">\n      <th></th>\n      <th>To what extent do you associate the KEBS label with government oversight and regulation?</th>\n      <th>Do you believe that products with the KEBS label are more reliable and safer than those without it?</th>\n    </tr>\n  </thead>\n  <tbody>\n    <tr>\n      <th>0</th>\n      <td>Neutral</td>\n      <td>Yes</td>\n    </tr>\n    <tr>\n      <th>1</th>\n      <td>Strongly</td>\n      <td>Yes</td>\n    </tr>\n    <tr>\n      <th>2</th>\n      <td>Strongly</td>\n      <td>Yes</td>\n    </tr>\n    <tr>\n      <th>3</th>\n      <td>Neutral</td>\n      <td>No</td>\n    </tr>\n    <tr>\n      <th>4</th>\n      <td>Somewhat</td>\n      <td>No</td>\n    </tr>\n    <tr>\n      <th>...</th>\n      <td>...</td>\n      <td>...</td>\n    </tr>\n    <tr>\n      <th>76</th>\n      <td>Somewhat</td>\n      <td>Yes</td>\n    </tr>\n    <tr>\n      <th>77</th>\n      <td>Strongly</td>\n      <td>Yes</td>\n    </tr>\n    <tr>\n      <th>78</th>\n      <td>Strongly</td>\n      <td>Yes</td>\n    </tr>\n    <tr>\n      <th>79</th>\n      <td>Not very</td>\n      <td>No</td>\n    </tr>\n    <tr>\n      <th>80</th>\n      <td>Strongly</td>\n      <td>Yes</td>\n    </tr>\n  </tbody>\n</table>\n<p>81 rows × 2 columns</p>\n</div>"
     },
     "execution_count": 15,
     "metadata": {},
     "output_type": "execute_result"
    }
   ],
   "source": [
    "#Select the relevant columns\n",
    "d3 = data[['To what extent do you associate the KEBS label with government oversight and regulation?','Do you believe that products with the KEBS label are more reliable and safer than those without it?']]\n",
    "d3"
   ],
   "metadata": {
    "collapsed": false,
    "ExecuteTime": {
     "end_time": "2023-10-30T08:49:50.698574500Z",
     "start_time": "2023-10-30T08:49:50.554091Z"
    }
   },
   "id": "b5dab407806b5959"
  },
  {
   "cell_type": "code",
   "execution_count": 16,
   "outputs": [
    {
     "name": "stdout",
     "output_type": "stream",
     "text": [
      "Chi-squared statistic: 30.351315789473684\n",
      "P-value: 4.151045276326365e-06\n",
      "Degrees of freedom: 4\n",
      "Expected frequencies table:\n",
      "[[ 4.66666667  9.33333333]\n",
      " [ 0.66666667  1.33333333]\n",
      " [ 3.33333333  6.66666667]\n",
      " [ 6.33333333 12.66666667]\n",
      " [12.         24.        ]]\n"
     ]
    }
   ],
   "source": [
    "\n",
    "# Create a contingency table\n",
    "contingency_table = pd.crosstab(d3['To what extent do you associate the KEBS label with government oversight and regulation?'], d3['Do you believe that products with the KEBS label are more reliable and safer than those without it?'])\n",
    "\n",
    "# Perform the Chi-squared test\n",
    "chi2, p, dof, expected = chi2_contingency(contingency_table)\n",
    "\n",
    "# Print the results\n",
    "print(\"Chi-squared statistic:\", chi2)\n",
    "print(\"P-value:\", p)\n",
    "print(\"Degrees of freedom:\", dof)\n",
    "print(\"Expected frequencies table:\")\n",
    "print(expected)\n"
   ],
   "metadata": {
    "collapsed": false,
    "ExecuteTime": {
     "end_time": "2023-10-30T08:49:50.812739100Z",
     "start_time": "2023-10-30T08:49:50.568229400Z"
    }
   },
   "id": "49808549f21cd30"
  },
  {
   "cell_type": "markdown",
   "source": [
    "**Results and Intepration**\n",
    "\n",
    "At 95% Confidence Level:\n",
    "\n",
    "With a 95% confidence level, we would typically use a significance level (alpha) of 0.05. Let's interpret the results at this level:\n",
    "\n",
    "Chi-squared Statistic: The Chi-squared statistic is approximately 30.351.\n",
    "\n",
    "P-value: The p-value is approximately 4.15e-06, which is very close to zero.\n",
    "\n",
    "Interpretation at 95% Confidence:\n",
    "\n",
    "At a 95% confidence level, the results provide strong evidence to reject the null hypothesis. This suggests that there is a significant relationship between respondents' association of the KEBS label with government oversight and regulation and their belief in the reliability and safety of products with the KEBS label.\n",
    "\n",
    "At 90% Confidence Level:\n",
    "\n",
    "With a 90% confidence level, we would typically use a significance level (alpha) of 0.10. Let's interpret the results at this level:\n",
    "\n",
    "Chi-squared Statistic: The Chi-squared statistic remains approximately 30.351.\n",
    "\n",
    "P-value: The p-value remains approximately 4.15e-06.\n",
    "\n",
    "Interpretation at 90% Confidence:\n",
    "\n",
    "At a 90% confidence level, the results still provide very strong evidence to reject the null hypothesis. This indicates a highly significant relationship, similar to what was observed at the 95% confidence level.\n",
    "\n",
    "Summary:\n",
    "\n",
    "In both cases, at both the 95% and 90% confidence levels, the results strongly support the alternative hypothesis. This finding suggests a significant relationship between respondents' association of the KEBS label with government oversight and regulation and their belief in the reliability and safety of products with the KEBS label. The evidence is consistent with the hypothesis that such association influences perceptions of product reliability and safety"
   ],
   "metadata": {
    "collapsed": false
   },
   "id": "f44fed1e2e0c0cda"
  },
  {
   "cell_type": "markdown",
   "source": [
    "# Justification for Using the Chi-squared Test:\n",
    "\n",
    "The Chi-squared test is suitable for your hypotheses for the following reasons:\n",
    "\n",
    "Categorical Data: The survey responses are largely categorical in nature. The Chi-squared test is designed for the analysis of categorical data and can assess associations between categorical variables.\n",
    "\n",
    "Independence Testing: The Chi-squared test assesses the independence of two categorical variables. It's particularly well-suited for testing whether there's a significant relationship between the categorical variables in your hypotheses.\n",
    "\n",
    "Hypothesis-Driven: Your hypotheses involve relationships between categorical variables, making the Chi-squared test a hypothesis-driven choice.\n",
    "\n",
    "Chi-squared Test of Independence: For your hypotheses related to associations and relationships among categorical variables, the Chi-squared test of independence is a commonly used and straightforward statistical test.\n",
    "\n",
    "While other tests can be valuable for different types of data and hypotheses, the Chi-squared test aligns with the nature of your survey questions and the specific relationships you want to investigat"
   ],
   "metadata": {
    "collapsed": false
   },
   "id": "ed241d29ec440a8"
  },
  {
   "cell_type": "code",
   "execution_count": 16,
   "outputs": [],
   "source": [],
   "metadata": {
    "collapsed": false,
    "ExecuteTime": {
     "end_time": "2023-10-30T08:49:50.871880900Z",
     "start_time": "2023-10-30T08:49:50.609339100Z"
    }
   },
   "id": "f72ec985fe02634f"
  }
 ],
 "metadata": {
  "kernelspec": {
   "display_name": "Python 3",
   "language": "python",
   "name": "python3"
  },
  "language_info": {
   "codemirror_mode": {
    "name": "ipython",
    "version": 2
   },
   "file_extension": ".py",
   "mimetype": "text/x-python",
   "name": "python",
   "nbconvert_exporter": "python",
   "pygments_lexer": "ipython2",
   "version": "2.7.6"
  }
 },
 "nbformat": 4,
 "nbformat_minor": 5
}
