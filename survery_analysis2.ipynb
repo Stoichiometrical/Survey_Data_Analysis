{
 "cells": [
  {
   "cell_type": "markdown",
   "source": [
    "# Survey Analysis: Unravelling Consumer Awareness of Eco-Labels in Kenya: Assessing the Impact of Multiple Schemes and Exploring the KEBS Framework for Enhanced Sustainable Consumption"
   ],
   "metadata": {
    "collapsed": false
   },
   "id": "b916f2bcfe0c1278"
  },
  {
   "cell_type": "markdown",
   "source": [
    "In this notebook we will examine and test 3 hypotheses to help us assess the impact of multiples ecolabelling schemes on consumers in Kenya"
   ],
   "metadata": {
    "collapsed": false
   },
   "id": "83a9958fe4103ecf"
  },
  {
   "cell_type": "code",
   "execution_count": 1,
   "outputs": [],
   "source": [
    "#import the neccesary libaries and data\n",
    "import pandas as pd\n",
    "import numpy as np\n",
    "import seaborn as sns\n",
    "data = pd.read_csv(\"df.csv\")"
   ],
   "metadata": {
    "collapsed": false,
    "ExecuteTime": {
     "end_time": "2023-10-31T16:43:52.482046400Z",
     "start_time": "2023-10-31T16:43:51.995602100Z"
    }
   },
   "id": "90b6378dbef3b65"
  },
  {
   "cell_type": "code",
   "execution_count": 2,
   "outputs": [
    {
     "data": {
      "text/plain": "    I confirm that I have read the information above and understand that my participation is voluntary.  \\\n0                                                  Yes                                                    \n1                                                  Yes                                                    \n2                                                  Yes                                                    \n3                                                  Yes                                                    \n4                                                  Yes                                                    \n..                                                 ...                                                    \n110                                                Yes                                                    \n111                                                Yes                                                    \n112                                                Yes                                                    \n113                                                Yes                                                    \n114                                                Yes                                                    \n\n    Kindly enter your email address to proceed What is your age?  \\\n0                       susanmuia128@gmail.com             18-24   \n1                     c.gichuki@alustudent.com             18-24   \n2                       eddiepkhiras@gmail.com             55-64   \n3                  kirangakariukilaw@gmail.com             25-34   \n4                       negrilson20@gmail.com              35-44   \n..                                         ...               ...   \n110                     c.owino@alustudent.com             18-24   \n111                    harrylloyd.lh@gmail.com             18-24   \n112                       mabwapeter@gmail.com             18-24   \n113                       rosesuja45@gmail.com             35-44   \n114                   francissteven1@gmail.com             25-34   \n\n    What is your Gender? Which region in Kenya do you currently reside in?  \\\n0                 Female                                           Nairobi   \n1                 Female                                           Central   \n2                   Male                                             Coast   \n3                   Male                                           Nairobi   \n4                   Male                                            Nyanza   \n..                   ...                                               ...   \n110               Female                                           Nairobi   \n111                 Male                                           Nairobi   \n112                  NaN                                           Nairobi   \n113               Female                                             Coast   \n114                 Male                                             Coast   \n\n     How aware are you about the environmental issues?(1 being the lowest,5 being the highest)  \\\n0                                                    5                                           \n1                                                    5                                           \n2                                                    5                                           \n3                                                    4                                           \n4                                                    4                                           \n..                                                 ...                                           \n110                                                  4                                           \n111                                                  4                                           \n112                                                  5                                           \n113                                                  3                                           \n114                                                  4                                           \n\n    Do you actively engage in environment-friendly practices in your daily life?  \\\n0                                                   No                             \n1                                                  Yes                             \n2                                                  Yes                             \n3                                                  Yes                             \n4                                                  Yes                             \n..                                                 ...                             \n110                                                Yes                             \n111                                                Yes                             \n112                                                Yes                             \n113                                                Yes                             \n114                                                Yes                             \n\n    I am confident in my ability to distinguish between different eco-labels when shopping for products.  \\\n0                                       Strongly Agree                                                     \n1                                                Agree                                                     \n2                                    Strongly Disagree                                                     \n3                                              Neutral                                                     \n4                                              Neutral                                                     \n..                                                 ...                                                     \n110                                            Neutral                                                     \n111                                            Neutral                                                     \n112                                     Strongly Agree                                                     \n113                                           Disagree                                                     \n114                                              Agree                                                     \n\n    Have you ever encountered multiple eco-labels on similar products?  \\\n0                                                  Yes                   \n1                                                   No                   \n2                                                   No                   \n3                                                  Yes                   \n4                                                  Yes                   \n..                                                 ...                   \n110                                                 No                   \n111                                                 No                   \n112                                                Yes                   \n113                                                Yes                   \n114                                                Yes                   \n\n    How often do you find it challenging to understand the environmental implications of a product based on its eco-label?  \\\n0                                           Frequently                                                                       \n1                                               Rarely                                                                       \n2                                           Frequently                                                                       \n3                                               Rarely                                                                       \n4                                         Occasionally                                                                       \n..                                                 ...                                                                       \n110                                             Rarely                                                                       \n111                                       Occasionally                                                                       \n112                                              Never                                                                       \n113                                       Occasionally                                                                       \n114                                             Rarely                                                                       \n\n    Are you familiar with the KEBS (Kenya Bureau of Standards) standard mark?  \\\n0                                                  Yes                          \n1                                                  Yes                          \n2                                                  Yes                          \n3                                                  Yes                          \n4                                                  Yes                          \n..                                                 ...                          \n110                                                Yes                          \n111                                                Yes                          \n112                                                Yes                          \n113                                                Yes                          \n114                                                Yes                          \n\n    How much trust do you place in products that bear the KEBS label when it comes to quality and safety?  \\\n0                                                 Some                                                      \n1                                         A grest deal                                                      \n2                                         A grest deal                                                      \n3                                               Little                                                      \n4                                               Little                                                      \n..                                                 ...                                                      \n110                                       A great deal                                                      \n111                                       A great deal                                                      \n112                                       A great deal                                                      \n113                                       A great deal                                                      \n114                                       A great deal                                                      \n\n    Have you intentionally purchased products with the KEBS label because of its perceived quality and safety standards?  \\\n0                                                  Yes                                                                     \n1                                                  Yes                                                                     \n2                                                  Yes                                                                     \n3                                                   No                                                                     \n4                                                   No                                                                     \n..                                                 ...                                                                     \n110                                                Yes                                                                     \n111                                                Yes                                                                     \n112                                                Yes                                                                     \n113                                                Yes                                                                     \n114                                                Yes                                                                     \n\n    To what extent do you associate the KEBS label with government oversight and regulation?  \\\n0                                              Neutral                                         \n1                                             Strongly                                         \n2                                             Strongly                                         \n3                                              Neutral                                         \n4                                             Somewhat                                         \n..                                                 ...                                         \n110                                           Strongly                                         \n111                                           Strongly                                         \n112                                           Somewhat                                         \n113                                           Somewhat                                         \n114                                           Strongly                                         \n\n    Do you believe that products with the KEBS label are more reliable and safer than those without it?  \\\n0                                                  Yes                                                    \n1                                                  Yes                                                    \n2                                                  Yes                                                    \n3                                                   No                                                    \n4                                                   No                                                    \n..                                                 ...                                                    \n110                                                Yes                                                    \n111                                                Yes                                                    \n112                                                Yes                                                    \n113                                                Yes                                                    \n114                                                Yes                                                    \n\n    How likely are you to choose a product with the KEBS label over a similar product without it?  \n0                                      Somewhat likely                                             \n1                                          Very likely                                             \n2                                          Very likely                                             \n3                                              Neutral                                             \n4                                      Somewhat likely                                             \n..                                                 ...                                             \n110                                        Very likely                                             \n111                                        Very likely                                             \n112                                        Very likely                                             \n113                                        Very likely                                             \n114                                        Very likely                                             \n\n[115 rows x 16 columns]",
      "text/html": "<div>\n<style scoped>\n    .dataframe tbody tr th:only-of-type {\n        vertical-align: middle;\n    }\n\n    .dataframe tbody tr th {\n        vertical-align: top;\n    }\n\n    .dataframe thead th {\n        text-align: right;\n    }\n</style>\n<table border=\"1\" class=\"dataframe\">\n  <thead>\n    <tr style=\"text-align: right;\">\n      <th></th>\n      <th>I confirm that I have read the information above and understand that my participation is voluntary.</th>\n      <th>Kindly enter your email address to proceed</th>\n      <th>What is your age?</th>\n      <th>What is your Gender?</th>\n      <th>Which region in Kenya do you currently reside in?</th>\n      <th>How aware are you about the environmental issues?(1 being the lowest,5 being the highest)</th>\n      <th>Do you actively engage in environment-friendly practices in your daily life?</th>\n      <th>I am confident in my ability to distinguish between different eco-labels when shopping for products.</th>\n      <th>Have you ever encountered multiple eco-labels on similar products?</th>\n      <th>How often do you find it challenging to understand the environmental implications of a product based on its eco-label?</th>\n      <th>Are you familiar with the KEBS (Kenya Bureau of Standards) standard mark?</th>\n      <th>How much trust do you place in products that bear the KEBS label when it comes to quality and safety?</th>\n      <th>Have you intentionally purchased products with the KEBS label because of its perceived quality and safety standards?</th>\n      <th>To what extent do you associate the KEBS label with government oversight and regulation?</th>\n      <th>Do you believe that products with the KEBS label are more reliable and safer than those without it?</th>\n      <th>How likely are you to choose a product with the KEBS label over a similar product without it?</th>\n    </tr>\n  </thead>\n  <tbody>\n    <tr>\n      <th>0</th>\n      <td>Yes</td>\n      <td>susanmuia128@gmail.com</td>\n      <td>18-24</td>\n      <td>Female</td>\n      <td>Nairobi</td>\n      <td>5</td>\n      <td>No</td>\n      <td>Strongly Agree</td>\n      <td>Yes</td>\n      <td>Frequently</td>\n      <td>Yes</td>\n      <td>Some</td>\n      <td>Yes</td>\n      <td>Neutral</td>\n      <td>Yes</td>\n      <td>Somewhat likely</td>\n    </tr>\n    <tr>\n      <th>1</th>\n      <td>Yes</td>\n      <td>c.gichuki@alustudent.com</td>\n      <td>18-24</td>\n      <td>Female</td>\n      <td>Central</td>\n      <td>5</td>\n      <td>Yes</td>\n      <td>Agree</td>\n      <td>No</td>\n      <td>Rarely</td>\n      <td>Yes</td>\n      <td>A grest deal</td>\n      <td>Yes</td>\n      <td>Strongly</td>\n      <td>Yes</td>\n      <td>Very likely</td>\n    </tr>\n    <tr>\n      <th>2</th>\n      <td>Yes</td>\n      <td>eddiepkhiras@gmail.com</td>\n      <td>55-64</td>\n      <td>Male</td>\n      <td>Coast</td>\n      <td>5</td>\n      <td>Yes</td>\n      <td>Strongly Disagree</td>\n      <td>No</td>\n      <td>Frequently</td>\n      <td>Yes</td>\n      <td>A grest deal</td>\n      <td>Yes</td>\n      <td>Strongly</td>\n      <td>Yes</td>\n      <td>Very likely</td>\n    </tr>\n    <tr>\n      <th>3</th>\n      <td>Yes</td>\n      <td>kirangakariukilaw@gmail.com</td>\n      <td>25-34</td>\n      <td>Male</td>\n      <td>Nairobi</td>\n      <td>4</td>\n      <td>Yes</td>\n      <td>Neutral</td>\n      <td>Yes</td>\n      <td>Rarely</td>\n      <td>Yes</td>\n      <td>Little</td>\n      <td>No</td>\n      <td>Neutral</td>\n      <td>No</td>\n      <td>Neutral</td>\n    </tr>\n    <tr>\n      <th>4</th>\n      <td>Yes</td>\n      <td>negrilson20@gmail.com</td>\n      <td>35-44</td>\n      <td>Male</td>\n      <td>Nyanza</td>\n      <td>4</td>\n      <td>Yes</td>\n      <td>Neutral</td>\n      <td>Yes</td>\n      <td>Occasionally</td>\n      <td>Yes</td>\n      <td>Little</td>\n      <td>No</td>\n      <td>Somewhat</td>\n      <td>No</td>\n      <td>Somewhat likely</td>\n    </tr>\n    <tr>\n      <th>...</th>\n      <td>...</td>\n      <td>...</td>\n      <td>...</td>\n      <td>...</td>\n      <td>...</td>\n      <td>...</td>\n      <td>...</td>\n      <td>...</td>\n      <td>...</td>\n      <td>...</td>\n      <td>...</td>\n      <td>...</td>\n      <td>...</td>\n      <td>...</td>\n      <td>...</td>\n      <td>...</td>\n    </tr>\n    <tr>\n      <th>110</th>\n      <td>Yes</td>\n      <td>c.owino@alustudent.com</td>\n      <td>18-24</td>\n      <td>Female</td>\n      <td>Nairobi</td>\n      <td>4</td>\n      <td>Yes</td>\n      <td>Neutral</td>\n      <td>No</td>\n      <td>Rarely</td>\n      <td>Yes</td>\n      <td>A great deal</td>\n      <td>Yes</td>\n      <td>Strongly</td>\n      <td>Yes</td>\n      <td>Very likely</td>\n    </tr>\n    <tr>\n      <th>111</th>\n      <td>Yes</td>\n      <td>harrylloyd.lh@gmail.com</td>\n      <td>18-24</td>\n      <td>Male</td>\n      <td>Nairobi</td>\n      <td>4</td>\n      <td>Yes</td>\n      <td>Neutral</td>\n      <td>No</td>\n      <td>Occasionally</td>\n      <td>Yes</td>\n      <td>A great deal</td>\n      <td>Yes</td>\n      <td>Strongly</td>\n      <td>Yes</td>\n      <td>Very likely</td>\n    </tr>\n    <tr>\n      <th>112</th>\n      <td>Yes</td>\n      <td>mabwapeter@gmail.com</td>\n      <td>18-24</td>\n      <td>NaN</td>\n      <td>Nairobi</td>\n      <td>5</td>\n      <td>Yes</td>\n      <td>Strongly Agree</td>\n      <td>Yes</td>\n      <td>Never</td>\n      <td>Yes</td>\n      <td>A great deal</td>\n      <td>Yes</td>\n      <td>Somewhat</td>\n      <td>Yes</td>\n      <td>Very likely</td>\n    </tr>\n    <tr>\n      <th>113</th>\n      <td>Yes</td>\n      <td>rosesuja45@gmail.com</td>\n      <td>35-44</td>\n      <td>Female</td>\n      <td>Coast</td>\n      <td>3</td>\n      <td>Yes</td>\n      <td>Disagree</td>\n      <td>Yes</td>\n      <td>Occasionally</td>\n      <td>Yes</td>\n      <td>A great deal</td>\n      <td>Yes</td>\n      <td>Somewhat</td>\n      <td>Yes</td>\n      <td>Very likely</td>\n    </tr>\n    <tr>\n      <th>114</th>\n      <td>Yes</td>\n      <td>francissteven1@gmail.com</td>\n      <td>25-34</td>\n      <td>Male</td>\n      <td>Coast</td>\n      <td>4</td>\n      <td>Yes</td>\n      <td>Agree</td>\n      <td>Yes</td>\n      <td>Rarely</td>\n      <td>Yes</td>\n      <td>A great deal</td>\n      <td>Yes</td>\n      <td>Strongly</td>\n      <td>Yes</td>\n      <td>Very likely</td>\n    </tr>\n  </tbody>\n</table>\n<p>115 rows × 16 columns</p>\n</div>"
     },
     "execution_count": 2,
     "metadata": {},
     "output_type": "execute_result"
    }
   ],
   "source": [
    "data.drop('Timestamp',axis=1,inplace=True)\n",
    "data"
   ],
   "metadata": {
    "collapsed": false,
    "ExecuteTime": {
     "end_time": "2023-10-31T16:44:13.054017400Z",
     "start_time": "2023-10-31T16:44:12.444184500Z"
    }
   },
   "id": "9ca72d7918a0a55d"
  },
  {
   "cell_type": "code",
   "execution_count": 21,
   "outputs": [
    {
     "data": {
      "text/plain": "Index(['I confirm that I have read the information above and understand that my participation is voluntary.',\n       'Kindly enter your email address to proceed', 'What is your age?',\n       'What is your Gender?',\n       'Which region in Kenya do you currently reside in?',\n       'How aware are you about the environmental issues?(1 being the lowest,5 being the highest)',\n       'Do you actively engage in environment-friendly practices in your daily life?',\n       'I am confident in my ability to distinguish between different eco-labels when shopping for products.',\n       'Have you ever encountered multiple eco-labels on similar products?',\n       'How often do you find it challenging to understand the environmental implications of a product based on its eco-label?',\n       'Are you familiar with the KEBS (Kenya Bureau of Standards) standard mark?',\n       'How much trust do you place in products that bear the KEBS label when it comes to quality and safety?',\n       'Have you intentionally purchased products with the KEBS label because of its perceived quality and safety standards?',\n       'To what extent do you associate the KEBS label with government oversight and regulation?',\n       'Do you believe that products with the KEBS label are more reliable and safer than those without it?',\n       'How likely are you to choose a product with the KEBS label over a similar product without it?'],\n      dtype='object')"
     },
     "execution_count": 21,
     "metadata": {},
     "output_type": "execute_result"
    }
   ],
   "source": [
    "data.columns"
   ],
   "metadata": {
    "collapsed": false,
    "ExecuteTime": {
     "start_time": "2023-10-30T20:09:11.335130900Z"
    }
   },
   "id": "7ee6b58d3d310aca"
  },
  {
   "cell_type": "markdown",
   "source": [
    "# Hypothesis 1\n",
    "###   Multiple eco-labelling schemes create confusion among consumers in Kenya and fail to promote awareness of eco-friendly products effectively."
   ],
   "metadata": {
    "collapsed": false
   },
   "id": "a334915402b0108b"
  },
  {
   "cell_type": "markdown",
   "source": [
    "**Specific Question for Testing: \"How often do you find it challenging to understand the environmental implications of a product based on its eco-label?\"**\n",
    "Let's focus on one specific aspect of the hypothesis: the relationship between encountering multiple eco-labels and the challenge of understanding environmental implications.\n"
   ],
   "metadata": {
    "collapsed": false
   },
   "id": "66abcb1f711c17f7"
  },
  {
   "cell_type": "markdown",
   "source": [
    "*H0:There is no significant relationship between encountering multiple eco-labels and the frequency of finding it challenging to understand the environmental implications of a product based on its eco-label.*\n",
    "*H1:There is a significant relationship between encountering multiple eco-labels and the frequency of finding it challenging to understand the environmental implications of a product based on its eco-label*\n"
   ],
   "metadata": {
    "collapsed": false
   },
   "id": "92d1f0653b5de172"
  },
  {
   "cell_type": "code",
   "execution_count": 22,
   "outputs": [
    {
     "name": "stdout",
     "output_type": "stream",
     "text": [
      "Chi-squared statistic: 23.63667614670904\n",
      "P-value: 0.022782117697544485\n",
      "Degrees of freedom: 12\n",
      "Expected frequencies table:\n",
      "[[ 9.13043478  1.52173913 14.60869565  9.73913043]\n",
      " [ 4.69565217  0.7826087   7.51304348  5.00869565]\n",
      " [ 9.91304348  1.65217391 15.86086957 10.57391304]\n",
      " [ 2.86956522  0.47826087  4.59130435  3.06086957]\n",
      " [ 3.39130435  0.56521739  5.42608696  3.6173913 ]]\n"
     ]
    }
   ],
   "source": [
    "# Chi-squared testing\n",
    "from scipy.stats import chi2_contingency\n",
    "\n",
    "\n",
    "#Create a subset of the data from to include only the relevant questions\n",
    "d1 = data[['I am confident in my ability to distinguish between different eco-labels when shopping for products.','How often do you find it challenging to understand the environmental implications of a product based on its eco-label?']]\n",
    "\n",
    "# Create a contingency table\n",
    "contingency_table = pd.crosstab(d1['I am confident in my ability to distinguish between different eco-labels when shopping for products.'], d1['How often do you find it challenging to understand the environmental implications of a product based on its eco-label?'])\n",
    "\n",
    "# Perform the Chi-squared test\n",
    "chi2, p, dof, expected = chi2_contingency(contingency_table)\n",
    "\n",
    "# Print the results\n",
    "print(\"Chi-squared statistic:\", chi2)\n",
    "print(\"P-value:\", p)\n",
    "print(\"Degrees of freedom:\", dof)\n",
    "print(\"Expected frequencies table:\")\n",
    "print(expected)\n"
   ],
   "metadata": {
    "collapsed": false,
    "ExecuteTime": {
     "end_time": "2023-10-30T20:09:11.916230100Z",
     "start_time": "2023-10-30T20:09:11.890294700Z"
    }
   },
   "id": "7559adc2e3f63ec"
  },
  {
   "cell_type": "markdown",
   "source": [
    "# Interpretation of Chi-Squared Test Results for Hypothesis 1\n",
    "Introduction:\n",
    "\n",
    "Hypothesis 1 postulates that multiple eco-labelling schemes create confusion among consumers in Kenya and fail to promote awareness of eco-friendly products effectively. To investigate this hypothesis, we conducted a Chi-squared test to examine the relationship between consumers' confidence in distinguishing between different eco-labels and their frequency of finding it challenging to understand the environmental implications of products based on eco-labels.\n",
    "\n",
    "Chi-squared Test Results:\n",
    "\n",
    "Chi-squared Statistic: 23.637\n",
    "P-value: 0.0228\n",
    "Degrees of Freedom: 12\n",
    "Expected frequencies table:\n",
    "Rows: Confidence in Distinguishing Eco-Labels\n",
    "Columns: Frequency of Finding Eco-Labels Challenging\n",
    "Interpretation:\n",
    "\n",
    "With a 95% confidence level, corresponding to a significance level (alpha) of 0.05, we sought to be 95% confident in our conclusions. The p-value obtained in our Chi-squared test is approximately 0.0228, which is less than 0.05. This suggests that there is enough evidence to reject the null hypothesis at the 95% confidence level.\n",
    "\n",
    "Justification for Selected Questions:\n",
    "\n",
    "The two questions used in this analysis are:\n",
    "\n",
    "\"I am confident in my ability to distinguish between different eco-labels when shopping for products.\"\n",
    "\"How often do you find it challenging to understand the environmental implications of a product based on its eco-label?\"\n",
    "Question Justification:\n",
    "\n",
    "Question 1: This question assesses consumers' confidence in distinguishing between different eco-labels. It is pertinent to Hypothesis 1, as it directly explores consumers' perceptions and confidence regarding eco-labels, a key element in the context of eco-friendly products. Consumers' confidence can influence their behavior and choices when it comes to eco-labeled products.\n",
    "\n",
    "Question 2: This question investigates the frequency with which consumers find it challenging to understand the environmental implications of a product based on its eco-label. It is directly related to the hypothesis, as it measures the perceived effectiveness of eco-labels in conveying environmental information. If consumers frequently find it challenging to understand these implications, it aligns with the hypothesis that eco-labeling schemes may create confusion.\n",
    "\n",
    "Interpretation and Implications:\n",
    "\n",
    "The statistically significant association revealed by the Chi-squared test suggests a relationship between consumers' confidence in distinguishing eco-labels and the frequency of finding it challenging to understand the environmental implications of eco-labeled products. This finding holds important implications for eco-labeling strategies and consumer awareness of eco-friendly products in Kenya.\n",
    "\n",
    "It indicates that the effectiveness of eco-labels, in terms of consumers' comprehension and confidence, is a significant factor that should be considered in eco-labeling schemes"
   ],
   "metadata": {
    "collapsed": false
   },
   "id": "9e718aba256a37cc"
  },
  {
   "cell_type": "markdown",
   "source": [
    "# Hypothesis 2\n",
    "### How much trust do you place in products that bear the KEBS label when it comes to quality and safety?"
   ],
   "metadata": {
    "collapsed": false
   },
   "id": "f9a4f02290dee4f8"
  },
  {
   "cell_type": "markdown",
   "source": [
    "#### Specific Questions for Testing:\n",
    "\n",
    "**How much trust do you place in products that bear the KEBS label when it comes to quality and safety?**\n",
    "\n",
    "**Have you intentionally purchased products with the KEBS label because of its perceived quality and safety standards?**"
   ],
   "metadata": {
    "collapsed": false
   },
   "id": "873cf5779cd2650d"
  },
  {
   "cell_type": "markdown",
   "source": [
    "Null Hypothesis (H0): There is no significant relationship between respondents' trust in products with the KEBS label and their likelihood to intentionally purchase products with the KEBS label.\n",
    "\n",
    "Alternative Hypothesis (H1): There is a significant relationship between respondents' trust in products with the KEBS label and their likelihood to intentionally purchase products with the KEBS label"
   ],
   "metadata": {
    "collapsed": false
   },
   "id": "72c15645ccbea1b2"
  },
  {
   "cell_type": "code",
   "execution_count": 23,
   "outputs": [
    {
     "data": {
      "text/plain": "    How much trust do you place in products that bear the KEBS label when it comes to quality and safety?  \\\n0                                                 Some                                                      \n1                                         A grest deal                                                      \n2                                         A grest deal                                                      \n3                                               Little                                                      \n4                                               Little                                                      \n..                                                 ...                                                      \n110                                       A great deal                                                      \n111                                       A great deal                                                      \n112                                       A great deal                                                      \n113                                       A great deal                                                      \n114                                       A great deal                                                      \n\n    Have you intentionally purchased products with the KEBS label because of its perceived quality and safety standards?  \n0                                                  Yes                                                                    \n1                                                  Yes                                                                    \n2                                                  Yes                                                                    \n3                                                   No                                                                    \n4                                                   No                                                                    \n..                                                 ...                                                                    \n110                                                Yes                                                                    \n111                                                Yes                                                                    \n112                                                Yes                                                                    \n113                                                Yes                                                                    \n114                                                Yes                                                                    \n\n[115 rows x 2 columns]",
      "text/html": "<div>\n<style scoped>\n    .dataframe tbody tr th:only-of-type {\n        vertical-align: middle;\n    }\n\n    .dataframe tbody tr th {\n        vertical-align: top;\n    }\n\n    .dataframe thead th {\n        text-align: right;\n    }\n</style>\n<table border=\"1\" class=\"dataframe\">\n  <thead>\n    <tr style=\"text-align: right;\">\n      <th></th>\n      <th>How much trust do you place in products that bear the KEBS label when it comes to quality and safety?</th>\n      <th>Have you intentionally purchased products with the KEBS label because of its perceived quality and safety standards?</th>\n    </tr>\n  </thead>\n  <tbody>\n    <tr>\n      <th>0</th>\n      <td>Some</td>\n      <td>Yes</td>\n    </tr>\n    <tr>\n      <th>1</th>\n      <td>A grest deal</td>\n      <td>Yes</td>\n    </tr>\n    <tr>\n      <th>2</th>\n      <td>A grest deal</td>\n      <td>Yes</td>\n    </tr>\n    <tr>\n      <th>3</th>\n      <td>Little</td>\n      <td>No</td>\n    </tr>\n    <tr>\n      <th>4</th>\n      <td>Little</td>\n      <td>No</td>\n    </tr>\n    <tr>\n      <th>...</th>\n      <td>...</td>\n      <td>...</td>\n    </tr>\n    <tr>\n      <th>110</th>\n      <td>A great deal</td>\n      <td>Yes</td>\n    </tr>\n    <tr>\n      <th>111</th>\n      <td>A great deal</td>\n      <td>Yes</td>\n    </tr>\n    <tr>\n      <th>112</th>\n      <td>A great deal</td>\n      <td>Yes</td>\n    </tr>\n    <tr>\n      <th>113</th>\n      <td>A great deal</td>\n      <td>Yes</td>\n    </tr>\n    <tr>\n      <th>114</th>\n      <td>A great deal</td>\n      <td>Yes</td>\n    </tr>\n  </tbody>\n</table>\n<p>115 rows × 2 columns</p>\n</div>"
     },
     "execution_count": 23,
     "metadata": {},
     "output_type": "execute_result"
    }
   ],
   "source": [
    "d2 = data[['How much trust do you place in products that bear the KEBS label when it comes to quality and safety?','Have you intentionally purchased products with the KEBS label because of its perceived quality and safety standards?']]\n",
    "d2"
   ],
   "metadata": {
    "collapsed": false,
    "ExecuteTime": {
     "start_time": "2023-10-30T20:09:11.965097Z"
    }
   },
   "id": "994dae7e71bbb254"
  },
  {
   "cell_type": "code",
   "execution_count": 24,
   "outputs": [
    {
     "name": "stdout",
     "output_type": "stream",
     "text": [
      "Chi-squared statistic: 12.000777211421386\n",
      "P-value: 0.017345486628878234\n",
      "Degrees of freedom: 4\n",
      "Expected frequencies table:\n",
      "[[ 5.63809524 31.36190476]\n",
      " [ 0.3047619   1.6952381 ]\n",
      " [ 4.72380952 26.27619048]\n",
      " [ 0.15238095  0.84761905]\n",
      " [ 5.18095238 28.81904762]]\n"
     ]
    }
   ],
   "source": [
    "from scipy.stats import chi2_contingency\n",
    "\n",
    "# Create a contingency table\n",
    "contingency_table = pd.crosstab(d2['How much trust do you place in products that bear the KEBS label when it comes to quality and safety?'], d2['Have you intentionally purchased products with the KEBS label because of its perceived quality and safety standards?'])\n",
    "\n",
    "# Perform the Chi-squared test\n",
    "chi2, p, dof, expected = chi2_contingency(contingency_table)\n",
    "\n",
    "# Print the results\n",
    "print(\"Chi-squared statistic:\", chi2)\n",
    "print(\"P-value:\", p)\n",
    "print(\"Degrees of freedom:\", dof)\n",
    "print(\"Expected frequencies table:\")\n",
    "print(expected)\n"
   ],
   "metadata": {
    "collapsed": false,
    "ExecuteTime": {
     "start_time": "2023-10-30T20:09:12.059841600Z"
    }
   },
   "id": "1001cd7811bcc87d"
  },
  {
   "cell_type": "markdown",
   "source": [
    "# Interpretation of Chi-Squared Test Results for Hypothesis 2 at 95% Confidence\n",
    "Introduction:\n",
    "\n",
    "Hypothesis 2 focuses on consumer trust and preference for products bearing the KEBS label in Kenya, particularly concerning quality and safety standards. The Chi-squared test was conducted to explore the relationship between respondents' intentional purchases of products with the KEBS label due to perceived quality and safety standards and their likelihood of choosing products with the KEBS label over similar products without it.\n",
    "\n",
    "Chi-squared Test Results:\n",
    "\n",
    "Chi-squared Statistic: 12.001\n",
    "P-value: 0.0173\n",
    "Degrees of Freedom: 4\n",
    "Expected frequencies table:\n",
    "Rows: Intentional Purchase of KEBS-Labeled Products\n",
    "Columns: Likelihood of Choosing KEBS-Labeled Products\n",
    "Interpretation:\n",
    "\n",
    "At a 95% confidence level, corresponding to a significance level (alpha) of 0.05, the p-value obtained is approximately 0.0173, which is less than 0.05. This suggests that there is enough evidence to reject the null hypothesis at the 95% confidence level.\n",
    "\n",
    "Justification for Selected Questions:\n",
    "\n",
    "The two questions used in this analysis are:\n",
    "\n",
    "\"Have you intentionally purchased products with the KEBS label because of its perceived quality and safety standards?\"\n",
    "\"How likely are you to choose a product with the KEBS label over a similar product without it?\"\n",
    "Question Justification:\n",
    "\n",
    "Question 1: This question directly addresses the intention to purchase products with the KEBS label based on perceived quality and safety standards. It is relevant for Hypothesis 2 as it examines consumers' actual purchasing decisions and their trust in the KEBS label for quality and safety. Trust in quality and safety is a critical aspect of consumer preferences.\n",
    "\n",
    "Question 2: This question explores consumers' likelihood to choose products with the KEBS label over similar alternatives. It is pertinent for Hypothesis 2 as it assesses future consumer behavior and preferences. Consumers' likelihood to choose KEBS-labeled products reflects their trust and preference for such products.\n",
    "\n",
    "Interpretation and Implications:\n",
    "\n",
    "The Chi-squared test results indicate a statistically significant association between respondents' intentional purchases of KEBS-labeled products due to quality and safety standards and their likelihood to choose products with the KEBS label over similar alternatives. This finding has significant implications for understanding consumer trust and preference for KEBS-labeled products.\n",
    "\n",
    "It suggests that consumers who intentionally purchase products with the KEBS label due to quality and safety standards are also more likely to continue choosing such products in the future. This reflects a strong level of trust in the KEBS label for quality assurance and safety"
   ],
   "metadata": {
    "collapsed": false
   },
   "id": "16dd7e9201cfde50"
  },
  {
   "cell_type": "markdown",
   "source": [
    "# Hypothesis 3: To what extent do you associate the KEBS label with government oversight and regulation?\n"
   ],
   "metadata": {
    "collapsed": false
   },
   "id": "fdadf1fd5101c391"
  },
  {
   "cell_type": "markdown",
   "source": [
    "Specific Questions for Testing:\n",
    "\n",
    "\"To what extent do you associate the KEBS label with government oversight and regulation?\"\n",
    "\n",
    "\"Do you believe that products with the KEBS label are more reliable and safer than those without it?\""
   ],
   "metadata": {
    "collapsed": false
   },
   "id": "7a173e1aaaa5d696"
  },
  {
   "cell_type": "markdown",
   "source": [
    "Null Hypothesis (H0): There is no significant relationship between respondents' association of the KEBS label with government oversight and regulation and their belief in the reliability and safety of products with the KEBS label.\n",
    "\n",
    "Alternative Hypothesis (H1): There is a significant relationship between respondents' association of the KEBS label with government oversight and regulation and their belief in the reliability and safety of products with the KEBS label."
   ],
   "metadata": {
    "collapsed": false
   },
   "id": "e2f783f0714b2aa1"
  },
  {
   "cell_type": "code",
   "execution_count": 25,
   "outputs": [
    {
     "data": {
      "text/plain": "    To what extent do you associate the KEBS label with government oversight and regulation?  \\\n0                                              Neutral                                         \n1                                             Strongly                                         \n2                                             Strongly                                         \n3                                              Neutral                                         \n4                                             Somewhat                                         \n..                                                 ...                                         \n110                                           Strongly                                         \n111                                           Strongly                                         \n112                                           Somewhat                                         \n113                                           Somewhat                                         \n114                                           Strongly                                         \n\n    Do you believe that products with the KEBS label are more reliable and safer than those without it?  \n0                                                  Yes                                                   \n1                                                  Yes                                                   \n2                                                  Yes                                                   \n3                                                   No                                                   \n4                                                   No                                                   \n..                                                 ...                                                   \n110                                                Yes                                                   \n111                                                Yes                                                   \n112                                                Yes                                                   \n113                                                Yes                                                   \n114                                                Yes                                                   \n\n[115 rows x 2 columns]",
      "text/html": "<div>\n<style scoped>\n    .dataframe tbody tr th:only-of-type {\n        vertical-align: middle;\n    }\n\n    .dataframe tbody tr th {\n        vertical-align: top;\n    }\n\n    .dataframe thead th {\n        text-align: right;\n    }\n</style>\n<table border=\"1\" class=\"dataframe\">\n  <thead>\n    <tr style=\"text-align: right;\">\n      <th></th>\n      <th>To what extent do you associate the KEBS label with government oversight and regulation?</th>\n      <th>Do you believe that products with the KEBS label are more reliable and safer than those without it?</th>\n    </tr>\n  </thead>\n  <tbody>\n    <tr>\n      <th>0</th>\n      <td>Neutral</td>\n      <td>Yes</td>\n    </tr>\n    <tr>\n      <th>1</th>\n      <td>Strongly</td>\n      <td>Yes</td>\n    </tr>\n    <tr>\n      <th>2</th>\n      <td>Strongly</td>\n      <td>Yes</td>\n    </tr>\n    <tr>\n      <th>3</th>\n      <td>Neutral</td>\n      <td>No</td>\n    </tr>\n    <tr>\n      <th>4</th>\n      <td>Somewhat</td>\n      <td>No</td>\n    </tr>\n    <tr>\n      <th>...</th>\n      <td>...</td>\n      <td>...</td>\n    </tr>\n    <tr>\n      <th>110</th>\n      <td>Strongly</td>\n      <td>Yes</td>\n    </tr>\n    <tr>\n      <th>111</th>\n      <td>Strongly</td>\n      <td>Yes</td>\n    </tr>\n    <tr>\n      <th>112</th>\n      <td>Somewhat</td>\n      <td>Yes</td>\n    </tr>\n    <tr>\n      <th>113</th>\n      <td>Somewhat</td>\n      <td>Yes</td>\n    </tr>\n    <tr>\n      <th>114</th>\n      <td>Strongly</td>\n      <td>Yes</td>\n    </tr>\n  </tbody>\n</table>\n<p>115 rows × 2 columns</p>\n</div>"
     },
     "execution_count": 25,
     "metadata": {},
     "output_type": "execute_result"
    }
   ],
   "source": [
    "#Select the relevant columns\n",
    "d3 = data[['To what extent do you associate the KEBS label with government oversight and regulation?','Do you believe that products with the KEBS label are more reliable and safer than those without it?']]\n",
    "d3"
   ],
   "metadata": {
    "collapsed": false,
    "ExecuteTime": {
     "end_time": "2023-10-30T20:09:13.807243100Z",
     "start_time": "2023-10-30T20:09:12.103740200Z"
    }
   },
   "id": "b5dab407806b5959"
  },
  {
   "cell_type": "code",
   "execution_count": 26,
   "outputs": [
    {
     "name": "stdout",
     "output_type": "stream",
     "text": [
      "Chi-squared statistic: 49.326039283045546\n",
      "P-value: 4.992228082458918e-10\n",
      "Degrees of freedom: 4\n",
      "Expected frequencies table:\n",
      "[[ 5.63478261 12.36521739]\n",
      " [ 0.93913043  2.06086957]\n",
      " [ 4.06956522  8.93043478]\n",
      " [ 9.70434783 21.29565217]\n",
      " [15.65217391 34.34782609]]\n"
     ]
    }
   ],
   "source": [
    "\n",
    "# Create a contingency table\n",
    "contingency_table = pd.crosstab(d3['To what extent do you associate the KEBS label with government oversight and regulation?'], d3['Do you believe that products with the KEBS label are more reliable and safer than those without it?'])\n",
    "\n",
    "# Perform the Chi-squared test\n",
    "chi2, p, dof, expected = chi2_contingency(contingency_table)\n",
    "\n",
    "# Print the results\n",
    "print(\"Chi-squared statistic:\", chi2)\n",
    "print(\"P-value:\", p)\n",
    "print(\"Degrees of freedom:\", dof)\n",
    "print(\"Expected frequencies table:\")\n",
    "print(expected)\n"
   ],
   "metadata": {
    "collapsed": false,
    "ExecuteTime": {
     "end_time": "2023-10-30T20:09:14.260015400Z",
     "start_time": "2023-10-30T20:09:13.688559700Z"
    }
   },
   "id": "49808549f21cd30"
  },
  {
   "cell_type": "markdown",
   "source": [
    "# Interpretation of Chi-Squared Test Results for Hypothesis 3 at 95% Confidence\n",
    "Introduction:\n",
    "\n",
    "Hypothesis 3 is centered around the extent to which consumers in Kenya associate the KEBS label with government oversight and regulation. The Chi-squared test was conducted to explore the relationship between respondents' perceptions of the KEBS label's association with government oversight and their belief that products with the KEBS label are more reliable and safer than those without it.\n",
    "\n",
    "Chi-squared Test Results:\n",
    "\n",
    "Chi-squared Statistic: 49.326\n",
    "P-value: 4.992e-10 (approximately 0.0000000004992)\n",
    "Degrees of Freedom: 4\n",
    "Expected frequencies table:\n",
    "Rows: Association of KEBS Label with Government Oversight\n",
    "Columns: Belief in Reliability and Safety of KEBS-Labeled Products\n",
    "Interpretation:\n",
    "\n",
    "At a 95% confidence level, corresponding to a significance level (alpha) of 0.05, the p-value obtained is approximately 0.0000000004992, which is much less than 0.05. This exceptionally low p-value indicates a highly significant result. Therefore, there is compelling evidence to reject the null hypothesis at the 95% confidence level.\n",
    "\n",
    "Justification for Selected Questions:\n",
    "\n",
    "The two questions used in this analysis are:\n",
    "\n",
    "\"To what extent do you associate the KEBS label with government oversight and regulation?\"\n",
    "\"Do you believe that products with the KEBS label are more reliable and safer than those without it?\"\n",
    "Question Justification:\n",
    "\n",
    "Question 1: This question directly addresses consumers' associations of the KEBS label with government oversight and regulation. It is highly relevant for Hypothesis 3 as it delves into perceptions and beliefs related to the role of government in product regulation. The extent of this association is vital in understanding consumer attitudes and trust.\n",
    "\n",
    "Question 2: This question investigates consumers' beliefs about the reliability and safety of products with the KEBS label. It is directly aligned with Hypothesis 3 as it gauges consumer perceptions of the KEBS label's efficacy in ensuring product reliability and safety. These beliefs are crucial factors in consumer preferences.\n",
    "\n",
    "Interpretation and Implications:\n",
    "\n",
    "The Chi-squared test results indicate a highly significant association between respondents' associations of the KEBS label with government oversight and their belief that products with the KEBS label are more reliable and safer. This finding carries substantial implications for understanding consumer trust in the KEBS label and its role in product regulation.\n",
    "\n",
    "It suggests that consumers who strongly associate the KEBS label with government oversight are also more likely to believe in the reliability and safety of products bearing the label. This association demonstrates that the KEBS label plays a role in building trust and perceptions of reliability and safety among consumers.\n",
    "\n",
    "In the context of Hypothesis 3, these results support the idea that consumers view the KEBS label as a symbol of government-backed oversight and associate it with product reliability and safety. This trust in the label's regulatory function influences their beliefs about the safety and reliability of KEBS-labeled products"
   ],
   "metadata": {
    "collapsed": false
   },
   "id": "f44fed1e2e0c0cda"
  },
  {
   "cell_type": "markdown",
   "source": [
    "# Justification for Using the Chi-squared Test:\n",
    "\n",
    "The Chi-squared test is suitable for your hypotheses for the following reasons:\n",
    "\n",
    "Categorical Data: The survey responses are largely categorical in nature. The Chi-squared test is designed for the analysis of categorical data and can assess associations between categorical variables.\n",
    "\n",
    "Independence Testing: The Chi-squared test assesses the independence of two categorical variables. It's particularly well-suited for testing whether there's a significant relationship between the categorical variables in your hypotheses.\n",
    "\n",
    "Hypothesis-Driven: Your hypotheses involve relationships between categorical variables, making the Chi-squared test a hypothesis-driven choice.\n",
    "\n",
    "Chi-squared Test of Independence: For your hypotheses related to associations and relationships among categorical variables, the Chi-squared test of independence is a commonly used and straightforward statistical test.\n",
    "\n",
    "While other tests can be valuable for different types of data and hypotheses, the Chi-squared test aligns with the nature of your survey questions and the specific relationships you want to investigat"
   ],
   "metadata": {
    "collapsed": false
   },
   "id": "ed241d29ec440a8"
  },
  {
   "cell_type": "markdown",
   "source": [
    "# Confirmatory Factory Analysis"
   ],
   "metadata": {
    "collapsed": false
   },
   "id": "333a16cb0fda92d3"
  },
  {
   "cell_type": "code",
   "execution_count": 3,
   "outputs": [
    {
     "data": {
      "text/plain": "    I confirm that I have read the information above and understand that my participation is voluntary.  \\\n0                                                  Yes                                                    \n1                                                  Yes                                                    \n2                                                  Yes                                                    \n3                                                  Yes                                                    \n4                                                  Yes                                                    \n..                                                 ...                                                    \n110                                                Yes                                                    \n111                                                Yes                                                    \n112                                                Yes                                                    \n113                                                Yes                                                    \n114                                                Yes                                                    \n\n    Kindly enter your email address to proceed What is your age?  \\\n0                       susanmuia128@gmail.com             18-24   \n1                     c.gichuki@alustudent.com             18-24   \n2                       eddiepkhiras@gmail.com             55-64   \n3                  kirangakariukilaw@gmail.com             25-34   \n4                       negrilson20@gmail.com              35-44   \n..                                         ...               ...   \n110                     c.owino@alustudent.com             18-24   \n111                    harrylloyd.lh@gmail.com             18-24   \n112                       mabwapeter@gmail.com             18-24   \n113                       rosesuja45@gmail.com             35-44   \n114                   francissteven1@gmail.com             25-34   \n\n    What is your Gender? Which region in Kenya do you currently reside in?  \\\n0                 Female                                           Nairobi   \n1                 Female                                           Central   \n2                   Male                                             Coast   \n3                   Male                                           Nairobi   \n4                   Male                                            Nyanza   \n..                   ...                                               ...   \n110               Female                                           Nairobi   \n111                 Male                                           Nairobi   \n112                  NaN                                           Nairobi   \n113               Female                                             Coast   \n114                 Male                                             Coast   \n\n     How aware are you about the environmental issues?(1 being the lowest,5 being the highest)  \\\n0                                                    5                                           \n1                                                    5                                           \n2                                                    5                                           \n3                                                    4                                           \n4                                                    4                                           \n..                                                 ...                                           \n110                                                  4                                           \n111                                                  4                                           \n112                                                  5                                           \n113                                                  3                                           \n114                                                  4                                           \n\n    Do you actively engage in environment-friendly practices in your daily life?  \\\n0                                                   No                             \n1                                                  Yes                             \n2                                                  Yes                             \n3                                                  Yes                             \n4                                                  Yes                             \n..                                                 ...                             \n110                                                Yes                             \n111                                                Yes                             \n112                                                Yes                             \n113                                                Yes                             \n114                                                Yes                             \n\n    I am confident in my ability to distinguish between different eco-labels when shopping for products.  \\\n0                                       Strongly Agree                                                     \n1                                                Agree                                                     \n2                                    Strongly Disagree                                                     \n3                                              Neutral                                                     \n4                                              Neutral                                                     \n..                                                 ...                                                     \n110                                            Neutral                                                     \n111                                            Neutral                                                     \n112                                     Strongly Agree                                                     \n113                                           Disagree                                                     \n114                                              Agree                                                     \n\n    Have you ever encountered multiple eco-labels on similar products?  \\\n0                                                  Yes                   \n1                                                   No                   \n2                                                   No                   \n3                                                  Yes                   \n4                                                  Yes                   \n..                                                 ...                   \n110                                                 No                   \n111                                                 No                   \n112                                                Yes                   \n113                                                Yes                   \n114                                                Yes                   \n\n    How often do you find it challenging to understand the environmental implications of a product based on its eco-label?  \\\n0                                           Frequently                                                                       \n1                                               Rarely                                                                       \n2                                           Frequently                                                                       \n3                                               Rarely                                                                       \n4                                         Occasionally                                                                       \n..                                                 ...                                                                       \n110                                             Rarely                                                                       \n111                                       Occasionally                                                                       \n112                                              Never                                                                       \n113                                       Occasionally                                                                       \n114                                             Rarely                                                                       \n\n    Are you familiar with the KEBS (Kenya Bureau of Standards) standard mark?  \\\n0                                                  Yes                          \n1                                                  Yes                          \n2                                                  Yes                          \n3                                                  Yes                          \n4                                                  Yes                          \n..                                                 ...                          \n110                                                Yes                          \n111                                                Yes                          \n112                                                Yes                          \n113                                                Yes                          \n114                                                Yes                          \n\n    How much trust do you place in products that bear the KEBS label when it comes to quality and safety?  \\\n0                                                 Some                                                      \n1                                         A grest deal                                                      \n2                                         A grest deal                                                      \n3                                               Little                                                      \n4                                               Little                                                      \n..                                                 ...                                                      \n110                                       A great deal                                                      \n111                                       A great deal                                                      \n112                                       A great deal                                                      \n113                                       A great deal                                                      \n114                                       A great deal                                                      \n\n    Have you intentionally purchased products with the KEBS label because of its perceived quality and safety standards?  \\\n0                                                  Yes                                                                     \n1                                                  Yes                                                                     \n2                                                  Yes                                                                     \n3                                                   No                                                                     \n4                                                   No                                                                     \n..                                                 ...                                                                     \n110                                                Yes                                                                     \n111                                                Yes                                                                     \n112                                                Yes                                                                     \n113                                                Yes                                                                     \n114                                                Yes                                                                     \n\n    To what extent do you associate the KEBS label with government oversight and regulation?  \\\n0                                              Neutral                                         \n1                                             Strongly                                         \n2                                             Strongly                                         \n3                                              Neutral                                         \n4                                             Somewhat                                         \n..                                                 ...                                         \n110                                           Strongly                                         \n111                                           Strongly                                         \n112                                           Somewhat                                         \n113                                           Somewhat                                         \n114                                           Strongly                                         \n\n    Do you believe that products with the KEBS label are more reliable and safer than those without it?  \\\n0                                                  Yes                                                    \n1                                                  Yes                                                    \n2                                                  Yes                                                    \n3                                                   No                                                    \n4                                                   No                                                    \n..                                                 ...                                                    \n110                                                Yes                                                    \n111                                                Yes                                                    \n112                                                Yes                                                    \n113                                                Yes                                                    \n114                                                Yes                                                    \n\n    How likely are you to choose a product with the KEBS label over a similar product without it?  \n0                                      Somewhat likely                                             \n1                                          Very likely                                             \n2                                          Very likely                                             \n3                                              Neutral                                             \n4                                      Somewhat likely                                             \n..                                                 ...                                             \n110                                        Very likely                                             \n111                                        Very likely                                             \n112                                        Very likely                                             \n113                                        Very likely                                             \n114                                        Very likely                                             \n\n[115 rows x 16 columns]",
      "text/html": "<div>\n<style scoped>\n    .dataframe tbody tr th:only-of-type {\n        vertical-align: middle;\n    }\n\n    .dataframe tbody tr th {\n        vertical-align: top;\n    }\n\n    .dataframe thead th {\n        text-align: right;\n    }\n</style>\n<table border=\"1\" class=\"dataframe\">\n  <thead>\n    <tr style=\"text-align: right;\">\n      <th></th>\n      <th>I confirm that I have read the information above and understand that my participation is voluntary.</th>\n      <th>Kindly enter your email address to proceed</th>\n      <th>What is your age?</th>\n      <th>What is your Gender?</th>\n      <th>Which region in Kenya do you currently reside in?</th>\n      <th>How aware are you about the environmental issues?(1 being the lowest,5 being the highest)</th>\n      <th>Do you actively engage in environment-friendly practices in your daily life?</th>\n      <th>I am confident in my ability to distinguish between different eco-labels when shopping for products.</th>\n      <th>Have you ever encountered multiple eco-labels on similar products?</th>\n      <th>How often do you find it challenging to understand the environmental implications of a product based on its eco-label?</th>\n      <th>Are you familiar with the KEBS (Kenya Bureau of Standards) standard mark?</th>\n      <th>How much trust do you place in products that bear the KEBS label when it comes to quality and safety?</th>\n      <th>Have you intentionally purchased products with the KEBS label because of its perceived quality and safety standards?</th>\n      <th>To what extent do you associate the KEBS label with government oversight and regulation?</th>\n      <th>Do you believe that products with the KEBS label are more reliable and safer than those without it?</th>\n      <th>How likely are you to choose a product with the KEBS label over a similar product without it?</th>\n    </tr>\n  </thead>\n  <tbody>\n    <tr>\n      <th>0</th>\n      <td>Yes</td>\n      <td>susanmuia128@gmail.com</td>\n      <td>18-24</td>\n      <td>Female</td>\n      <td>Nairobi</td>\n      <td>5</td>\n      <td>No</td>\n      <td>Strongly Agree</td>\n      <td>Yes</td>\n      <td>Frequently</td>\n      <td>Yes</td>\n      <td>Some</td>\n      <td>Yes</td>\n      <td>Neutral</td>\n      <td>Yes</td>\n      <td>Somewhat likely</td>\n    </tr>\n    <tr>\n      <th>1</th>\n      <td>Yes</td>\n      <td>c.gichuki@alustudent.com</td>\n      <td>18-24</td>\n      <td>Female</td>\n      <td>Central</td>\n      <td>5</td>\n      <td>Yes</td>\n      <td>Agree</td>\n      <td>No</td>\n      <td>Rarely</td>\n      <td>Yes</td>\n      <td>A grest deal</td>\n      <td>Yes</td>\n      <td>Strongly</td>\n      <td>Yes</td>\n      <td>Very likely</td>\n    </tr>\n    <tr>\n      <th>2</th>\n      <td>Yes</td>\n      <td>eddiepkhiras@gmail.com</td>\n      <td>55-64</td>\n      <td>Male</td>\n      <td>Coast</td>\n      <td>5</td>\n      <td>Yes</td>\n      <td>Strongly Disagree</td>\n      <td>No</td>\n      <td>Frequently</td>\n      <td>Yes</td>\n      <td>A grest deal</td>\n      <td>Yes</td>\n      <td>Strongly</td>\n      <td>Yes</td>\n      <td>Very likely</td>\n    </tr>\n    <tr>\n      <th>3</th>\n      <td>Yes</td>\n      <td>kirangakariukilaw@gmail.com</td>\n      <td>25-34</td>\n      <td>Male</td>\n      <td>Nairobi</td>\n      <td>4</td>\n      <td>Yes</td>\n      <td>Neutral</td>\n      <td>Yes</td>\n      <td>Rarely</td>\n      <td>Yes</td>\n      <td>Little</td>\n      <td>No</td>\n      <td>Neutral</td>\n      <td>No</td>\n      <td>Neutral</td>\n    </tr>\n    <tr>\n      <th>4</th>\n      <td>Yes</td>\n      <td>negrilson20@gmail.com</td>\n      <td>35-44</td>\n      <td>Male</td>\n      <td>Nyanza</td>\n      <td>4</td>\n      <td>Yes</td>\n      <td>Neutral</td>\n      <td>Yes</td>\n      <td>Occasionally</td>\n      <td>Yes</td>\n      <td>Little</td>\n      <td>No</td>\n      <td>Somewhat</td>\n      <td>No</td>\n      <td>Somewhat likely</td>\n    </tr>\n    <tr>\n      <th>...</th>\n      <td>...</td>\n      <td>...</td>\n      <td>...</td>\n      <td>...</td>\n      <td>...</td>\n      <td>...</td>\n      <td>...</td>\n      <td>...</td>\n      <td>...</td>\n      <td>...</td>\n      <td>...</td>\n      <td>...</td>\n      <td>...</td>\n      <td>...</td>\n      <td>...</td>\n      <td>...</td>\n    </tr>\n    <tr>\n      <th>110</th>\n      <td>Yes</td>\n      <td>c.owino@alustudent.com</td>\n      <td>18-24</td>\n      <td>Female</td>\n      <td>Nairobi</td>\n      <td>4</td>\n      <td>Yes</td>\n      <td>Neutral</td>\n      <td>No</td>\n      <td>Rarely</td>\n      <td>Yes</td>\n      <td>A great deal</td>\n      <td>Yes</td>\n      <td>Strongly</td>\n      <td>Yes</td>\n      <td>Very likely</td>\n    </tr>\n    <tr>\n      <th>111</th>\n      <td>Yes</td>\n      <td>harrylloyd.lh@gmail.com</td>\n      <td>18-24</td>\n      <td>Male</td>\n      <td>Nairobi</td>\n      <td>4</td>\n      <td>Yes</td>\n      <td>Neutral</td>\n      <td>No</td>\n      <td>Occasionally</td>\n      <td>Yes</td>\n      <td>A great deal</td>\n      <td>Yes</td>\n      <td>Strongly</td>\n      <td>Yes</td>\n      <td>Very likely</td>\n    </tr>\n    <tr>\n      <th>112</th>\n      <td>Yes</td>\n      <td>mabwapeter@gmail.com</td>\n      <td>18-24</td>\n      <td>NaN</td>\n      <td>Nairobi</td>\n      <td>5</td>\n      <td>Yes</td>\n      <td>Strongly Agree</td>\n      <td>Yes</td>\n      <td>Never</td>\n      <td>Yes</td>\n      <td>A great deal</td>\n      <td>Yes</td>\n      <td>Somewhat</td>\n      <td>Yes</td>\n      <td>Very likely</td>\n    </tr>\n    <tr>\n      <th>113</th>\n      <td>Yes</td>\n      <td>rosesuja45@gmail.com</td>\n      <td>35-44</td>\n      <td>Female</td>\n      <td>Coast</td>\n      <td>3</td>\n      <td>Yes</td>\n      <td>Disagree</td>\n      <td>Yes</td>\n      <td>Occasionally</td>\n      <td>Yes</td>\n      <td>A great deal</td>\n      <td>Yes</td>\n      <td>Somewhat</td>\n      <td>Yes</td>\n      <td>Very likely</td>\n    </tr>\n    <tr>\n      <th>114</th>\n      <td>Yes</td>\n      <td>francissteven1@gmail.com</td>\n      <td>25-34</td>\n      <td>Male</td>\n      <td>Coast</td>\n      <td>4</td>\n      <td>Yes</td>\n      <td>Agree</td>\n      <td>Yes</td>\n      <td>Rarely</td>\n      <td>Yes</td>\n      <td>A great deal</td>\n      <td>Yes</td>\n      <td>Strongly</td>\n      <td>Yes</td>\n      <td>Very likely</td>\n    </tr>\n  </tbody>\n</table>\n<p>115 rows × 16 columns</p>\n</div>"
     },
     "execution_count": 3,
     "metadata": {},
     "output_type": "execute_result"
    }
   ],
   "source": [
    "d4 = data.copy()\n",
    "d4"
   ],
   "metadata": {
    "collapsed": false,
    "ExecuteTime": {
     "end_time": "2023-10-31T16:48:03.651513400Z",
     "start_time": "2023-10-31T16:48:03.105193300Z"
    }
   },
   "id": "a7d50eaa580f8526"
  },
  {
   "cell_type": "code",
   "execution_count": 5,
   "outputs": [
    {
     "data": {
      "text/plain": "    What is your age? What is your Gender?  \\\n0               18-24               Female   \n1               18-24               Female   \n2               55-64                 Male   \n3               25-34                 Male   \n4               35-44                 Male   \n..                ...                  ...   \n110             18-24               Female   \n111             18-24                 Male   \n112             18-24                  NaN   \n113             35-44               Female   \n114             25-34                 Male   \n\n    Which region in Kenya do you currently reside in?  \\\n0                                             Nairobi   \n1                                             Central   \n2                                               Coast   \n3                                             Nairobi   \n4                                              Nyanza   \n..                                                ...   \n110                                           Nairobi   \n111                                           Nairobi   \n112                                           Nairobi   \n113                                             Coast   \n114                                             Coast   \n\n     How aware are you about the environmental issues?(1 being the lowest,5 being the highest)  \\\n0                                                    5                                           \n1                                                    5                                           \n2                                                    5                                           \n3                                                    4                                           \n4                                                    4                                           \n..                                                 ...                                           \n110                                                  4                                           \n111                                                  4                                           \n112                                                  5                                           \n113                                                  3                                           \n114                                                  4                                           \n\n    Do you actively engage in environment-friendly practices in your daily life?  \\\n0                                                   No                             \n1                                                  Yes                             \n2                                                  Yes                             \n3                                                  Yes                             \n4                                                  Yes                             \n..                                                 ...                             \n110                                                Yes                             \n111                                                Yes                             \n112                                                Yes                             \n113                                                Yes                             \n114                                                Yes                             \n\n    I am confident in my ability to distinguish between different eco-labels when shopping for products.  \\\n0                                       Strongly Agree                                                     \n1                                                Agree                                                     \n2                                    Strongly Disagree                                                     \n3                                              Neutral                                                     \n4                                              Neutral                                                     \n..                                                 ...                                                     \n110                                            Neutral                                                     \n111                                            Neutral                                                     \n112                                     Strongly Agree                                                     \n113                                           Disagree                                                     \n114                                              Agree                                                     \n\n    Have you ever encountered multiple eco-labels on similar products?  \\\n0                                                  Yes                   \n1                                                   No                   \n2                                                   No                   \n3                                                  Yes                   \n4                                                  Yes                   \n..                                                 ...                   \n110                                                 No                   \n111                                                 No                   \n112                                                Yes                   \n113                                                Yes                   \n114                                                Yes                   \n\n    How often do you find it challenging to understand the environmental implications of a product based on its eco-label?  \\\n0                                           Frequently                                                                       \n1                                               Rarely                                                                       \n2                                           Frequently                                                                       \n3                                               Rarely                                                                       \n4                                         Occasionally                                                                       \n..                                                 ...                                                                       \n110                                             Rarely                                                                       \n111                                       Occasionally                                                                       \n112                                              Never                                                                       \n113                                       Occasionally                                                                       \n114                                             Rarely                                                                       \n\n    Are you familiar with the KEBS (Kenya Bureau of Standards) standard mark?  \\\n0                                                  Yes                          \n1                                                  Yes                          \n2                                                  Yes                          \n3                                                  Yes                          \n4                                                  Yes                          \n..                                                 ...                          \n110                                                Yes                          \n111                                                Yes                          \n112                                                Yes                          \n113                                                Yes                          \n114                                                Yes                          \n\n    How much trust do you place in products that bear the KEBS label when it comes to quality and safety?  \\\n0                                                 Some                                                      \n1                                         A grest deal                                                      \n2                                         A grest deal                                                      \n3                                               Little                                                      \n4                                               Little                                                      \n..                                                 ...                                                      \n110                                       A great deal                                                      \n111                                       A great deal                                                      \n112                                       A great deal                                                      \n113                                       A great deal                                                      \n114                                       A great deal                                                      \n\n    Have you intentionally purchased products with the KEBS label because of its perceived quality and safety standards?  \\\n0                                                  Yes                                                                     \n1                                                  Yes                                                                     \n2                                                  Yes                                                                     \n3                                                   No                                                                     \n4                                                   No                                                                     \n..                                                 ...                                                                     \n110                                                Yes                                                                     \n111                                                Yes                                                                     \n112                                                Yes                                                                     \n113                                                Yes                                                                     \n114                                                Yes                                                                     \n\n    To what extent do you associate the KEBS label with government oversight and regulation?  \\\n0                                              Neutral                                         \n1                                             Strongly                                         \n2                                             Strongly                                         \n3                                              Neutral                                         \n4                                             Somewhat                                         \n..                                                 ...                                         \n110                                           Strongly                                         \n111                                           Strongly                                         \n112                                           Somewhat                                         \n113                                           Somewhat                                         \n114                                           Strongly                                         \n\n    Do you believe that products with the KEBS label are more reliable and safer than those without it?  \\\n0                                                  Yes                                                    \n1                                                  Yes                                                    \n2                                                  Yes                                                    \n3                                                   No                                                    \n4                                                   No                                                    \n..                                                 ...                                                    \n110                                                Yes                                                    \n111                                                Yes                                                    \n112                                                Yes                                                    \n113                                                Yes                                                    \n114                                                Yes                                                    \n\n    How likely are you to choose a product with the KEBS label over a similar product without it?  \n0                                      Somewhat likely                                             \n1                                          Very likely                                             \n2                                          Very likely                                             \n3                                              Neutral                                             \n4                                      Somewhat likely                                             \n..                                                 ...                                             \n110                                        Very likely                                             \n111                                        Very likely                                             \n112                                        Very likely                                             \n113                                        Very likely                                             \n114                                        Very likely                                             \n\n[115 rows x 14 columns]",
      "text/html": "<div>\n<style scoped>\n    .dataframe tbody tr th:only-of-type {\n        vertical-align: middle;\n    }\n\n    .dataframe tbody tr th {\n        vertical-align: top;\n    }\n\n    .dataframe thead th {\n        text-align: right;\n    }\n</style>\n<table border=\"1\" class=\"dataframe\">\n  <thead>\n    <tr style=\"text-align: right;\">\n      <th></th>\n      <th>What is your age?</th>\n      <th>What is your Gender?</th>\n      <th>Which region in Kenya do you currently reside in?</th>\n      <th>How aware are you about the environmental issues?(1 being the lowest,5 being the highest)</th>\n      <th>Do you actively engage in environment-friendly practices in your daily life?</th>\n      <th>I am confident in my ability to distinguish between different eco-labels when shopping for products.</th>\n      <th>Have you ever encountered multiple eco-labels on similar products?</th>\n      <th>How often do you find it challenging to understand the environmental implications of a product based on its eco-label?</th>\n      <th>Are you familiar with the KEBS (Kenya Bureau of Standards) standard mark?</th>\n      <th>How much trust do you place in products that bear the KEBS label when it comes to quality and safety?</th>\n      <th>Have you intentionally purchased products with the KEBS label because of its perceived quality and safety standards?</th>\n      <th>To what extent do you associate the KEBS label with government oversight and regulation?</th>\n      <th>Do you believe that products with the KEBS label are more reliable and safer than those without it?</th>\n      <th>How likely are you to choose a product with the KEBS label over a similar product without it?</th>\n    </tr>\n  </thead>\n  <tbody>\n    <tr>\n      <th>0</th>\n      <td>18-24</td>\n      <td>Female</td>\n      <td>Nairobi</td>\n      <td>5</td>\n      <td>No</td>\n      <td>Strongly Agree</td>\n      <td>Yes</td>\n      <td>Frequently</td>\n      <td>Yes</td>\n      <td>Some</td>\n      <td>Yes</td>\n      <td>Neutral</td>\n      <td>Yes</td>\n      <td>Somewhat likely</td>\n    </tr>\n    <tr>\n      <th>1</th>\n      <td>18-24</td>\n      <td>Female</td>\n      <td>Central</td>\n      <td>5</td>\n      <td>Yes</td>\n      <td>Agree</td>\n      <td>No</td>\n      <td>Rarely</td>\n      <td>Yes</td>\n      <td>A grest deal</td>\n      <td>Yes</td>\n      <td>Strongly</td>\n      <td>Yes</td>\n      <td>Very likely</td>\n    </tr>\n    <tr>\n      <th>2</th>\n      <td>55-64</td>\n      <td>Male</td>\n      <td>Coast</td>\n      <td>5</td>\n      <td>Yes</td>\n      <td>Strongly Disagree</td>\n      <td>No</td>\n      <td>Frequently</td>\n      <td>Yes</td>\n      <td>A grest deal</td>\n      <td>Yes</td>\n      <td>Strongly</td>\n      <td>Yes</td>\n      <td>Very likely</td>\n    </tr>\n    <tr>\n      <th>3</th>\n      <td>25-34</td>\n      <td>Male</td>\n      <td>Nairobi</td>\n      <td>4</td>\n      <td>Yes</td>\n      <td>Neutral</td>\n      <td>Yes</td>\n      <td>Rarely</td>\n      <td>Yes</td>\n      <td>Little</td>\n      <td>No</td>\n      <td>Neutral</td>\n      <td>No</td>\n      <td>Neutral</td>\n    </tr>\n    <tr>\n      <th>4</th>\n      <td>35-44</td>\n      <td>Male</td>\n      <td>Nyanza</td>\n      <td>4</td>\n      <td>Yes</td>\n      <td>Neutral</td>\n      <td>Yes</td>\n      <td>Occasionally</td>\n      <td>Yes</td>\n      <td>Little</td>\n      <td>No</td>\n      <td>Somewhat</td>\n      <td>No</td>\n      <td>Somewhat likely</td>\n    </tr>\n    <tr>\n      <th>...</th>\n      <td>...</td>\n      <td>...</td>\n      <td>...</td>\n      <td>...</td>\n      <td>...</td>\n      <td>...</td>\n      <td>...</td>\n      <td>...</td>\n      <td>...</td>\n      <td>...</td>\n      <td>...</td>\n      <td>...</td>\n      <td>...</td>\n      <td>...</td>\n    </tr>\n    <tr>\n      <th>110</th>\n      <td>18-24</td>\n      <td>Female</td>\n      <td>Nairobi</td>\n      <td>4</td>\n      <td>Yes</td>\n      <td>Neutral</td>\n      <td>No</td>\n      <td>Rarely</td>\n      <td>Yes</td>\n      <td>A great deal</td>\n      <td>Yes</td>\n      <td>Strongly</td>\n      <td>Yes</td>\n      <td>Very likely</td>\n    </tr>\n    <tr>\n      <th>111</th>\n      <td>18-24</td>\n      <td>Male</td>\n      <td>Nairobi</td>\n      <td>4</td>\n      <td>Yes</td>\n      <td>Neutral</td>\n      <td>No</td>\n      <td>Occasionally</td>\n      <td>Yes</td>\n      <td>A great deal</td>\n      <td>Yes</td>\n      <td>Strongly</td>\n      <td>Yes</td>\n      <td>Very likely</td>\n    </tr>\n    <tr>\n      <th>112</th>\n      <td>18-24</td>\n      <td>NaN</td>\n      <td>Nairobi</td>\n      <td>5</td>\n      <td>Yes</td>\n      <td>Strongly Agree</td>\n      <td>Yes</td>\n      <td>Never</td>\n      <td>Yes</td>\n      <td>A great deal</td>\n      <td>Yes</td>\n      <td>Somewhat</td>\n      <td>Yes</td>\n      <td>Very likely</td>\n    </tr>\n    <tr>\n      <th>113</th>\n      <td>35-44</td>\n      <td>Female</td>\n      <td>Coast</td>\n      <td>3</td>\n      <td>Yes</td>\n      <td>Disagree</td>\n      <td>Yes</td>\n      <td>Occasionally</td>\n      <td>Yes</td>\n      <td>A great deal</td>\n      <td>Yes</td>\n      <td>Somewhat</td>\n      <td>Yes</td>\n      <td>Very likely</td>\n    </tr>\n    <tr>\n      <th>114</th>\n      <td>25-34</td>\n      <td>Male</td>\n      <td>Coast</td>\n      <td>4</td>\n      <td>Yes</td>\n      <td>Agree</td>\n      <td>Yes</td>\n      <td>Rarely</td>\n      <td>Yes</td>\n      <td>A great deal</td>\n      <td>Yes</td>\n      <td>Strongly</td>\n      <td>Yes</td>\n      <td>Very likely</td>\n    </tr>\n  </tbody>\n</table>\n<p>115 rows × 14 columns</p>\n</div>"
     },
     "execution_count": 5,
     "metadata": {},
     "output_type": "execute_result"
    }
   ],
   "source": [
    "d4.drop(['I confirm that I have read the information above and understand that my participation is voluntary.','Kindly enter your email address to proceed'],axis=1,inplace=True)\n",
    "d4"
   ],
   "metadata": {
    "collapsed": false,
    "ExecuteTime": {
     "end_time": "2023-10-31T17:00:17.987621900Z",
     "start_time": "2023-10-31T17:00:17.942842900Z"
    }
   },
   "id": "c20dfb36767837da"
  },
  {
   "cell_type": "code",
   "execution_count": 6,
   "outputs": [
    {
     "name": "stdout",
     "output_type": "stream",
     "text": [
      "{'What is your age?': array(['18-24', '55-64', '25-34', '35-44', nan, '45-54'], dtype=object), 'What is your Gender?': array(['Female', 'Male', nan, 'Prefer not to say'], dtype=object), 'Which region in Kenya do you currently reside in?': array(['Nairobi', 'Central', 'Coast', 'Nyanza', 'Western', 'Rift Valley',\n",
      "       'North Eastern'], dtype=object), 'How aware are you about the environmental issues?(1 being the lowest,5 being the highest)': array([5, 4, 3, 2, 1], dtype=int64), 'Do you actively engage in environment-friendly practices in your daily life?': array(['No', 'Yes', nan], dtype=object), 'I am confident in my ability to distinguish between different eco-labels when shopping for products.': array(['Strongly Agree', 'Agree', 'Strongly Disagree', 'Neutral',\n",
      "       'Disagree'], dtype=object), 'Have you ever encountered multiple eco-labels on similar products?': array(['Yes', 'No'], dtype=object), 'How often do you find it challenging to understand the environmental implications of a product based on its eco-label?': array(['Frequently', 'Rarely', 'Occasionally', 'Never'], dtype=object), 'Are you familiar with the KEBS (Kenya Bureau of Standards) standard mark?': array(['Yes', 'No'], dtype=object), 'How much trust do you place in products that bear the KEBS label when it comes to quality and safety?': array(['Some', 'A grest deal', 'Little', nan, 'A great deal', 'Somewhat'],\n",
      "      dtype=object), 'Have you intentionally purchased products with the KEBS label because of its perceived quality and safety standards?': array(['Yes', 'No'], dtype=object), 'To what extent do you associate the KEBS label with government oversight and regulation?': array(['Neutral', 'Strongly', 'Somewhat', 'Not very', 'Not at all'],\n",
      "      dtype=object), 'Do you believe that products with the KEBS label are more reliable and safer than those without it?': array(['Yes', 'No'], dtype=object), 'How likely are you to choose a product with the KEBS label over a similar product without it?': array(['Somewhat likely', 'Very likely', 'Neutral', 'Somewhat unlikely',\n",
      "       'Very unlikely'], dtype=object)}\n"
     ]
    }
   ],
   "source": [
    "unique_categories = {}\n",
    "for column in d4.columns:\n",
    "    unique_categories[column] = d4[column].unique()\n",
    "\n",
    "print(unique_categories)"
   ],
   "metadata": {
    "collapsed": false,
    "ExecuteTime": {
     "end_time": "2023-10-31T17:00:32.018976300Z",
     "start_time": "2023-10-31T17:00:32.005990300Z"
    }
   },
   "id": "36288a3a2b994fe0"
  },
  {
   "cell_type": "code",
   "execution_count": null,
   "outputs": [],
   "source": [
    "binary_mapping = {'Yes':1,'No':0}\n",
    "categorical_mapping = {\n",
    "    'Strongly Agree': 5,\n",
    "    'Agree': 4,\n",
    "    'Neutral': 3,\n",
    "    'Disagree': 2,\n",
    "    'Strongly Disagree': 1\n",
    "}"
   ],
   "metadata": {
    "collapsed": false
   },
   "id": "134bd900f44cbafa"
  },
  {
   "cell_type": "code",
   "execution_count": 9,
   "outputs": [
    {
     "data": {
      "text/plain": "    What is your age?  What is your Gender?  \\\n0               18-24                   1.0   \n1               18-24                   1.0   \n2               55-64                   0.0   \n3               25-34                   0.0   \n4               35-44                   0.0   \n..                ...                   ...   \n110             18-24                   1.0   \n111             18-24                   0.0   \n112             18-24                   NaN   \n113             35-44                   1.0   \n114             25-34                   0.0   \n\n     Which region in Kenya do you currently reside in?  \\\n0                                                    5   \n1                                                    4   \n2                                                    3   \n3                                                    5   \n4                                                    2   \n..                                                 ...   \n110                                                  5   \n111                                                  5   \n112                                                  5   \n113                                                  3   \n114                                                  3   \n\n     How aware are you about the environmental issues?(1 being the lowest,5 being the highest)  \\\n0                                                    5                                           \n1                                                    5                                           \n2                                                    5                                           \n3                                                    4                                           \n4                                                    4                                           \n..                                                 ...                                           \n110                                                  4                                           \n111                                                  4                                           \n112                                                  5                                           \n113                                                  3                                           \n114                                                  4                                           \n\n     Do you actively engage in environment-friendly practices in your daily life?  \\\n0                                                  0.0                              \n1                                                  1.0                              \n2                                                  1.0                              \n3                                                  1.0                              \n4                                                  1.0                              \n..                                                 ...                              \n110                                                1.0                              \n111                                                1.0                              \n112                                                1.0                              \n113                                                1.0                              \n114                                                1.0                              \n\n     I am confident in my ability to distinguish between different eco-labels when shopping for products.  \\\n0                                                    5                                                      \n1                                                    4                                                      \n2                                                    1                                                      \n3                                                    3                                                      \n4                                                    3                                                      \n..                                                 ...                                                      \n110                                                  3                                                      \n111                                                  3                                                      \n112                                                  5                                                      \n113                                                  2                                                      \n114                                                  4                                                      \n\n     Have you ever encountered multiple eco-labels on similar products?  \\\n0                                                    1                    \n1                                                    0                    \n2                                                    0                    \n3                                                    1                    \n4                                                    1                    \n..                                                 ...                    \n110                                                  0                    \n111                                                  0                    \n112                                                  1                    \n113                                                  1                    \n114                                                  1                    \n\n     How often do you find it challenging to understand the environmental implications of a product based on its eco-label?  \\\n0                                                    5                                                                        \n1                                                    4                                                                        \n2                                                    5                                                                        \n3                                                    4                                                                        \n4                                                    3                                                                        \n..                                                 ...                                                                        \n110                                                  4                                                                        \n111                                                  3                                                                        \n112                                                  2                                                                        \n113                                                  3                                                                        \n114                                                  4                                                                        \n\n     Are you familiar with the KEBS (Kenya Bureau of Standards) standard mark?  \\\n0                                                    1                           \n1                                                    1                           \n2                                                    1                           \n3                                                    1                           \n4                                                    1                           \n..                                                 ...                           \n110                                                  1                           \n111                                                  1                           \n112                                                  1                           \n113                                                  1                           \n114                                                  1                           \n\n     How much trust do you place in products that bear the KEBS label when it comes to quality and safety?  \\\n0                                                  4.0                                                       \n1                                                  NaN                                                       \n2                                                  NaN                                                       \n3                                                  3.0                                                       \n4                                                  3.0                                                       \n..                                                 ...                                                       \n110                                                5.0                                                       \n111                                                5.0                                                       \n112                                                5.0                                                       \n113                                                5.0                                                       \n114                                                5.0                                                       \n\n     Have you intentionally purchased products with the KEBS label because of its perceived quality and safety standards?  \\\n0                                                    1                                                                      \n1                                                    1                                                                      \n2                                                    1                                                                      \n3                                                    0                                                                      \n4                                                    0                                                                      \n..                                                 ...                                                                      \n110                                                  1                                                                      \n111                                                  1                                                                      \n112                                                  1                                                                      \n113                                                  1                                                                      \n114                                                  1                                                                      \n\n     To what extent do you associate the KEBS label with government oversight and regulation?  \\\n0                                                    3                                          \n1                                                    5                                          \n2                                                    5                                          \n3                                                    3                                          \n4                                                    4                                          \n..                                                 ...                                          \n110                                                  5                                          \n111                                                  5                                          \n112                                                  4                                          \n113                                                  4                                          \n114                                                  5                                          \n\n     Do you believe that products with the KEBS label are more reliable and safer than those without it?  \\\n0                                                    1                                                     \n1                                                    1                                                     \n2                                                    1                                                     \n3                                                    0                                                     \n4                                                    0                                                     \n..                                                 ...                                                     \n110                                                  1                                                     \n111                                                  1                                                     \n112                                                  1                                                     \n113                                                  1                                                     \n114                                                  1                                                     \n\n     How likely are you to choose a product with the KEBS label over a similar product without it?  \n0                                                    4                                              \n1                                                    5                                              \n2                                                    5                                              \n3                                                    3                                              \n4                                                    4                                              \n..                                                 ...                                              \n110                                                  5                                              \n111                                                  5                                              \n112                                                  5                                              \n113                                                  5                                              \n114                                                  5                                              \n\n[115 rows x 14 columns]",
      "text/html": "<div>\n<style scoped>\n    .dataframe tbody tr th:only-of-type {\n        vertical-align: middle;\n    }\n\n    .dataframe tbody tr th {\n        vertical-align: top;\n    }\n\n    .dataframe thead th {\n        text-align: right;\n    }\n</style>\n<table border=\"1\" class=\"dataframe\">\n  <thead>\n    <tr style=\"text-align: right;\">\n      <th></th>\n      <th>What is your age?</th>\n      <th>What is your Gender?</th>\n      <th>Which region in Kenya do you currently reside in?</th>\n      <th>How aware are you about the environmental issues?(1 being the lowest,5 being the highest)</th>\n      <th>Do you actively engage in environment-friendly practices in your daily life?</th>\n      <th>I am confident in my ability to distinguish between different eco-labels when shopping for products.</th>\n      <th>Have you ever encountered multiple eco-labels on similar products?</th>\n      <th>How often do you find it challenging to understand the environmental implications of a product based on its eco-label?</th>\n      <th>Are you familiar with the KEBS (Kenya Bureau of Standards) standard mark?</th>\n      <th>How much trust do you place in products that bear the KEBS label when it comes to quality and safety?</th>\n      <th>Have you intentionally purchased products with the KEBS label because of its perceived quality and safety standards?</th>\n      <th>To what extent do you associate the KEBS label with government oversight and regulation?</th>\n      <th>Do you believe that products with the KEBS label are more reliable and safer than those without it?</th>\n      <th>How likely are you to choose a product with the KEBS label over a similar product without it?</th>\n    </tr>\n  </thead>\n  <tbody>\n    <tr>\n      <th>0</th>\n      <td>18-24</td>\n      <td>1.0</td>\n      <td>5</td>\n      <td>5</td>\n      <td>0.0</td>\n      <td>5</td>\n      <td>1</td>\n      <td>5</td>\n      <td>1</td>\n      <td>4.0</td>\n      <td>1</td>\n      <td>3</td>\n      <td>1</td>\n      <td>4</td>\n    </tr>\n    <tr>\n      <th>1</th>\n      <td>18-24</td>\n      <td>1.0</td>\n      <td>4</td>\n      <td>5</td>\n      <td>1.0</td>\n      <td>4</td>\n      <td>0</td>\n      <td>4</td>\n      <td>1</td>\n      <td>NaN</td>\n      <td>1</td>\n      <td>5</td>\n      <td>1</td>\n      <td>5</td>\n    </tr>\n    <tr>\n      <th>2</th>\n      <td>55-64</td>\n      <td>0.0</td>\n      <td>3</td>\n      <td>5</td>\n      <td>1.0</td>\n      <td>1</td>\n      <td>0</td>\n      <td>5</td>\n      <td>1</td>\n      <td>NaN</td>\n      <td>1</td>\n      <td>5</td>\n      <td>1</td>\n      <td>5</td>\n    </tr>\n    <tr>\n      <th>3</th>\n      <td>25-34</td>\n      <td>0.0</td>\n      <td>5</td>\n      <td>4</td>\n      <td>1.0</td>\n      <td>3</td>\n      <td>1</td>\n      <td>4</td>\n      <td>1</td>\n      <td>3.0</td>\n      <td>0</td>\n      <td>3</td>\n      <td>0</td>\n      <td>3</td>\n    </tr>\n    <tr>\n      <th>4</th>\n      <td>35-44</td>\n      <td>0.0</td>\n      <td>2</td>\n      <td>4</td>\n      <td>1.0</td>\n      <td>3</td>\n      <td>1</td>\n      <td>3</td>\n      <td>1</td>\n      <td>3.0</td>\n      <td>0</td>\n      <td>4</td>\n      <td>0</td>\n      <td>4</td>\n    </tr>\n    <tr>\n      <th>...</th>\n      <td>...</td>\n      <td>...</td>\n      <td>...</td>\n      <td>...</td>\n      <td>...</td>\n      <td>...</td>\n      <td>...</td>\n      <td>...</td>\n      <td>...</td>\n      <td>...</td>\n      <td>...</td>\n      <td>...</td>\n      <td>...</td>\n      <td>...</td>\n    </tr>\n    <tr>\n      <th>110</th>\n      <td>18-24</td>\n      <td>1.0</td>\n      <td>5</td>\n      <td>4</td>\n      <td>1.0</td>\n      <td>3</td>\n      <td>0</td>\n      <td>4</td>\n      <td>1</td>\n      <td>5.0</td>\n      <td>1</td>\n      <td>5</td>\n      <td>1</td>\n      <td>5</td>\n    </tr>\n    <tr>\n      <th>111</th>\n      <td>18-24</td>\n      <td>0.0</td>\n      <td>5</td>\n      <td>4</td>\n      <td>1.0</td>\n      <td>3</td>\n      <td>0</td>\n      <td>3</td>\n      <td>1</td>\n      <td>5.0</td>\n      <td>1</td>\n      <td>5</td>\n      <td>1</td>\n      <td>5</td>\n    </tr>\n    <tr>\n      <th>112</th>\n      <td>18-24</td>\n      <td>NaN</td>\n      <td>5</td>\n      <td>5</td>\n      <td>1.0</td>\n      <td>5</td>\n      <td>1</td>\n      <td>2</td>\n      <td>1</td>\n      <td>5.0</td>\n      <td>1</td>\n      <td>4</td>\n      <td>1</td>\n      <td>5</td>\n    </tr>\n    <tr>\n      <th>113</th>\n      <td>35-44</td>\n      <td>1.0</td>\n      <td>3</td>\n      <td>3</td>\n      <td>1.0</td>\n      <td>2</td>\n      <td>1</td>\n      <td>3</td>\n      <td>1</td>\n      <td>5.0</td>\n      <td>1</td>\n      <td>4</td>\n      <td>1</td>\n      <td>5</td>\n    </tr>\n    <tr>\n      <th>114</th>\n      <td>25-34</td>\n      <td>0.0</td>\n      <td>3</td>\n      <td>4</td>\n      <td>1.0</td>\n      <td>4</td>\n      <td>1</td>\n      <td>4</td>\n      <td>1</td>\n      <td>5.0</td>\n      <td>1</td>\n      <td>5</td>\n      <td>1</td>\n      <td>5</td>\n    </tr>\n  </tbody>\n</table>\n<p>115 rows × 14 columns</p>\n</div>"
     },
     "execution_count": 9,
     "metadata": {},
     "output_type": "execute_result"
    }
   ],
   "source": [
    "d5 = d4.copy()\n",
    "\n",
    "# Define mapping dictionaries for all columns\n",
    "mapping_dict = {\n",
    "    'What is your age?': None,  # Leave as is\n",
    "    'What is your Gender?': {\n",
    "        'Female': 1,\n",
    "        'Male': 0,\n",
    "        'Prefer not to say': 1  # Assumed to be binary\n",
    "    },\n",
    "    'Which region in Kenya do you currently reside in?': {\n",
    "        'Nairobi': 5,\n",
    "        'Central': 4,\n",
    "        'Coast': 3,\n",
    "        'Nyanza': 2,\n",
    "        'Western': 1,\n",
    "        'Rift Valley': 1,\n",
    "        'North Eastern': 1\n",
    "    },\n",
    "    'How aware are you about the environmental issues?(1 being the lowest,5 being the highest)': {\n",
    "        5: 5,\n",
    "        4: 4,\n",
    "        3: 3,\n",
    "        2: 2,\n",
    "        1: 1\n",
    "    },\n",
    "    'Do you actively engage in environment-friendly practices in your daily life?': {\n",
    "        'Yes': 1,\n",
    "        'No': 0\n",
    "    },\n",
    "    'I am confident in my ability to distinguish between different eco-labels when shopping for products.': {\n",
    "        'Strongly Agree': 5,\n",
    "        'Agree': 4,\n",
    "        'Neutral': 3,\n",
    "        'Disagree': 2,\n",
    "        'Strongly Disagree': 1\n",
    "    },\n",
    "    'Have you ever encountered multiple eco-labels on similar products?': {\n",
    "        'Yes': 1,\n",
    "        'No': 0\n",
    "    },\n",
    "    'How often do you find it challenging to understand the environmental implications of a product based on its eco-label?': {\n",
    "        'Frequently': 5,\n",
    "        'Rarely': 4,\n",
    "        'Occasionally': 3,\n",
    "        'Never': 2\n",
    "    },\n",
    "    'Are you familiar with the KEBS (Kenya Bureau of Standards) standard mark?': {\n",
    "        'Yes': 1,\n",
    "        'No': 0\n",
    "    },\n",
    "    'How much trust do you place in products that bear the KEBS label when it comes to quality and safety?': {\n",
    "        'A great deal': 5,\n",
    "        'Some': 4,\n",
    "        'Little': 3,\n",
    "        'NaN': 1,  # Assumed to be 1 if the value is missing\n",
    "        'A great deal': 5,\n",
    "        'Somewhat': 2\n",
    "    },\n",
    "    'Have you intentionally purchased products with the KEBS label because of its perceived quality and safety standards?': {\n",
    "        'Yes': 1,\n",
    "        'No': 0\n",
    "    },\n",
    "    'To what extent do you associate the KEBS label with government oversight and regulation?': {\n",
    "        'Strongly': 5,\n",
    "        'Somewhat': 4,\n",
    "        'Neutral': 3,\n",
    "        'Not very': 2,\n",
    "        'Not at all': 1\n",
    "    },\n",
    "    'Do you believe that products with the KEBS label are more reliable and safer than those without it?': {\n",
    "        'Yes': 1,\n",
    "        'No': 0\n",
    "    },\n",
    "    'How likely are you to choose a product with the KEBS label over a similar product without it?': {\n",
    "        'Very likely': 5,\n",
    "        'Somewhat likely': 4,\n",
    "        'Neutral': 3,\n",
    "        'Somewhat unlikely': 2,\n",
    "        'Very unlikely': 1\n",
    "    }\n",
    "}\n",
    "\n",
    "# Apply mapping to the DataFrame\n",
    "for column, mapping in mapping_dict.items():\n",
    "    if mapping:\n",
    "        d5[column] = d5[column].map(mapping)\n",
    "\n",
    "# Print the DataFrame with mappings applied\n",
    "d5\n"
   ],
   "metadata": {
    "collapsed": false,
    "ExecuteTime": {
     "end_time": "2023-10-31T17:13:49.341994900Z",
     "start_time": "2023-10-31T17:13:49.191164100Z"
    }
   },
   "id": "6ee51c856426cd13"
  },
  {
   "cell_type": "code",
   "execution_count": 11,
   "outputs": [
    {
     "data": {
      "text/plain": "     I am confident in my ability to distinguish between different eco-labels when shopping for products.  \\\n0                                                    5                                                      \n1                                                    4                                                      \n2                                                    1                                                      \n3                                                    3                                                      \n4                                                    3                                                      \n..                                                 ...                                                      \n110                                                  3                                                      \n111                                                  3                                                      \n112                                                  5                                                      \n113                                                  2                                                      \n114                                                  4                                                      \n\n     Have you ever encountered multiple eco-labels on similar products?  \\\n0                                                    1                    \n1                                                    0                    \n2                                                    0                    \n3                                                    1                    \n4                                                    1                    \n..                                                 ...                    \n110                                                  0                    \n111                                                  0                    \n112                                                  1                    \n113                                                  1                    \n114                                                  1                    \n\n     How often do you find it challenging to understand the environmental implications of a product based on its eco-label?  \n0                                                    5                                                                       \n1                                                    4                                                                       \n2                                                    5                                                                       \n3                                                    4                                                                       \n4                                                    3                                                                       \n..                                                 ...                                                                       \n110                                                  4                                                                       \n111                                                  3                                                                       \n112                                                  2                                                                       \n113                                                  3                                                                       \n114                                                  4                                                                       \n\n[115 rows x 3 columns]",
      "text/html": "<div>\n<style scoped>\n    .dataframe tbody tr th:only-of-type {\n        vertical-align: middle;\n    }\n\n    .dataframe tbody tr th {\n        vertical-align: top;\n    }\n\n    .dataframe thead th {\n        text-align: right;\n    }\n</style>\n<table border=\"1\" class=\"dataframe\">\n  <thead>\n    <tr style=\"text-align: right;\">\n      <th></th>\n      <th>I am confident in my ability to distinguish between different eco-labels when shopping for products.</th>\n      <th>Have you ever encountered multiple eco-labels on similar products?</th>\n      <th>How often do you find it challenging to understand the environmental implications of a product based on its eco-label?</th>\n    </tr>\n  </thead>\n  <tbody>\n    <tr>\n      <th>0</th>\n      <td>5</td>\n      <td>1</td>\n      <td>5</td>\n    </tr>\n    <tr>\n      <th>1</th>\n      <td>4</td>\n      <td>0</td>\n      <td>4</td>\n    </tr>\n    <tr>\n      <th>2</th>\n      <td>1</td>\n      <td>0</td>\n      <td>5</td>\n    </tr>\n    <tr>\n      <th>3</th>\n      <td>3</td>\n      <td>1</td>\n      <td>4</td>\n    </tr>\n    <tr>\n      <th>4</th>\n      <td>3</td>\n      <td>1</td>\n      <td>3</td>\n    </tr>\n    <tr>\n      <th>...</th>\n      <td>...</td>\n      <td>...</td>\n      <td>...</td>\n    </tr>\n    <tr>\n      <th>110</th>\n      <td>3</td>\n      <td>0</td>\n      <td>4</td>\n    </tr>\n    <tr>\n      <th>111</th>\n      <td>3</td>\n      <td>0</td>\n      <td>3</td>\n    </tr>\n    <tr>\n      <th>112</th>\n      <td>5</td>\n      <td>1</td>\n      <td>2</td>\n    </tr>\n    <tr>\n      <th>113</th>\n      <td>2</td>\n      <td>1</td>\n      <td>3</td>\n    </tr>\n    <tr>\n      <th>114</th>\n      <td>4</td>\n      <td>1</td>\n      <td>4</td>\n    </tr>\n  </tbody>\n</table>\n<p>115 rows × 3 columns</p>\n</div>"
     },
     "execution_count": 11,
     "metadata": {},
     "output_type": "execute_result"
    }
   ],
   "source": [
    "d6 = d5[['I am confident in my ability to distinguish between different eco-labels when shopping for products.','Have you ever encountered multiple eco-labels on similar products?','How often do you find it challenging to understand the environmental implications of a product based on its eco-label?']]\n",
    "d6"
   ],
   "metadata": {
    "collapsed": false,
    "ExecuteTime": {
     "end_time": "2023-10-31T17:16:52.732645900Z",
     "start_time": "2023-10-31T17:16:52.700781500Z"
    }
   },
   "id": "2a5cc3d5719a8135"
  },
  {
   "cell_type": "code",
   "execution_count": 13,
   "outputs": [
    {
     "name": "stderr",
     "output_type": "stream",
     "text": [
      "C:\\Users\\David\\AppData\\Local\\Temp\\ipykernel_3620\\2997108162.py:1: SettingWithCopyWarning: \n",
      "A value is trying to be set on a copy of a slice from a DataFrame\n",
      "\n",
      "See the caveats in the documentation: https://pandas.pydata.org/pandas-docs/stable/user_guide/indexing.html#returning-a-view-versus-a-copy\n",
      "  d6.rename({\n"
     ]
    },
    {
     "data": {
      "text/plain": "     Confidence  Encounter_Multiple_Labels  Challenging_Understanding\n0             5                          1                          5\n1             4                          0                          4\n2             1                          0                          5\n3             3                          1                          4\n4             3                          1                          3\n..          ...                        ...                        ...\n110           3                          0                          4\n111           3                          0                          3\n112           5                          1                          2\n113           2                          1                          3\n114           4                          1                          4\n\n[115 rows x 3 columns]",
      "text/html": "<div>\n<style scoped>\n    .dataframe tbody tr th:only-of-type {\n        vertical-align: middle;\n    }\n\n    .dataframe tbody tr th {\n        vertical-align: top;\n    }\n\n    .dataframe thead th {\n        text-align: right;\n    }\n</style>\n<table border=\"1\" class=\"dataframe\">\n  <thead>\n    <tr style=\"text-align: right;\">\n      <th></th>\n      <th>Confidence</th>\n      <th>Encounter_Multiple_Labels</th>\n      <th>Challenging_Understanding</th>\n    </tr>\n  </thead>\n  <tbody>\n    <tr>\n      <th>0</th>\n      <td>5</td>\n      <td>1</td>\n      <td>5</td>\n    </tr>\n    <tr>\n      <th>1</th>\n      <td>4</td>\n      <td>0</td>\n      <td>4</td>\n    </tr>\n    <tr>\n      <th>2</th>\n      <td>1</td>\n      <td>0</td>\n      <td>5</td>\n    </tr>\n    <tr>\n      <th>3</th>\n      <td>3</td>\n      <td>1</td>\n      <td>4</td>\n    </tr>\n    <tr>\n      <th>4</th>\n      <td>3</td>\n      <td>1</td>\n      <td>3</td>\n    </tr>\n    <tr>\n      <th>...</th>\n      <td>...</td>\n      <td>...</td>\n      <td>...</td>\n    </tr>\n    <tr>\n      <th>110</th>\n      <td>3</td>\n      <td>0</td>\n      <td>4</td>\n    </tr>\n    <tr>\n      <th>111</th>\n      <td>3</td>\n      <td>0</td>\n      <td>3</td>\n    </tr>\n    <tr>\n      <th>112</th>\n      <td>5</td>\n      <td>1</td>\n      <td>2</td>\n    </tr>\n    <tr>\n      <th>113</th>\n      <td>2</td>\n      <td>1</td>\n      <td>3</td>\n    </tr>\n    <tr>\n      <th>114</th>\n      <td>4</td>\n      <td>1</td>\n      <td>4</td>\n    </tr>\n  </tbody>\n</table>\n<p>115 rows × 3 columns</p>\n</div>"
     },
     "execution_count": 13,
     "metadata": {},
     "output_type": "execute_result"
    }
   ],
   "source": [
    "d6.rename({\n",
    "    'I am confident in my ability to distinguish between different eco-labels when shopping for products.':'Confidence','Have you ever encountered multiple eco-labels on similar products?':'Encounter_Multiple_Labels','How often do you find it challenging to understand the environmental implications of a product based on its eco-label?':'Challenging_Understanding'\n",
    "},axis=1,inplace=True)\n",
    "d6"
   ],
   "metadata": {
    "collapsed": false,
    "ExecuteTime": {
     "end_time": "2023-10-31T17:20:33.882932300Z",
     "start_time": "2023-10-31T17:20:33.583607500Z"
    }
   },
   "id": "c1e9b4eb119a386d"
  },
  {
   "cell_type": "code",
   "execution_count": 30,
   "outputs": [
    {
     "data": {
      "text/plain": "SolverResult(fun=1.1088400864167625e-07, success=True, n_it=15, x=array([ 0.56955222,  0.93710384,  0.13830387,  0.34566716,  0.11070271,\n        0.09472658, -0.09435964,  0.2231061 , -0.1027481 ]), message='Optimization terminated successfully', name_method='SLSQP', name_obj='MLW')"
     },
     "execution_count": 30,
     "metadata": {},
     "output_type": "execute_result"
    }
   ],
   "source": [
    "import semopy\n",
    "\n",
    "model = '''\n",
    "    # Measurement model\n",
    "    f1 =~ Confidence\n",
    "    f2 =~ Encounter_Multiple_Labels\n",
    "    f3 =~ Challenging_Understanding\n",
    "'''\n",
    "model = semopy.Model(model)\n",
    "model.fit(d6)\n",
    " "
   ],
   "metadata": {
    "collapsed": false,
    "ExecuteTime": {
     "end_time": "2023-10-31T19:18:53.893294300Z",
     "start_time": "2023-10-31T19:18:52.799446800Z"
    }
   },
   "id": "a08b936872e0a792"
  },
  {
   "cell_type": "code",
   "execution_count": 33,
   "outputs": [
    {
     "name": "stdout",
     "output_type": "stream",
     "text": [
      "Name of objective: MLW\n",
      "Optimization method: SLSQP\n",
      "Optimization successful.\n",
      "Optimization terminated successfully\n",
      "Objective value: 0.000\n",
      "Number of iterations: 1\n",
      "Params: 0.570 0.937 0.138 0.346 0.111 0.095 -0.094 0.223 -0.103\n"
     ]
    }
   ],
   "source": [
    "res =model.fit(d6)\n",
    "print(res)"
   ],
   "metadata": {
    "collapsed": false,
    "ExecuteTime": {
     "end_time": "2023-10-31T19:24:30.197750900Z",
     "start_time": "2023-10-31T19:24:30.127514200Z"
    }
   },
   "id": "24fc97d0ba33bb5e"
  },
  {
   "cell_type": "markdown",
   "source": [
    "# Intepretation"
   ],
   "metadata": {
    "collapsed": false
   },
   "id": "33e25810c6473425"
  },
  {
   "cell_type": "markdown",
   "source": [
    "#### factor_loadings = [0.56955222, 0.93710384, 0.13830387]\n",
    "These factor loadings correspond to the three latent factors in your CFA model: \"f1,\" \"f2,\" and \"f3.\" Each factor loading value represents the strength of the relationship between the corresponding latent factor and the observed variable.\n",
    "\n",
    "Factor f1 has a loading of approximately 0.570 on the variable \"Confidence.\" This indicates that \"Confidence\" is a good indicator of the underlying construct represented by factor f1. A higher loading suggests that changes in \"Confidence\" are strongly associated with changes in factor f1.\n",
    "\n",
    "Factor f2 has a loading of approximately 0.937 on the variable \"Encounter_Multiple_Labels.\" This high loading suggests that \"Encounter_Multiple_Labels\" is a very strong indicator of factor f2.\n",
    "\n",
    "Factor f3 has a loading of approximately 0.138 on the variable \"Challenging_Understanding.\" This lower loading indicates that \"Challenging_Understanding\" has a weaker association with factor f3 compared to the other indicators.\n",
    "\n",
    "It's important to note that the magnitude of the factor loading values can vary between -1 and 1, where values closer to 1 or -1 indicate a stronger relationship between the factor and the indicator. Values closer to 0 suggest a weaker relationship.\n",
    "\n",
    "In summary, these results suggest that \"Encounter_Multiple_Labels\" is a strong indicator of factor f2, while \"Confidence\" also contributes to factor f1 but with a somewhat weaker association. \"Challenging_Understanding\" has a relatively weaker relationship with factor f3. The CFA model has successfully estimated these factor loadings, which can be used to understand the relationships between latent constructs and observed variables in your da\n"
   ],
   "metadata": {
    "collapsed": false
   },
   "id": "7463de9cdcdb7a6b"
  },
  {
   "cell_type": "markdown",
   "source": [
    "In Confirmatory Factor Analysis (CFA), the factor loadings represent the relationships between latent factors (in this case, your Eco-label Perception Construct) and the observed variables (the three questions). The factor loadings are standardized coefficients that indicate how much variance in the observed variables is explained by the underlying latent construct. Let's interpret your results with respect to these three questions and the Eco-label Perception Construct:\n",
    "\n",
    "\"I am confident in my ability to distinguish between different eco-labels when shopping for products.\"\n",
    "\n",
    "Factor Loading: 0.570\n",
    "Interpretation: The factor loading of 0.570 suggests that this question is moderately positively associated with the Eco-label Perception Construct. In other words, individuals who report higher confidence in distinguishing between eco-labels are more likely to score higher on the Eco-label Perception Construct. This question contributes significantly to the measurement of the Eco-label Perception Construct.\n",
    "\"Have you ever encountered multiple eco-labels on similar products?\"\n",
    "\n",
    "Factor Loading: 0.937\n",
    "Interpretation: The factor loading of 0.937 indicates a strong positive association between encountering multiple eco-labels and the Eco-label Perception Construct. Individuals who have encountered multiple eco-labels on similar products are more likely to have a higher score on the Eco-label Perception Construct. This question is a strong indicator of the construct.\n",
    "\"How often do you find it challenging to understand the environmental implications of a product based on its eco-label?\"\n",
    "\n",
    "Factor Loading: 0.138\n",
    "Interpretation: The factor loading of 0.138 suggests that this question is weakly positively associated with the Eco-label Perception Construct. It contributes to the measurement of the construct, but to a lesser extent compared to the other two questions. Individuals who find it challenging to understand eco-labels tend to have a slightly higher score on the Eco-label Perception Construct"
   ],
   "metadata": {
    "collapsed": false
   },
   "id": "de0f56765815cd5a"
  },
  {
   "cell_type": "markdown",
   "source": [
    "# Trust in KEBS Construct:"
   ],
   "metadata": {
    "collapsed": false
   },
   "id": "8b3ffcd59adf2ca2"
  },
  {
   "cell_type": "code",
   "execution_count": 35,
   "outputs": [
    {
     "data": {
      "text/plain": "    What is your age?  What is your Gender?  \\\n0               18-24                   1.0   \n1               18-24                   1.0   \n2               55-64                   0.0   \n3               25-34                   0.0   \n4               35-44                   0.0   \n..                ...                   ...   \n110             18-24                   1.0   \n111             18-24                   0.0   \n112             18-24                   NaN   \n113             35-44                   1.0   \n114             25-34                   0.0   \n\n     Which region in Kenya do you currently reside in?  \\\n0                                                    5   \n1                                                    4   \n2                                                    3   \n3                                                    5   \n4                                                    2   \n..                                                 ...   \n110                                                  5   \n111                                                  5   \n112                                                  5   \n113                                                  3   \n114                                                  3   \n\n     How aware are you about the environmental issues?(1 being the lowest,5 being the highest)  \\\n0                                                    5                                           \n1                                                    5                                           \n2                                                    5                                           \n3                                                    4                                           \n4                                                    4                                           \n..                                                 ...                                           \n110                                                  4                                           \n111                                                  4                                           \n112                                                  5                                           \n113                                                  3                                           \n114                                                  4                                           \n\n     Do you actively engage in environment-friendly practices in your daily life?  \\\n0                                                  0.0                              \n1                                                  1.0                              \n2                                                  1.0                              \n3                                                  1.0                              \n4                                                  1.0                              \n..                                                 ...                              \n110                                                1.0                              \n111                                                1.0                              \n112                                                1.0                              \n113                                                1.0                              \n114                                                1.0                              \n\n     I am confident in my ability to distinguish between different eco-labels when shopping for products.  \\\n0                                                    5                                                      \n1                                                    4                                                      \n2                                                    1                                                      \n3                                                    3                                                      \n4                                                    3                                                      \n..                                                 ...                                                      \n110                                                  3                                                      \n111                                                  3                                                      \n112                                                  5                                                      \n113                                                  2                                                      \n114                                                  4                                                      \n\n     Have you ever encountered multiple eco-labels on similar products?  \\\n0                                                    1                    \n1                                                    0                    \n2                                                    0                    \n3                                                    1                    \n4                                                    1                    \n..                                                 ...                    \n110                                                  0                    \n111                                                  0                    \n112                                                  1                    \n113                                                  1                    \n114                                                  1                    \n\n     How often do you find it challenging to understand the environmental implications of a product based on its eco-label?  \\\n0                                                    5                                                                        \n1                                                    4                                                                        \n2                                                    5                                                                        \n3                                                    4                                                                        \n4                                                    3                                                                        \n..                                                 ...                                                                        \n110                                                  4                                                                        \n111                                                  3                                                                        \n112                                                  2                                                                        \n113                                                  3                                                                        \n114                                                  4                                                                        \n\n     Are you familiar with the KEBS (Kenya Bureau of Standards) standard mark?  \\\n0                                                    1                           \n1                                                    1                           \n2                                                    1                           \n3                                                    1                           \n4                                                    1                           \n..                                                 ...                           \n110                                                  1                           \n111                                                  1                           \n112                                                  1                           \n113                                                  1                           \n114                                                  1                           \n\n     How much trust do you place in products that bear the KEBS label when it comes to quality and safety?  \\\n0                                                  4.0                                                       \n1                                                  NaN                                                       \n2                                                  NaN                                                       \n3                                                  3.0                                                       \n4                                                  3.0                                                       \n..                                                 ...                                                       \n110                                                5.0                                                       \n111                                                5.0                                                       \n112                                                5.0                                                       \n113                                                5.0                                                       \n114                                                5.0                                                       \n\n     Have you intentionally purchased products with the KEBS label because of its perceived quality and safety standards?  \\\n0                                                    1                                                                      \n1                                                    1                                                                      \n2                                                    1                                                                      \n3                                                    0                                                                      \n4                                                    0                                                                      \n..                                                 ...                                                                      \n110                                                  1                                                                      \n111                                                  1                                                                      \n112                                                  1                                                                      \n113                                                  1                                                                      \n114                                                  1                                                                      \n\n     To what extent do you associate the KEBS label with government oversight and regulation?  \\\n0                                                    3                                          \n1                                                    5                                          \n2                                                    5                                          \n3                                                    3                                          \n4                                                    4                                          \n..                                                 ...                                          \n110                                                  5                                          \n111                                                  5                                          \n112                                                  4                                          \n113                                                  4                                          \n114                                                  5                                          \n\n     Do you believe that products with the KEBS label are more reliable and safer than those without it?  \\\n0                                                    1                                                     \n1                                                    1                                                     \n2                                                    1                                                     \n3                                                    0                                                     \n4                                                    0                                                     \n..                                                 ...                                                     \n110                                                  1                                                     \n111                                                  1                                                     \n112                                                  1                                                     \n113                                                  1                                                     \n114                                                  1                                                     \n\n     How likely are you to choose a product with the KEBS label over a similar product without it?  \n0                                                    4                                              \n1                                                    5                                              \n2                                                    5                                              \n3                                                    3                                              \n4                                                    4                                              \n..                                                 ...                                              \n110                                                  5                                              \n111                                                  5                                              \n112                                                  5                                              \n113                                                  5                                              \n114                                                  5                                              \n\n[115 rows x 14 columns]",
      "text/html": "<div>\n<style scoped>\n    .dataframe tbody tr th:only-of-type {\n        vertical-align: middle;\n    }\n\n    .dataframe tbody tr th {\n        vertical-align: top;\n    }\n\n    .dataframe thead th {\n        text-align: right;\n    }\n</style>\n<table border=\"1\" class=\"dataframe\">\n  <thead>\n    <tr style=\"text-align: right;\">\n      <th></th>\n      <th>What is your age?</th>\n      <th>What is your Gender?</th>\n      <th>Which region in Kenya do you currently reside in?</th>\n      <th>How aware are you about the environmental issues?(1 being the lowest,5 being the highest)</th>\n      <th>Do you actively engage in environment-friendly practices in your daily life?</th>\n      <th>I am confident in my ability to distinguish between different eco-labels when shopping for products.</th>\n      <th>Have you ever encountered multiple eco-labels on similar products?</th>\n      <th>How often do you find it challenging to understand the environmental implications of a product based on its eco-label?</th>\n      <th>Are you familiar with the KEBS (Kenya Bureau of Standards) standard mark?</th>\n      <th>How much trust do you place in products that bear the KEBS label when it comes to quality and safety?</th>\n      <th>Have you intentionally purchased products with the KEBS label because of its perceived quality and safety standards?</th>\n      <th>To what extent do you associate the KEBS label with government oversight and regulation?</th>\n      <th>Do you believe that products with the KEBS label are more reliable and safer than those without it?</th>\n      <th>How likely are you to choose a product with the KEBS label over a similar product without it?</th>\n    </tr>\n  </thead>\n  <tbody>\n    <tr>\n      <th>0</th>\n      <td>18-24</td>\n      <td>1.0</td>\n      <td>5</td>\n      <td>5</td>\n      <td>0.0</td>\n      <td>5</td>\n      <td>1</td>\n      <td>5</td>\n      <td>1</td>\n      <td>4.0</td>\n      <td>1</td>\n      <td>3</td>\n      <td>1</td>\n      <td>4</td>\n    </tr>\n    <tr>\n      <th>1</th>\n      <td>18-24</td>\n      <td>1.0</td>\n      <td>4</td>\n      <td>5</td>\n      <td>1.0</td>\n      <td>4</td>\n      <td>0</td>\n      <td>4</td>\n      <td>1</td>\n      <td>NaN</td>\n      <td>1</td>\n      <td>5</td>\n      <td>1</td>\n      <td>5</td>\n    </tr>\n    <tr>\n      <th>2</th>\n      <td>55-64</td>\n      <td>0.0</td>\n      <td>3</td>\n      <td>5</td>\n      <td>1.0</td>\n      <td>1</td>\n      <td>0</td>\n      <td>5</td>\n      <td>1</td>\n      <td>NaN</td>\n      <td>1</td>\n      <td>5</td>\n      <td>1</td>\n      <td>5</td>\n    </tr>\n    <tr>\n      <th>3</th>\n      <td>25-34</td>\n      <td>0.0</td>\n      <td>5</td>\n      <td>4</td>\n      <td>1.0</td>\n      <td>3</td>\n      <td>1</td>\n      <td>4</td>\n      <td>1</td>\n      <td>3.0</td>\n      <td>0</td>\n      <td>3</td>\n      <td>0</td>\n      <td>3</td>\n    </tr>\n    <tr>\n      <th>4</th>\n      <td>35-44</td>\n      <td>0.0</td>\n      <td>2</td>\n      <td>4</td>\n      <td>1.0</td>\n      <td>3</td>\n      <td>1</td>\n      <td>3</td>\n      <td>1</td>\n      <td>3.0</td>\n      <td>0</td>\n      <td>4</td>\n      <td>0</td>\n      <td>4</td>\n    </tr>\n    <tr>\n      <th>...</th>\n      <td>...</td>\n      <td>...</td>\n      <td>...</td>\n      <td>...</td>\n      <td>...</td>\n      <td>...</td>\n      <td>...</td>\n      <td>...</td>\n      <td>...</td>\n      <td>...</td>\n      <td>...</td>\n      <td>...</td>\n      <td>...</td>\n      <td>...</td>\n    </tr>\n    <tr>\n      <th>110</th>\n      <td>18-24</td>\n      <td>1.0</td>\n      <td>5</td>\n      <td>4</td>\n      <td>1.0</td>\n      <td>3</td>\n      <td>0</td>\n      <td>4</td>\n      <td>1</td>\n      <td>5.0</td>\n      <td>1</td>\n      <td>5</td>\n      <td>1</td>\n      <td>5</td>\n    </tr>\n    <tr>\n      <th>111</th>\n      <td>18-24</td>\n      <td>0.0</td>\n      <td>5</td>\n      <td>4</td>\n      <td>1.0</td>\n      <td>3</td>\n      <td>0</td>\n      <td>3</td>\n      <td>1</td>\n      <td>5.0</td>\n      <td>1</td>\n      <td>5</td>\n      <td>1</td>\n      <td>5</td>\n    </tr>\n    <tr>\n      <th>112</th>\n      <td>18-24</td>\n      <td>NaN</td>\n      <td>5</td>\n      <td>5</td>\n      <td>1.0</td>\n      <td>5</td>\n      <td>1</td>\n      <td>2</td>\n      <td>1</td>\n      <td>5.0</td>\n      <td>1</td>\n      <td>4</td>\n      <td>1</td>\n      <td>5</td>\n    </tr>\n    <tr>\n      <th>113</th>\n      <td>35-44</td>\n      <td>1.0</td>\n      <td>3</td>\n      <td>3</td>\n      <td>1.0</td>\n      <td>2</td>\n      <td>1</td>\n      <td>3</td>\n      <td>1</td>\n      <td>5.0</td>\n      <td>1</td>\n      <td>4</td>\n      <td>1</td>\n      <td>5</td>\n    </tr>\n    <tr>\n      <th>114</th>\n      <td>25-34</td>\n      <td>0.0</td>\n      <td>3</td>\n      <td>4</td>\n      <td>1.0</td>\n      <td>4</td>\n      <td>1</td>\n      <td>4</td>\n      <td>1</td>\n      <td>5.0</td>\n      <td>1</td>\n      <td>5</td>\n      <td>1</td>\n      <td>5</td>\n    </tr>\n  </tbody>\n</table>\n<p>115 rows × 14 columns</p>\n</div>"
     },
     "execution_count": 35,
     "metadata": {},
     "output_type": "execute_result"
    }
   ],
   "source": [
    "d5"
   ],
   "metadata": {
    "collapsed": false,
    "ExecuteTime": {
     "end_time": "2023-10-31T20:24:50.634720500Z",
     "start_time": "2023-10-31T20:24:50.436130400Z"
    }
   },
   "id": "8279580283651d88"
  },
  {
   "cell_type": "code",
   "execution_count": 36,
   "outputs": [
    {
     "data": {
      "text/plain": "     How much trust do you place in products that bear the KEBS label when it comes to quality and safety?  \\\n0                                                  4.0                                                       \n1                                                  NaN                                                       \n2                                                  NaN                                                       \n3                                                  3.0                                                       \n4                                                  3.0                                                       \n..                                                 ...                                                       \n110                                                5.0                                                       \n111                                                5.0                                                       \n112                                                5.0                                                       \n113                                                5.0                                                       \n114                                                5.0                                                       \n\n     Have you intentionally purchased products with the KEBS label because of its perceived quality and safety standards?  \\\n0                                                    1                                                                      \n1                                                    1                                                                      \n2                                                    1                                                                      \n3                                                    0                                                                      \n4                                                    0                                                                      \n..                                                 ...                                                                      \n110                                                  1                                                                      \n111                                                  1                                                                      \n112                                                  1                                                                      \n113                                                  1                                                                      \n114                                                  1                                                                      \n\n     To what extent do you associate the KEBS label with government oversight and regulation?  \\\n0                                                    3                                          \n1                                                    5                                          \n2                                                    5                                          \n3                                                    3                                          \n4                                                    4                                          \n..                                                 ...                                          \n110                                                  5                                          \n111                                                  5                                          \n112                                                  4                                          \n113                                                  4                                          \n114                                                  5                                          \n\n     Do you believe that products with the KEBS label are more reliable and safer than those without it?  \\\n0                                                    1                                                     \n1                                                    1                                                     \n2                                                    1                                                     \n3                                                    0                                                     \n4                                                    0                                                     \n..                                                 ...                                                     \n110                                                  1                                                     \n111                                                  1                                                     \n112                                                  1                                                     \n113                                                  1                                                     \n114                                                  1                                                     \n\n     How likely are you to choose a product with the KEBS label over a similar product without it?  \n0                                                    4                                              \n1                                                    5                                              \n2                                                    5                                              \n3                                                    3                                              \n4                                                    4                                              \n..                                                 ...                                              \n110                                                  5                                              \n111                                                  5                                              \n112                                                  5                                              \n113                                                  5                                              \n114                                                  5                                              \n\n[115 rows x 5 columns]",
      "text/html": "<div>\n<style scoped>\n    .dataframe tbody tr th:only-of-type {\n        vertical-align: middle;\n    }\n\n    .dataframe tbody tr th {\n        vertical-align: top;\n    }\n\n    .dataframe thead th {\n        text-align: right;\n    }\n</style>\n<table border=\"1\" class=\"dataframe\">\n  <thead>\n    <tr style=\"text-align: right;\">\n      <th></th>\n      <th>How much trust do you place in products that bear the KEBS label when it comes to quality and safety?</th>\n      <th>Have you intentionally purchased products with the KEBS label because of its perceived quality and safety standards?</th>\n      <th>To what extent do you associate the KEBS label with government oversight and regulation?</th>\n      <th>Do you believe that products with the KEBS label are more reliable and safer than those without it?</th>\n      <th>How likely are you to choose a product with the KEBS label over a similar product without it?</th>\n    </tr>\n  </thead>\n  <tbody>\n    <tr>\n      <th>0</th>\n      <td>4.0</td>\n      <td>1</td>\n      <td>3</td>\n      <td>1</td>\n      <td>4</td>\n    </tr>\n    <tr>\n      <th>1</th>\n      <td>NaN</td>\n      <td>1</td>\n      <td>5</td>\n      <td>1</td>\n      <td>5</td>\n    </tr>\n    <tr>\n      <th>2</th>\n      <td>NaN</td>\n      <td>1</td>\n      <td>5</td>\n      <td>1</td>\n      <td>5</td>\n    </tr>\n    <tr>\n      <th>3</th>\n      <td>3.0</td>\n      <td>0</td>\n      <td>3</td>\n      <td>0</td>\n      <td>3</td>\n    </tr>\n    <tr>\n      <th>4</th>\n      <td>3.0</td>\n      <td>0</td>\n      <td>4</td>\n      <td>0</td>\n      <td>4</td>\n    </tr>\n    <tr>\n      <th>...</th>\n      <td>...</td>\n      <td>...</td>\n      <td>...</td>\n      <td>...</td>\n      <td>...</td>\n    </tr>\n    <tr>\n      <th>110</th>\n      <td>5.0</td>\n      <td>1</td>\n      <td>5</td>\n      <td>1</td>\n      <td>5</td>\n    </tr>\n    <tr>\n      <th>111</th>\n      <td>5.0</td>\n      <td>1</td>\n      <td>5</td>\n      <td>1</td>\n      <td>5</td>\n    </tr>\n    <tr>\n      <th>112</th>\n      <td>5.0</td>\n      <td>1</td>\n      <td>4</td>\n      <td>1</td>\n      <td>5</td>\n    </tr>\n    <tr>\n      <th>113</th>\n      <td>5.0</td>\n      <td>1</td>\n      <td>4</td>\n      <td>1</td>\n      <td>5</td>\n    </tr>\n    <tr>\n      <th>114</th>\n      <td>5.0</td>\n      <td>1</td>\n      <td>5</td>\n      <td>1</td>\n      <td>5</td>\n    </tr>\n  </tbody>\n</table>\n<p>115 rows × 5 columns</p>\n</div>"
     },
     "execution_count": 36,
     "metadata": {},
     "output_type": "execute_result"
    }
   ],
   "source": [
    "d7 = d5[[\"How much trust do you place in products that bear the KEBS label when it comes to quality and safety?\",\n",
    "\"Have you intentionally purchased products with the KEBS label because of its perceived quality and safety standards?\",\n",
    "\"To what extent do you associate the KEBS label with government oversight and regulation?\",\n",
    "\"Do you believe that products with the KEBS label are more reliable and safer than those without it?\",\n",
    "\"How likely are you to choose a product with the KEBS label over a similar product without it?\"]]\n",
    "d7"
   ],
   "metadata": {
    "collapsed": false,
    "ExecuteTime": {
     "end_time": "2023-10-31T20:25:39.414553800Z",
     "start_time": "2023-10-31T20:25:38.896851500Z"
    }
   },
   "id": "f0bf68f17fc2c7e8"
  },
  {
   "cell_type": "code",
   "execution_count": 37,
   "outputs": [
    {
     "name": "stderr",
     "output_type": "stream",
     "text": [
      "C:\\Users\\David\\AppData\\Local\\Temp\\ipykernel_3620\\1247927630.py:1: SettingWithCopyWarning: \n",
      "A value is trying to be set on a copy of a slice from a DataFrame\n",
      "\n",
      "See the caveats in the documentation: https://pandas.pydata.org/pandas-docs/stable/user_guide/indexing.html#returning-a-view-versus-a-copy\n",
      "  d7.fillna(0, inplace=True)\n"
     ]
    },
    {
     "data": {
      "text/plain": "     How much trust do you place in products that bear the KEBS label when it comes to quality and safety?  \\\n0                                                  4.0                                                       \n1                                                  0.0                                                       \n2                                                  0.0                                                       \n3                                                  3.0                                                       \n4                                                  3.0                                                       \n..                                                 ...                                                       \n110                                                5.0                                                       \n111                                                5.0                                                       \n112                                                5.0                                                       \n113                                                5.0                                                       \n114                                                5.0                                                       \n\n     Have you intentionally purchased products with the KEBS label because of its perceived quality and safety standards?  \\\n0                                                    1                                                                      \n1                                                    1                                                                      \n2                                                    1                                                                      \n3                                                    0                                                                      \n4                                                    0                                                                      \n..                                                 ...                                                                      \n110                                                  1                                                                      \n111                                                  1                                                                      \n112                                                  1                                                                      \n113                                                  1                                                                      \n114                                                  1                                                                      \n\n     To what extent do you associate the KEBS label with government oversight and regulation?  \\\n0                                                    3                                          \n1                                                    5                                          \n2                                                    5                                          \n3                                                    3                                          \n4                                                    4                                          \n..                                                 ...                                          \n110                                                  5                                          \n111                                                  5                                          \n112                                                  4                                          \n113                                                  4                                          \n114                                                  5                                          \n\n     Do you believe that products with the KEBS label are more reliable and safer than those without it?  \\\n0                                                    1                                                     \n1                                                    1                                                     \n2                                                    1                                                     \n3                                                    0                                                     \n4                                                    0                                                     \n..                                                 ...                                                     \n110                                                  1                                                     \n111                                                  1                                                     \n112                                                  1                                                     \n113                                                  1                                                     \n114                                                  1                                                     \n\n     How likely are you to choose a product with the KEBS label over a similar product without it?  \n0                                                    4                                              \n1                                                    5                                              \n2                                                    5                                              \n3                                                    3                                              \n4                                                    4                                              \n..                                                 ...                                              \n110                                                  5                                              \n111                                                  5                                              \n112                                                  5                                              \n113                                                  5                                              \n114                                                  5                                              \n\n[115 rows x 5 columns]",
      "text/html": "<div>\n<style scoped>\n    .dataframe tbody tr th:only-of-type {\n        vertical-align: middle;\n    }\n\n    .dataframe tbody tr th {\n        vertical-align: top;\n    }\n\n    .dataframe thead th {\n        text-align: right;\n    }\n</style>\n<table border=\"1\" class=\"dataframe\">\n  <thead>\n    <tr style=\"text-align: right;\">\n      <th></th>\n      <th>How much trust do you place in products that bear the KEBS label when it comes to quality and safety?</th>\n      <th>Have you intentionally purchased products with the KEBS label because of its perceived quality and safety standards?</th>\n      <th>To what extent do you associate the KEBS label with government oversight and regulation?</th>\n      <th>Do you believe that products with the KEBS label are more reliable and safer than those without it?</th>\n      <th>How likely are you to choose a product with the KEBS label over a similar product without it?</th>\n    </tr>\n  </thead>\n  <tbody>\n    <tr>\n      <th>0</th>\n      <td>4.0</td>\n      <td>1</td>\n      <td>3</td>\n      <td>1</td>\n      <td>4</td>\n    </tr>\n    <tr>\n      <th>1</th>\n      <td>0.0</td>\n      <td>1</td>\n      <td>5</td>\n      <td>1</td>\n      <td>5</td>\n    </tr>\n    <tr>\n      <th>2</th>\n      <td>0.0</td>\n      <td>1</td>\n      <td>5</td>\n      <td>1</td>\n      <td>5</td>\n    </tr>\n    <tr>\n      <th>3</th>\n      <td>3.0</td>\n      <td>0</td>\n      <td>3</td>\n      <td>0</td>\n      <td>3</td>\n    </tr>\n    <tr>\n      <th>4</th>\n      <td>3.0</td>\n      <td>0</td>\n      <td>4</td>\n      <td>0</td>\n      <td>4</td>\n    </tr>\n    <tr>\n      <th>...</th>\n      <td>...</td>\n      <td>...</td>\n      <td>...</td>\n      <td>...</td>\n      <td>...</td>\n    </tr>\n    <tr>\n      <th>110</th>\n      <td>5.0</td>\n      <td>1</td>\n      <td>5</td>\n      <td>1</td>\n      <td>5</td>\n    </tr>\n    <tr>\n      <th>111</th>\n      <td>5.0</td>\n      <td>1</td>\n      <td>5</td>\n      <td>1</td>\n      <td>5</td>\n    </tr>\n    <tr>\n      <th>112</th>\n      <td>5.0</td>\n      <td>1</td>\n      <td>4</td>\n      <td>1</td>\n      <td>5</td>\n    </tr>\n    <tr>\n      <th>113</th>\n      <td>5.0</td>\n      <td>1</td>\n      <td>4</td>\n      <td>1</td>\n      <td>5</td>\n    </tr>\n    <tr>\n      <th>114</th>\n      <td>5.0</td>\n      <td>1</td>\n      <td>5</td>\n      <td>1</td>\n      <td>5</td>\n    </tr>\n  </tbody>\n</table>\n<p>115 rows × 5 columns</p>\n</div>"
     },
     "execution_count": 37,
     "metadata": {},
     "output_type": "execute_result"
    }
   ],
   "source": [
    "d7.fillna(0, inplace=True)\n",
    "d7"
   ],
   "metadata": {
    "collapsed": false,
    "ExecuteTime": {
     "end_time": "2023-10-31T20:26:10.657955700Z",
     "start_time": "2023-10-31T20:26:10.119590500Z"
    }
   },
   "id": "2688055b43762aaa"
  },
  {
   "cell_type": "code",
   "execution_count": 40,
   "outputs": [
    {
     "data": {
      "text/plain": "     Trust  Purchase  Association  Belief  Likelihood\n0      4.0         1            3       1           4\n1      0.0         1            5       1           5\n2      0.0         1            5       1           5\n3      3.0         0            3       0           3\n4      3.0         0            4       0           4\n..     ...       ...          ...     ...         ...\n110    5.0         1            5       1           5\n111    5.0         1            5       1           5\n112    5.0         1            4       1           5\n113    5.0         1            4       1           5\n114    5.0         1            5       1           5\n\n[115 rows x 5 columns]",
      "text/html": "<div>\n<style scoped>\n    .dataframe tbody tr th:only-of-type {\n        vertical-align: middle;\n    }\n\n    .dataframe tbody tr th {\n        vertical-align: top;\n    }\n\n    .dataframe thead th {\n        text-align: right;\n    }\n</style>\n<table border=\"1\" class=\"dataframe\">\n  <thead>\n    <tr style=\"text-align: right;\">\n      <th></th>\n      <th>Trust</th>\n      <th>Purchase</th>\n      <th>Association</th>\n      <th>Belief</th>\n      <th>Likelihood</th>\n    </tr>\n  </thead>\n  <tbody>\n    <tr>\n      <th>0</th>\n      <td>4.0</td>\n      <td>1</td>\n      <td>3</td>\n      <td>1</td>\n      <td>4</td>\n    </tr>\n    <tr>\n      <th>1</th>\n      <td>0.0</td>\n      <td>1</td>\n      <td>5</td>\n      <td>1</td>\n      <td>5</td>\n    </tr>\n    <tr>\n      <th>2</th>\n      <td>0.0</td>\n      <td>1</td>\n      <td>5</td>\n      <td>1</td>\n      <td>5</td>\n    </tr>\n    <tr>\n      <th>3</th>\n      <td>3.0</td>\n      <td>0</td>\n      <td>3</td>\n      <td>0</td>\n      <td>3</td>\n    </tr>\n    <tr>\n      <th>4</th>\n      <td>3.0</td>\n      <td>0</td>\n      <td>4</td>\n      <td>0</td>\n      <td>4</td>\n    </tr>\n    <tr>\n      <th>...</th>\n      <td>...</td>\n      <td>...</td>\n      <td>...</td>\n      <td>...</td>\n      <td>...</td>\n    </tr>\n    <tr>\n      <th>110</th>\n      <td>5.0</td>\n      <td>1</td>\n      <td>5</td>\n      <td>1</td>\n      <td>5</td>\n    </tr>\n    <tr>\n      <th>111</th>\n      <td>5.0</td>\n      <td>1</td>\n      <td>5</td>\n      <td>1</td>\n      <td>5</td>\n    </tr>\n    <tr>\n      <th>112</th>\n      <td>5.0</td>\n      <td>1</td>\n      <td>4</td>\n      <td>1</td>\n      <td>5</td>\n    </tr>\n    <tr>\n      <th>113</th>\n      <td>5.0</td>\n      <td>1</td>\n      <td>4</td>\n      <td>1</td>\n      <td>5</td>\n    </tr>\n    <tr>\n      <th>114</th>\n      <td>5.0</td>\n      <td>1</td>\n      <td>5</td>\n      <td>1</td>\n      <td>5</td>\n    </tr>\n  </tbody>\n</table>\n<p>115 rows × 5 columns</p>\n</div>"
     },
     "execution_count": 40,
     "metadata": {},
     "output_type": "execute_result"
    }
   ],
   "source": [
    "# Replace the column names with shorter names\n",
    "d7 = d7.rename(columns={\n",
    "    \"How much trust do you place in products that bear the KEBS label when it comes to quality and safety?\": \"Trust\",\n",
    "    \"Have you intentionally purchased products with the KEBS label because of its perceived quality and safety standards?\": \"Purchase\",\n",
    "    \"To what extent do you associate the KEBS label with government oversight and regulation?\": \"Association\",\n",
    "    \"Do you believe that products with the KEBS label are more reliable and safer than those without it?\": \"Belief\",\n",
    "    \"How likely are you to choose a product with the KEBS label over a similar product without it?\": \"Likelihood\"\n",
    "})\n",
    "d7"
   ],
   "metadata": {
    "collapsed": false,
    "ExecuteTime": {
     "end_time": "2023-10-31T20:30:33.315351600Z",
     "start_time": "2023-10-31T20:30:32.852023500Z"
    }
   },
   "id": "2b82d07628385ab6"
  },
  {
   "cell_type": "code",
   "execution_count": 43,
   "outputs": [
    {
     "name": "stderr",
     "output_type": "stream",
     "text": [
      "WARNING:root:Solver didnt converge, see SolverResult.\n"
     ]
    },
    {
     "data": {
      "text/plain": "SolverResult(fun=inf, success=False, n_it=1, x=array([0.05, 0.05, 0.05, 0.05, 0.05]), message='Inequality constraints incompatible', name_method='SLSQP', name_obj='MLW')"
     },
     "execution_count": 43,
     "metadata": {},
     "output_type": "execute_result"
    }
   ],
   "source": [
    "import semopy\n",
    "\n",
    "# Define your CFA model using the shorter column names\n",
    "model = '''\n",
    "    # Measurement model\n",
    "    Trust =~ Trust\n",
    "    Purchase =~ Purchase\n",
    "    Association =~ Association\n",
    "    Belief =~ Belief\n",
    "    Likelihood =~ Likelihood\n",
    "'''\n",
    "model = semopy.Model(model)\n",
    "                                                                                \n",
    "# Fit the CFA model to your data\n",
    "model.fit(d7)\n",
    "  "
   ],
   "metadata": {
    "collapsed": false,
    "ExecuteTime": {
     "end_time": "2023-10-31T20:45:19.154641100Z",
     "start_time": "2023-10-31T20:45:18.963296800Z"
    }
   },
   "id": "254bd1224e10e11f"
  },
  {
   "cell_type": "code",
   "execution_count": 44,
   "outputs": [
    {
     "data": {
      "text/plain": "     Trust  Purchase  Association  Belief  Likelihood\n0      4.0         1            3       1           4\n1      0.0         1            5       1           5\n2      0.0         1            5       1           5\n3      3.0         0            3       0           3\n4      3.0         0            4       0           4\n..     ...       ...          ...     ...         ...\n110    5.0         1            5       1           5\n111    5.0         1            5       1           5\n112    5.0         1            4       1           5\n113    5.0         1            4       1           5\n114    5.0         1            5       1           5\n\n[115 rows x 5 columns]",
      "text/html": "<div>\n<style scoped>\n    .dataframe tbody tr th:only-of-type {\n        vertical-align: middle;\n    }\n\n    .dataframe tbody tr th {\n        vertical-align: top;\n    }\n\n    .dataframe thead th {\n        text-align: right;\n    }\n</style>\n<table border=\"1\" class=\"dataframe\">\n  <thead>\n    <tr style=\"text-align: right;\">\n      <th></th>\n      <th>Trust</th>\n      <th>Purchase</th>\n      <th>Association</th>\n      <th>Belief</th>\n      <th>Likelihood</th>\n    </tr>\n  </thead>\n  <tbody>\n    <tr>\n      <th>0</th>\n      <td>4.0</td>\n      <td>1</td>\n      <td>3</td>\n      <td>1</td>\n      <td>4</td>\n    </tr>\n    <tr>\n      <th>1</th>\n      <td>0.0</td>\n      <td>1</td>\n      <td>5</td>\n      <td>1</td>\n      <td>5</td>\n    </tr>\n    <tr>\n      <th>2</th>\n      <td>0.0</td>\n      <td>1</td>\n      <td>5</td>\n      <td>1</td>\n      <td>5</td>\n    </tr>\n    <tr>\n      <th>3</th>\n      <td>3.0</td>\n      <td>0</td>\n      <td>3</td>\n      <td>0</td>\n      <td>3</td>\n    </tr>\n    <tr>\n      <th>4</th>\n      <td>3.0</td>\n      <td>0</td>\n      <td>4</td>\n      <td>0</td>\n      <td>4</td>\n    </tr>\n    <tr>\n      <th>...</th>\n      <td>...</td>\n      <td>...</td>\n      <td>...</td>\n      <td>...</td>\n      <td>...</td>\n    </tr>\n    <tr>\n      <th>110</th>\n      <td>5.0</td>\n      <td>1</td>\n      <td>5</td>\n      <td>1</td>\n      <td>5</td>\n    </tr>\n    <tr>\n      <th>111</th>\n      <td>5.0</td>\n      <td>1</td>\n      <td>5</td>\n      <td>1</td>\n      <td>5</td>\n    </tr>\n    <tr>\n      <th>112</th>\n      <td>5.0</td>\n      <td>1</td>\n      <td>4</td>\n      <td>1</td>\n      <td>5</td>\n    </tr>\n    <tr>\n      <th>113</th>\n      <td>5.0</td>\n      <td>1</td>\n      <td>4</td>\n      <td>1</td>\n      <td>5</td>\n    </tr>\n    <tr>\n      <th>114</th>\n      <td>5.0</td>\n      <td>1</td>\n      <td>5</td>\n      <td>1</td>\n      <td>5</td>\n    </tr>\n  </tbody>\n</table>\n<p>115 rows × 5 columns</p>\n</div>"
     },
     "execution_count": 44,
     "metadata": {},
     "output_type": "execute_result"
    }
   ],
   "source": [
    "d7"
   ],
   "metadata": {
    "collapsed": false,
    "ExecuteTime": {
     "end_time": "2023-10-31T20:45:38.391114Z",
     "start_time": "2023-10-31T20:45:37.620369900Z"
    }
   },
   "id": "533758f2980d464a"
  },
  {
   "cell_type": "code",
   "execution_count": null,
   "outputs": [],
   "source": [],
   "metadata": {
    "collapsed": false
   },
   "id": "4ed8fa98f8c4449b"
  }
 ],
 "metadata": {
  "kernelspec": {
   "display_name": "Python 3",
   "language": "python",
   "name": "python3"
  },
  "language_info": {
   "codemirror_mode": {
    "name": "ipython",
    "version": 2
   },
   "file_extension": ".py",
   "mimetype": "text/x-python",
   "name": "python",
   "nbconvert_exporter": "python",
   "pygments_lexer": "ipython2",
   "version": "2.7.6"
  }
 },
 "nbformat": 4,
 "nbformat_minor": 5
}
