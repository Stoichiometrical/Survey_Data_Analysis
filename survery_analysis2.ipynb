{
 "cells": [
  {
   "cell_type": "markdown",
   "source": [
    "# Survey Analysis: Unravelling Consumer Awareness of Eco-Labels in Kenya: Assessing the Impact of Multiple Schemes and Exploring the KEBS Framework for Enhanced Sustainable Consumption"
   ],
   "metadata": {
    "collapsed": false
   },
   "id": "b916f2bcfe0c1278"
  },
  {
   "cell_type": "markdown",
   "source": [
    "In this notebook we will examine and test 3 hypotheses to help us assess the impact of multiples ecolabelling schemes on consumers in Kenya"
   ],
   "metadata": {
    "collapsed": false
   },
   "id": "83a9958fe4103ecf"
  },
  {
   "cell_type": "code",
   "execution_count": 19,
   "outputs": [
    {
     "data": {
      "text/plain": "               Timestamp  \\\n0     9/21/2023 18:44:35   \n1     9/21/2023 19:01:12   \n2     9/21/2023 19:07:56   \n3     9/21/2023 19:17:04   \n4     9/21/2023 20:01:56   \n..                   ...   \n110  10/30/2023 15:42:49   \n111  10/30/2023 15:43:55   \n112  10/30/2023 15:43:56   \n113  10/30/2023 15:49:38   \n114  10/30/2023 15:50:50   \n\n    I confirm that I have read the information above and understand that my participation is voluntary.  \\\n0                                                  Yes                                                    \n1                                                  Yes                                                    \n2                                                  Yes                                                    \n3                                                  Yes                                                    \n4                                                  Yes                                                    \n..                                                 ...                                                    \n110                                                Yes                                                    \n111                                                Yes                                                    \n112                                                Yes                                                    \n113                                                Yes                                                    \n114                                                Yes                                                    \n\n    Kindly enter your email address to proceed What is your age?  \\\n0                       susanmuia128@gmail.com             18-24   \n1                     c.gichuki@alustudent.com             18-24   \n2                       eddiepkhiras@gmail.com             55-64   \n3                  kirangakariukilaw@gmail.com             25-34   \n4                       negrilson20@gmail.com              35-44   \n..                                         ...               ...   \n110                     c.owino@alustudent.com             18-24   \n111                    harrylloyd.lh@gmail.com             18-24   \n112                       mabwapeter@gmail.com             18-24   \n113                       rosesuja45@gmail.com             35-44   \n114                   francissteven1@gmail.com             25-34   \n\n    What is your Gender? Which region in Kenya do you currently reside in?  \\\n0                 Female                                           Nairobi   \n1                 Female                                           Central   \n2                   Male                                             Coast   \n3                   Male                                           Nairobi   \n4                   Male                                            Nyanza   \n..                   ...                                               ...   \n110               Female                                           Nairobi   \n111                 Male                                           Nairobi   \n112                  NaN                                           Nairobi   \n113               Female                                             Coast   \n114                 Male                                             Coast   \n\n     How aware are you about the environmental issues?(1 being the lowest,5 being the highest)  \\\n0                                                    5                                           \n1                                                    5                                           \n2                                                    5                                           \n3                                                    4                                           \n4                                                    4                                           \n..                                                 ...                                           \n110                                                  4                                           \n111                                                  4                                           \n112                                                  5                                           \n113                                                  3                                           \n114                                                  4                                           \n\n    Do you actively engage in environment-friendly practices in your daily life?  \\\n0                                                   No                             \n1                                                  Yes                             \n2                                                  Yes                             \n3                                                  Yes                             \n4                                                  Yes                             \n..                                                 ...                             \n110                                                Yes                             \n111                                                Yes                             \n112                                                Yes                             \n113                                                Yes                             \n114                                                Yes                             \n\n    I am confident in my ability to distinguish between different eco-labels when shopping for products.  \\\n0                                       Strongly Agree                                                     \n1                                                Agree                                                     \n2                                    Strongly Disagree                                                     \n3                                              Neutral                                                     \n4                                              Neutral                                                     \n..                                                 ...                                                     \n110                                            Neutral                                                     \n111                                            Neutral                                                     \n112                                     Strongly Agree                                                     \n113                                           Disagree                                                     \n114                                              Agree                                                     \n\n    Have you ever encountered multiple eco-labels on similar products?  \\\n0                                                  Yes                   \n1                                                   No                   \n2                                                   No                   \n3                                                  Yes                   \n4                                                  Yes                   \n..                                                 ...                   \n110                                                 No                   \n111                                                 No                   \n112                                                Yes                   \n113                                                Yes                   \n114                                                Yes                   \n\n    How often do you find it challenging to understand the environmental implications of a product based on its eco-label?  \\\n0                                           Frequently                                                                       \n1                                               Rarely                                                                       \n2                                           Frequently                                                                       \n3                                               Rarely                                                                       \n4                                         Occasionally                                                                       \n..                                                 ...                                                                       \n110                                             Rarely                                                                       \n111                                       Occasionally                                                                       \n112                                              Never                                                                       \n113                                       Occasionally                                                                       \n114                                             Rarely                                                                       \n\n    Are you familiar with the KEBS (Kenya Bureau of Standards) standard mark?  \\\n0                                                  Yes                          \n1                                                  Yes                          \n2                                                  Yes                          \n3                                                  Yes                          \n4                                                  Yes                          \n..                                                 ...                          \n110                                                Yes                          \n111                                                Yes                          \n112                                                Yes                          \n113                                                Yes                          \n114                                                Yes                          \n\n    How much trust do you place in products that bear the KEBS label when it comes to quality and safety?  \\\n0                                                 Some                                                      \n1                                         A grest deal                                                      \n2                                         A grest deal                                                      \n3                                               Little                                                      \n4                                               Little                                                      \n..                                                 ...                                                      \n110                                       A great deal                                                      \n111                                       A great deal                                                      \n112                                       A great deal                                                      \n113                                       A great deal                                                      \n114                                       A great deal                                                      \n\n    Have you intentionally purchased products with the KEBS label because of its perceived quality and safety standards?  \\\n0                                                  Yes                                                                     \n1                                                  Yes                                                                     \n2                                                  Yes                                                                     \n3                                                   No                                                                     \n4                                                   No                                                                     \n..                                                 ...                                                                     \n110                                                Yes                                                                     \n111                                                Yes                                                                     \n112                                                Yes                                                                     \n113                                                Yes                                                                     \n114                                                Yes                                                                     \n\n    To what extent do you associate the KEBS label with government oversight and regulation?  \\\n0                                              Neutral                                         \n1                                             Strongly                                         \n2                                             Strongly                                         \n3                                              Neutral                                         \n4                                             Somewhat                                         \n..                                                 ...                                         \n110                                           Strongly                                         \n111                                           Strongly                                         \n112                                           Somewhat                                         \n113                                           Somewhat                                         \n114                                           Strongly                                         \n\n    Do you believe that products with the KEBS label are more reliable and safer than those without it?  \\\n0                                                  Yes                                                    \n1                                                  Yes                                                    \n2                                                  Yes                                                    \n3                                                   No                                                    \n4                                                   No                                                    \n..                                                 ...                                                    \n110                                                Yes                                                    \n111                                                Yes                                                    \n112                                                Yes                                                    \n113                                                Yes                                                    \n114                                                Yes                                                    \n\n    How likely are you to choose a product with the KEBS label over a similar product without it?  \n0                                      Somewhat likely                                             \n1                                          Very likely                                             \n2                                          Very likely                                             \n3                                              Neutral                                             \n4                                      Somewhat likely                                             \n..                                                 ...                                             \n110                                        Very likely                                             \n111                                        Very likely                                             \n112                                        Very likely                                             \n113                                        Very likely                                             \n114                                        Very likely                                             \n\n[115 rows x 17 columns]",
      "text/html": "<div>\n<style scoped>\n    .dataframe tbody tr th:only-of-type {\n        vertical-align: middle;\n    }\n\n    .dataframe tbody tr th {\n        vertical-align: top;\n    }\n\n    .dataframe thead th {\n        text-align: right;\n    }\n</style>\n<table border=\"1\" class=\"dataframe\">\n  <thead>\n    <tr style=\"text-align: right;\">\n      <th></th>\n      <th>Timestamp</th>\n      <th>I confirm that I have read the information above and understand that my participation is voluntary.</th>\n      <th>Kindly enter your email address to proceed</th>\n      <th>What is your age?</th>\n      <th>What is your Gender?</th>\n      <th>Which region in Kenya do you currently reside in?</th>\n      <th>How aware are you about the environmental issues?(1 being the lowest,5 being the highest)</th>\n      <th>Do you actively engage in environment-friendly practices in your daily life?</th>\n      <th>I am confident in my ability to distinguish between different eco-labels when shopping for products.</th>\n      <th>Have you ever encountered multiple eco-labels on similar products?</th>\n      <th>How often do you find it challenging to understand the environmental implications of a product based on its eco-label?</th>\n      <th>Are you familiar with the KEBS (Kenya Bureau of Standards) standard mark?</th>\n      <th>How much trust do you place in products that bear the KEBS label when it comes to quality and safety?</th>\n      <th>Have you intentionally purchased products with the KEBS label because of its perceived quality and safety standards?</th>\n      <th>To what extent do you associate the KEBS label with government oversight and regulation?</th>\n      <th>Do you believe that products with the KEBS label are more reliable and safer than those without it?</th>\n      <th>How likely are you to choose a product with the KEBS label over a similar product without it?</th>\n    </tr>\n  </thead>\n  <tbody>\n    <tr>\n      <th>0</th>\n      <td>9/21/2023 18:44:35</td>\n      <td>Yes</td>\n      <td>susanmuia128@gmail.com</td>\n      <td>18-24</td>\n      <td>Female</td>\n      <td>Nairobi</td>\n      <td>5</td>\n      <td>No</td>\n      <td>Strongly Agree</td>\n      <td>Yes</td>\n      <td>Frequently</td>\n      <td>Yes</td>\n      <td>Some</td>\n      <td>Yes</td>\n      <td>Neutral</td>\n      <td>Yes</td>\n      <td>Somewhat likely</td>\n    </tr>\n    <tr>\n      <th>1</th>\n      <td>9/21/2023 19:01:12</td>\n      <td>Yes</td>\n      <td>c.gichuki@alustudent.com</td>\n      <td>18-24</td>\n      <td>Female</td>\n      <td>Central</td>\n      <td>5</td>\n      <td>Yes</td>\n      <td>Agree</td>\n      <td>No</td>\n      <td>Rarely</td>\n      <td>Yes</td>\n      <td>A grest deal</td>\n      <td>Yes</td>\n      <td>Strongly</td>\n      <td>Yes</td>\n      <td>Very likely</td>\n    </tr>\n    <tr>\n      <th>2</th>\n      <td>9/21/2023 19:07:56</td>\n      <td>Yes</td>\n      <td>eddiepkhiras@gmail.com</td>\n      <td>55-64</td>\n      <td>Male</td>\n      <td>Coast</td>\n      <td>5</td>\n      <td>Yes</td>\n      <td>Strongly Disagree</td>\n      <td>No</td>\n      <td>Frequently</td>\n      <td>Yes</td>\n      <td>A grest deal</td>\n      <td>Yes</td>\n      <td>Strongly</td>\n      <td>Yes</td>\n      <td>Very likely</td>\n    </tr>\n    <tr>\n      <th>3</th>\n      <td>9/21/2023 19:17:04</td>\n      <td>Yes</td>\n      <td>kirangakariukilaw@gmail.com</td>\n      <td>25-34</td>\n      <td>Male</td>\n      <td>Nairobi</td>\n      <td>4</td>\n      <td>Yes</td>\n      <td>Neutral</td>\n      <td>Yes</td>\n      <td>Rarely</td>\n      <td>Yes</td>\n      <td>Little</td>\n      <td>No</td>\n      <td>Neutral</td>\n      <td>No</td>\n      <td>Neutral</td>\n    </tr>\n    <tr>\n      <th>4</th>\n      <td>9/21/2023 20:01:56</td>\n      <td>Yes</td>\n      <td>negrilson20@gmail.com</td>\n      <td>35-44</td>\n      <td>Male</td>\n      <td>Nyanza</td>\n      <td>4</td>\n      <td>Yes</td>\n      <td>Neutral</td>\n      <td>Yes</td>\n      <td>Occasionally</td>\n      <td>Yes</td>\n      <td>Little</td>\n      <td>No</td>\n      <td>Somewhat</td>\n      <td>No</td>\n      <td>Somewhat likely</td>\n    </tr>\n    <tr>\n      <th>...</th>\n      <td>...</td>\n      <td>...</td>\n      <td>...</td>\n      <td>...</td>\n      <td>...</td>\n      <td>...</td>\n      <td>...</td>\n      <td>...</td>\n      <td>...</td>\n      <td>...</td>\n      <td>...</td>\n      <td>...</td>\n      <td>...</td>\n      <td>...</td>\n      <td>...</td>\n      <td>...</td>\n      <td>...</td>\n    </tr>\n    <tr>\n      <th>110</th>\n      <td>10/30/2023 15:42:49</td>\n      <td>Yes</td>\n      <td>c.owino@alustudent.com</td>\n      <td>18-24</td>\n      <td>Female</td>\n      <td>Nairobi</td>\n      <td>4</td>\n      <td>Yes</td>\n      <td>Neutral</td>\n      <td>No</td>\n      <td>Rarely</td>\n      <td>Yes</td>\n      <td>A great deal</td>\n      <td>Yes</td>\n      <td>Strongly</td>\n      <td>Yes</td>\n      <td>Very likely</td>\n    </tr>\n    <tr>\n      <th>111</th>\n      <td>10/30/2023 15:43:55</td>\n      <td>Yes</td>\n      <td>harrylloyd.lh@gmail.com</td>\n      <td>18-24</td>\n      <td>Male</td>\n      <td>Nairobi</td>\n      <td>4</td>\n      <td>Yes</td>\n      <td>Neutral</td>\n      <td>No</td>\n      <td>Occasionally</td>\n      <td>Yes</td>\n      <td>A great deal</td>\n      <td>Yes</td>\n      <td>Strongly</td>\n      <td>Yes</td>\n      <td>Very likely</td>\n    </tr>\n    <tr>\n      <th>112</th>\n      <td>10/30/2023 15:43:56</td>\n      <td>Yes</td>\n      <td>mabwapeter@gmail.com</td>\n      <td>18-24</td>\n      <td>NaN</td>\n      <td>Nairobi</td>\n      <td>5</td>\n      <td>Yes</td>\n      <td>Strongly Agree</td>\n      <td>Yes</td>\n      <td>Never</td>\n      <td>Yes</td>\n      <td>A great deal</td>\n      <td>Yes</td>\n      <td>Somewhat</td>\n      <td>Yes</td>\n      <td>Very likely</td>\n    </tr>\n    <tr>\n      <th>113</th>\n      <td>10/30/2023 15:49:38</td>\n      <td>Yes</td>\n      <td>rosesuja45@gmail.com</td>\n      <td>35-44</td>\n      <td>Female</td>\n      <td>Coast</td>\n      <td>3</td>\n      <td>Yes</td>\n      <td>Disagree</td>\n      <td>Yes</td>\n      <td>Occasionally</td>\n      <td>Yes</td>\n      <td>A great deal</td>\n      <td>Yes</td>\n      <td>Somewhat</td>\n      <td>Yes</td>\n      <td>Very likely</td>\n    </tr>\n    <tr>\n      <th>114</th>\n      <td>10/30/2023 15:50:50</td>\n      <td>Yes</td>\n      <td>francissteven1@gmail.com</td>\n      <td>25-34</td>\n      <td>Male</td>\n      <td>Coast</td>\n      <td>4</td>\n      <td>Yes</td>\n      <td>Agree</td>\n      <td>Yes</td>\n      <td>Rarely</td>\n      <td>Yes</td>\n      <td>A great deal</td>\n      <td>Yes</td>\n      <td>Strongly</td>\n      <td>Yes</td>\n      <td>Very likely</td>\n    </tr>\n  </tbody>\n</table>\n<p>115 rows × 17 columns</p>\n</div>"
     },
     "execution_count": 19,
     "metadata": {},
     "output_type": "execute_result"
    }
   ],
   "source": [
    "#import the neccesary libaries and data\n",
    "import pandas as pd\n",
    "import numpy as np\n",
    "import seaborn as sns\n",
    "data = pd.read_csv(\"df.csv\")\n",
    "data"
   ],
   "metadata": {
    "collapsed": false,
    "ExecuteTime": {
     "end_time": "2023-10-30T20:09:10.768547900Z",
     "start_time": "2023-10-30T20:09:08.333331800Z"
    }
   },
   "id": "90b6378dbef3b65"
  },
  {
   "cell_type": "code",
   "execution_count": 20,
   "outputs": [
    {
     "data": {
      "text/plain": "    I confirm that I have read the information above and understand that my participation is voluntary.  \\\n0                                                  Yes                                                    \n1                                                  Yes                                                    \n2                                                  Yes                                                    \n3                                                  Yes                                                    \n4                                                  Yes                                                    \n..                                                 ...                                                    \n110                                                Yes                                                    \n111                                                Yes                                                    \n112                                                Yes                                                    \n113                                                Yes                                                    \n114                                                Yes                                                    \n\n    Kindly enter your email address to proceed What is your age?  \\\n0                       susanmuia128@gmail.com             18-24   \n1                     c.gichuki@alustudent.com             18-24   \n2                       eddiepkhiras@gmail.com             55-64   \n3                  kirangakariukilaw@gmail.com             25-34   \n4                       negrilson20@gmail.com              35-44   \n..                                         ...               ...   \n110                     c.owino@alustudent.com             18-24   \n111                    harrylloyd.lh@gmail.com             18-24   \n112                       mabwapeter@gmail.com             18-24   \n113                       rosesuja45@gmail.com             35-44   \n114                   francissteven1@gmail.com             25-34   \n\n    What is your Gender? Which region in Kenya do you currently reside in?  \\\n0                 Female                                           Nairobi   \n1                 Female                                           Central   \n2                   Male                                             Coast   \n3                   Male                                           Nairobi   \n4                   Male                                            Nyanza   \n..                   ...                                               ...   \n110               Female                                           Nairobi   \n111                 Male                                           Nairobi   \n112                  NaN                                           Nairobi   \n113               Female                                             Coast   \n114                 Male                                             Coast   \n\n     How aware are you about the environmental issues?(1 being the lowest,5 being the highest)  \\\n0                                                    5                                           \n1                                                    5                                           \n2                                                    5                                           \n3                                                    4                                           \n4                                                    4                                           \n..                                                 ...                                           \n110                                                  4                                           \n111                                                  4                                           \n112                                                  5                                           \n113                                                  3                                           \n114                                                  4                                           \n\n    Do you actively engage in environment-friendly practices in your daily life?  \\\n0                                                   No                             \n1                                                  Yes                             \n2                                                  Yes                             \n3                                                  Yes                             \n4                                                  Yes                             \n..                                                 ...                             \n110                                                Yes                             \n111                                                Yes                             \n112                                                Yes                             \n113                                                Yes                             \n114                                                Yes                             \n\n    I am confident in my ability to distinguish between different eco-labels when shopping for products.  \\\n0                                       Strongly Agree                                                     \n1                                                Agree                                                     \n2                                    Strongly Disagree                                                     \n3                                              Neutral                                                     \n4                                              Neutral                                                     \n..                                                 ...                                                     \n110                                            Neutral                                                     \n111                                            Neutral                                                     \n112                                     Strongly Agree                                                     \n113                                           Disagree                                                     \n114                                              Agree                                                     \n\n    Have you ever encountered multiple eco-labels on similar products?  \\\n0                                                  Yes                   \n1                                                   No                   \n2                                                   No                   \n3                                                  Yes                   \n4                                                  Yes                   \n..                                                 ...                   \n110                                                 No                   \n111                                                 No                   \n112                                                Yes                   \n113                                                Yes                   \n114                                                Yes                   \n\n    How often do you find it challenging to understand the environmental implications of a product based on its eco-label?  \\\n0                                           Frequently                                                                       \n1                                               Rarely                                                                       \n2                                           Frequently                                                                       \n3                                               Rarely                                                                       \n4                                         Occasionally                                                                       \n..                                                 ...                                                                       \n110                                             Rarely                                                                       \n111                                       Occasionally                                                                       \n112                                              Never                                                                       \n113                                       Occasionally                                                                       \n114                                             Rarely                                                                       \n\n    Are you familiar with the KEBS (Kenya Bureau of Standards) standard mark?  \\\n0                                                  Yes                          \n1                                                  Yes                          \n2                                                  Yes                          \n3                                                  Yes                          \n4                                                  Yes                          \n..                                                 ...                          \n110                                                Yes                          \n111                                                Yes                          \n112                                                Yes                          \n113                                                Yes                          \n114                                                Yes                          \n\n    How much trust do you place in products that bear the KEBS label when it comes to quality and safety?  \\\n0                                                 Some                                                      \n1                                         A grest deal                                                      \n2                                         A grest deal                                                      \n3                                               Little                                                      \n4                                               Little                                                      \n..                                                 ...                                                      \n110                                       A great deal                                                      \n111                                       A great deal                                                      \n112                                       A great deal                                                      \n113                                       A great deal                                                      \n114                                       A great deal                                                      \n\n    Have you intentionally purchased products with the KEBS label because of its perceived quality and safety standards?  \\\n0                                                  Yes                                                                     \n1                                                  Yes                                                                     \n2                                                  Yes                                                                     \n3                                                   No                                                                     \n4                                                   No                                                                     \n..                                                 ...                                                                     \n110                                                Yes                                                                     \n111                                                Yes                                                                     \n112                                                Yes                                                                     \n113                                                Yes                                                                     \n114                                                Yes                                                                     \n\n    To what extent do you associate the KEBS label with government oversight and regulation?  \\\n0                                              Neutral                                         \n1                                             Strongly                                         \n2                                             Strongly                                         \n3                                              Neutral                                         \n4                                             Somewhat                                         \n..                                                 ...                                         \n110                                           Strongly                                         \n111                                           Strongly                                         \n112                                           Somewhat                                         \n113                                           Somewhat                                         \n114                                           Strongly                                         \n\n    Do you believe that products with the KEBS label are more reliable and safer than those without it?  \\\n0                                                  Yes                                                    \n1                                                  Yes                                                    \n2                                                  Yes                                                    \n3                                                   No                                                    \n4                                                   No                                                    \n..                                                 ...                                                    \n110                                                Yes                                                    \n111                                                Yes                                                    \n112                                                Yes                                                    \n113                                                Yes                                                    \n114                                                Yes                                                    \n\n    How likely are you to choose a product with the KEBS label over a similar product without it?  \n0                                      Somewhat likely                                             \n1                                          Very likely                                             \n2                                          Very likely                                             \n3                                              Neutral                                             \n4                                      Somewhat likely                                             \n..                                                 ...                                             \n110                                        Very likely                                             \n111                                        Very likely                                             \n112                                        Very likely                                             \n113                                        Very likely                                             \n114                                        Very likely                                             \n\n[115 rows x 16 columns]",
      "text/html": "<div>\n<style scoped>\n    .dataframe tbody tr th:only-of-type {\n        vertical-align: middle;\n    }\n\n    .dataframe tbody tr th {\n        vertical-align: top;\n    }\n\n    .dataframe thead th {\n        text-align: right;\n    }\n</style>\n<table border=\"1\" class=\"dataframe\">\n  <thead>\n    <tr style=\"text-align: right;\">\n      <th></th>\n      <th>I confirm that I have read the information above and understand that my participation is voluntary.</th>\n      <th>Kindly enter your email address to proceed</th>\n      <th>What is your age?</th>\n      <th>What is your Gender?</th>\n      <th>Which region in Kenya do you currently reside in?</th>\n      <th>How aware are you about the environmental issues?(1 being the lowest,5 being the highest)</th>\n      <th>Do you actively engage in environment-friendly practices in your daily life?</th>\n      <th>I am confident in my ability to distinguish between different eco-labels when shopping for products.</th>\n      <th>Have you ever encountered multiple eco-labels on similar products?</th>\n      <th>How often do you find it challenging to understand the environmental implications of a product based on its eco-label?</th>\n      <th>Are you familiar with the KEBS (Kenya Bureau of Standards) standard mark?</th>\n      <th>How much trust do you place in products that bear the KEBS label when it comes to quality and safety?</th>\n      <th>Have you intentionally purchased products with the KEBS label because of its perceived quality and safety standards?</th>\n      <th>To what extent do you associate the KEBS label with government oversight and regulation?</th>\n      <th>Do you believe that products with the KEBS label are more reliable and safer than those without it?</th>\n      <th>How likely are you to choose a product with the KEBS label over a similar product without it?</th>\n    </tr>\n  </thead>\n  <tbody>\n    <tr>\n      <th>0</th>\n      <td>Yes</td>\n      <td>susanmuia128@gmail.com</td>\n      <td>18-24</td>\n      <td>Female</td>\n      <td>Nairobi</td>\n      <td>5</td>\n      <td>No</td>\n      <td>Strongly Agree</td>\n      <td>Yes</td>\n      <td>Frequently</td>\n      <td>Yes</td>\n      <td>Some</td>\n      <td>Yes</td>\n      <td>Neutral</td>\n      <td>Yes</td>\n      <td>Somewhat likely</td>\n    </tr>\n    <tr>\n      <th>1</th>\n      <td>Yes</td>\n      <td>c.gichuki@alustudent.com</td>\n      <td>18-24</td>\n      <td>Female</td>\n      <td>Central</td>\n      <td>5</td>\n      <td>Yes</td>\n      <td>Agree</td>\n      <td>No</td>\n      <td>Rarely</td>\n      <td>Yes</td>\n      <td>A grest deal</td>\n      <td>Yes</td>\n      <td>Strongly</td>\n      <td>Yes</td>\n      <td>Very likely</td>\n    </tr>\n    <tr>\n      <th>2</th>\n      <td>Yes</td>\n      <td>eddiepkhiras@gmail.com</td>\n      <td>55-64</td>\n      <td>Male</td>\n      <td>Coast</td>\n      <td>5</td>\n      <td>Yes</td>\n      <td>Strongly Disagree</td>\n      <td>No</td>\n      <td>Frequently</td>\n      <td>Yes</td>\n      <td>A grest deal</td>\n      <td>Yes</td>\n      <td>Strongly</td>\n      <td>Yes</td>\n      <td>Very likely</td>\n    </tr>\n    <tr>\n      <th>3</th>\n      <td>Yes</td>\n      <td>kirangakariukilaw@gmail.com</td>\n      <td>25-34</td>\n      <td>Male</td>\n      <td>Nairobi</td>\n      <td>4</td>\n      <td>Yes</td>\n      <td>Neutral</td>\n      <td>Yes</td>\n      <td>Rarely</td>\n      <td>Yes</td>\n      <td>Little</td>\n      <td>No</td>\n      <td>Neutral</td>\n      <td>No</td>\n      <td>Neutral</td>\n    </tr>\n    <tr>\n      <th>4</th>\n      <td>Yes</td>\n      <td>negrilson20@gmail.com</td>\n      <td>35-44</td>\n      <td>Male</td>\n      <td>Nyanza</td>\n      <td>4</td>\n      <td>Yes</td>\n      <td>Neutral</td>\n      <td>Yes</td>\n      <td>Occasionally</td>\n      <td>Yes</td>\n      <td>Little</td>\n      <td>No</td>\n      <td>Somewhat</td>\n      <td>No</td>\n      <td>Somewhat likely</td>\n    </tr>\n    <tr>\n      <th>...</th>\n      <td>...</td>\n      <td>...</td>\n      <td>...</td>\n      <td>...</td>\n      <td>...</td>\n      <td>...</td>\n      <td>...</td>\n      <td>...</td>\n      <td>...</td>\n      <td>...</td>\n      <td>...</td>\n      <td>...</td>\n      <td>...</td>\n      <td>...</td>\n      <td>...</td>\n      <td>...</td>\n    </tr>\n    <tr>\n      <th>110</th>\n      <td>Yes</td>\n      <td>c.owino@alustudent.com</td>\n      <td>18-24</td>\n      <td>Female</td>\n      <td>Nairobi</td>\n      <td>4</td>\n      <td>Yes</td>\n      <td>Neutral</td>\n      <td>No</td>\n      <td>Rarely</td>\n      <td>Yes</td>\n      <td>A great deal</td>\n      <td>Yes</td>\n      <td>Strongly</td>\n      <td>Yes</td>\n      <td>Very likely</td>\n    </tr>\n    <tr>\n      <th>111</th>\n      <td>Yes</td>\n      <td>harrylloyd.lh@gmail.com</td>\n      <td>18-24</td>\n      <td>Male</td>\n      <td>Nairobi</td>\n      <td>4</td>\n      <td>Yes</td>\n      <td>Neutral</td>\n      <td>No</td>\n      <td>Occasionally</td>\n      <td>Yes</td>\n      <td>A great deal</td>\n      <td>Yes</td>\n      <td>Strongly</td>\n      <td>Yes</td>\n      <td>Very likely</td>\n    </tr>\n    <tr>\n      <th>112</th>\n      <td>Yes</td>\n      <td>mabwapeter@gmail.com</td>\n      <td>18-24</td>\n      <td>NaN</td>\n      <td>Nairobi</td>\n      <td>5</td>\n      <td>Yes</td>\n      <td>Strongly Agree</td>\n      <td>Yes</td>\n      <td>Never</td>\n      <td>Yes</td>\n      <td>A great deal</td>\n      <td>Yes</td>\n      <td>Somewhat</td>\n      <td>Yes</td>\n      <td>Very likely</td>\n    </tr>\n    <tr>\n      <th>113</th>\n      <td>Yes</td>\n      <td>rosesuja45@gmail.com</td>\n      <td>35-44</td>\n      <td>Female</td>\n      <td>Coast</td>\n      <td>3</td>\n      <td>Yes</td>\n      <td>Disagree</td>\n      <td>Yes</td>\n      <td>Occasionally</td>\n      <td>Yes</td>\n      <td>A great deal</td>\n      <td>Yes</td>\n      <td>Somewhat</td>\n      <td>Yes</td>\n      <td>Very likely</td>\n    </tr>\n    <tr>\n      <th>114</th>\n      <td>Yes</td>\n      <td>francissteven1@gmail.com</td>\n      <td>25-34</td>\n      <td>Male</td>\n      <td>Coast</td>\n      <td>4</td>\n      <td>Yes</td>\n      <td>Agree</td>\n      <td>Yes</td>\n      <td>Rarely</td>\n      <td>Yes</td>\n      <td>A great deal</td>\n      <td>Yes</td>\n      <td>Strongly</td>\n      <td>Yes</td>\n      <td>Very likely</td>\n    </tr>\n  </tbody>\n</table>\n<p>115 rows × 16 columns</p>\n</div>"
     },
     "execution_count": 20,
     "metadata": {},
     "output_type": "execute_result"
    }
   ],
   "source": [
    "data.drop('Timestamp',axis=1,inplace=True)\n",
    "data"
   ],
   "metadata": {
    "collapsed": false,
    "ExecuteTime": {
     "end_time": "2023-10-30T20:09:10.772513200Z",
     "start_time": "2023-10-30T20:09:10.766522400Z"
    }
   },
   "id": "9ca72d7918a0a55d"
  },
  {
   "cell_type": "code",
   "execution_count": 21,
   "outputs": [
    {
     "data": {
      "text/plain": "Index(['I confirm that I have read the information above and understand that my participation is voluntary.',\n       'Kindly enter your email address to proceed', 'What is your age?',\n       'What is your Gender?',\n       'Which region in Kenya do you currently reside in?',\n       'How aware are you about the environmental issues?(1 being the lowest,5 being the highest)',\n       'Do you actively engage in environment-friendly practices in your daily life?',\n       'I am confident in my ability to distinguish between different eco-labels when shopping for products.',\n       'Have you ever encountered multiple eco-labels on similar products?',\n       'How often do you find it challenging to understand the environmental implications of a product based on its eco-label?',\n       'Are you familiar with the KEBS (Kenya Bureau of Standards) standard mark?',\n       'How much trust do you place in products that bear the KEBS label when it comes to quality and safety?',\n       'Have you intentionally purchased products with the KEBS label because of its perceived quality and safety standards?',\n       'To what extent do you associate the KEBS label with government oversight and regulation?',\n       'Do you believe that products with the KEBS label are more reliable and safer than those without it?',\n       'How likely are you to choose a product with the KEBS label over a similar product without it?'],\n      dtype='object')"
     },
     "execution_count": 21,
     "metadata": {},
     "output_type": "execute_result"
    }
   ],
   "source": [
    "data.columns"
   ],
   "metadata": {
    "collapsed": false,
    "ExecuteTime": {
     "start_time": "2023-10-30T20:09:11.335130900Z"
    }
   },
   "id": "7ee6b58d3d310aca"
  },
  {
   "cell_type": "markdown",
   "source": [
    "# Hypothesis 1\n",
    "###   Multiple eco-labelling schemes create confusion among consumers in Kenya and fail to promote awareness of eco-friendly products effectively."
   ],
   "metadata": {
    "collapsed": false
   },
   "id": "a334915402b0108b"
  },
  {
   "cell_type": "markdown",
   "source": [
    "**Specific Question for Testing: \"How often do you find it challenging to understand the environmental implications of a product based on its eco-label?\"**\n",
    "Let's focus on one specific aspect of the hypothesis: the relationship between encountering multiple eco-labels and the challenge of understanding environmental implications.\n"
   ],
   "metadata": {
    "collapsed": false
   },
   "id": "66abcb1f711c17f7"
  },
  {
   "cell_type": "markdown",
   "source": [
    "*H0:There is no significant relationship between encountering multiple eco-labels and the frequency of finding it challenging to understand the environmental implications of a product based on its eco-label.*\n",
    "*H1:There is a significant relationship between encountering multiple eco-labels and the frequency of finding it challenging to understand the environmental implications of a product based on its eco-label*\n"
   ],
   "metadata": {
    "collapsed": false
   },
   "id": "92d1f0653b5de172"
  },
  {
   "cell_type": "code",
   "execution_count": 22,
   "outputs": [
    {
     "name": "stdout",
     "output_type": "stream",
     "text": [
      "Chi-squared statistic: 23.63667614670904\n",
      "P-value: 0.022782117697544485\n",
      "Degrees of freedom: 12\n",
      "Expected frequencies table:\n",
      "[[ 9.13043478  1.52173913 14.60869565  9.73913043]\n",
      " [ 4.69565217  0.7826087   7.51304348  5.00869565]\n",
      " [ 9.91304348  1.65217391 15.86086957 10.57391304]\n",
      " [ 2.86956522  0.47826087  4.59130435  3.06086957]\n",
      " [ 3.39130435  0.56521739  5.42608696  3.6173913 ]]\n"
     ]
    }
   ],
   "source": [
    "# Chi-squared testing\n",
    "from scipy.stats import chi2_contingency\n",
    "\n",
    "\n",
    "#Create a subset of the data from to include only the relevant questions\n",
    "d1 = data[['I am confident in my ability to distinguish between different eco-labels when shopping for products.','How often do you find it challenging to understand the environmental implications of a product based on its eco-label?']]\n",
    "\n",
    "# Create a contingency table\n",
    "contingency_table = pd.crosstab(d1['I am confident in my ability to distinguish between different eco-labels when shopping for products.'], d1['How often do you find it challenging to understand the environmental implications of a product based on its eco-label?'])\n",
    "\n",
    "# Perform the Chi-squared test\n",
    "chi2, p, dof, expected = chi2_contingency(contingency_table)\n",
    "\n",
    "# Print the results\n",
    "print(\"Chi-squared statistic:\", chi2)\n",
    "print(\"P-value:\", p)\n",
    "print(\"Degrees of freedom:\", dof)\n",
    "print(\"Expected frequencies table:\")\n",
    "print(expected)\n"
   ],
   "metadata": {
    "collapsed": false,
    "ExecuteTime": {
     "end_time": "2023-10-30T20:09:11.916230100Z",
     "start_time": "2023-10-30T20:09:11.890294700Z"
    }
   },
   "id": "7559adc2e3f63ec"
  },
  {
   "cell_type": "markdown",
   "source": [
    "# Interpretation of Chi-Squared Test Results for Hypothesis 1\n",
    "Introduction:\n",
    "\n",
    "Hypothesis 1 postulates that multiple eco-labelling schemes create confusion among consumers in Kenya and fail to promote awareness of eco-friendly products effectively. To investigate this hypothesis, we conducted a Chi-squared test to examine the relationship between consumers' confidence in distinguishing between different eco-labels and their frequency of finding it challenging to understand the environmental implications of products based on eco-labels.\n",
    "\n",
    "Chi-squared Test Results:\n",
    "\n",
    "Chi-squared Statistic: 23.637\n",
    "P-value: 0.0228\n",
    "Degrees of Freedom: 12\n",
    "Expected frequencies table:\n",
    "Rows: Confidence in Distinguishing Eco-Labels\n",
    "Columns: Frequency of Finding Eco-Labels Challenging\n",
    "Interpretation:\n",
    "\n",
    "With a 95% confidence level, corresponding to a significance level (alpha) of 0.05, we sought to be 95% confident in our conclusions. The p-value obtained in our Chi-squared test is approximately 0.0228, which is less than 0.05. This suggests that there is enough evidence to reject the null hypothesis at the 95% confidence level.\n",
    "\n",
    "Justification for Selected Questions:\n",
    "\n",
    "The two questions used in this analysis are:\n",
    "\n",
    "\"I am confident in my ability to distinguish between different eco-labels when shopping for products.\"\n",
    "\"How often do you find it challenging to understand the environmental implications of a product based on its eco-label?\"\n",
    "Question Justification:\n",
    "\n",
    "Question 1: This question assesses consumers' confidence in distinguishing between different eco-labels. It is pertinent to Hypothesis 1, as it directly explores consumers' perceptions and confidence regarding eco-labels, a key element in the context of eco-friendly products. Consumers' confidence can influence their behavior and choices when it comes to eco-labeled products.\n",
    "\n",
    "Question 2: This question investigates the frequency with which consumers find it challenging to understand the environmental implications of a product based on its eco-label. It is directly related to the hypothesis, as it measures the perceived effectiveness of eco-labels in conveying environmental information. If consumers frequently find it challenging to understand these implications, it aligns with the hypothesis that eco-labeling schemes may create confusion.\n",
    "\n",
    "Interpretation and Implications:\n",
    "\n",
    "The statistically significant association revealed by the Chi-squared test suggests a relationship between consumers' confidence in distinguishing eco-labels and the frequency of finding it challenging to understand the environmental implications of eco-labeled products. This finding holds important implications for eco-labeling strategies and consumer awareness of eco-friendly products in Kenya.\n",
    "\n",
    "It indicates that the effectiveness of eco-labels, in terms of consumers' comprehension and confidence, is a significant factor that should be considered in eco-labeling schemes"
   ],
   "metadata": {
    "collapsed": false
   },
   "id": "9e718aba256a37cc"
  },
  {
   "cell_type": "markdown",
   "source": [
    "# Hypothesis 2\n",
    "### How much trust do you place in products that bear the KEBS label when it comes to quality and safety?"
   ],
   "metadata": {
    "collapsed": false
   },
   "id": "f9a4f02290dee4f8"
  },
  {
   "cell_type": "markdown",
   "source": [
    "#### Specific Questions for Testing:\n",
    "\n",
    "**How much trust do you place in products that bear the KEBS label when it comes to quality and safety?**\n",
    "\n",
    "**Have you intentionally purchased products with the KEBS label because of its perceived quality and safety standards?**"
   ],
   "metadata": {
    "collapsed": false
   },
   "id": "873cf5779cd2650d"
  },
  {
   "cell_type": "markdown",
   "source": [
    "Null Hypothesis (H0): There is no significant relationship between respondents' trust in products with the KEBS label and their likelihood to intentionally purchase products with the KEBS label.\n",
    "\n",
    "Alternative Hypothesis (H1): There is a significant relationship between respondents' trust in products with the KEBS label and their likelihood to intentionally purchase products with the KEBS label"
   ],
   "metadata": {
    "collapsed": false
   },
   "id": "72c15645ccbea1b2"
  },
  {
   "cell_type": "code",
   "execution_count": 23,
   "outputs": [
    {
     "data": {
      "text/plain": "    How much trust do you place in products that bear the KEBS label when it comes to quality and safety?  \\\n0                                                 Some                                                      \n1                                         A grest deal                                                      \n2                                         A grest deal                                                      \n3                                               Little                                                      \n4                                               Little                                                      \n..                                                 ...                                                      \n110                                       A great deal                                                      \n111                                       A great deal                                                      \n112                                       A great deal                                                      \n113                                       A great deal                                                      \n114                                       A great deal                                                      \n\n    Have you intentionally purchased products with the KEBS label because of its perceived quality and safety standards?  \n0                                                  Yes                                                                    \n1                                                  Yes                                                                    \n2                                                  Yes                                                                    \n3                                                   No                                                                    \n4                                                   No                                                                    \n..                                                 ...                                                                    \n110                                                Yes                                                                    \n111                                                Yes                                                                    \n112                                                Yes                                                                    \n113                                                Yes                                                                    \n114                                                Yes                                                                    \n\n[115 rows x 2 columns]",
      "text/html": "<div>\n<style scoped>\n    .dataframe tbody tr th:only-of-type {\n        vertical-align: middle;\n    }\n\n    .dataframe tbody tr th {\n        vertical-align: top;\n    }\n\n    .dataframe thead th {\n        text-align: right;\n    }\n</style>\n<table border=\"1\" class=\"dataframe\">\n  <thead>\n    <tr style=\"text-align: right;\">\n      <th></th>\n      <th>How much trust do you place in products that bear the KEBS label when it comes to quality and safety?</th>\n      <th>Have you intentionally purchased products with the KEBS label because of its perceived quality and safety standards?</th>\n    </tr>\n  </thead>\n  <tbody>\n    <tr>\n      <th>0</th>\n      <td>Some</td>\n      <td>Yes</td>\n    </tr>\n    <tr>\n      <th>1</th>\n      <td>A grest deal</td>\n      <td>Yes</td>\n    </tr>\n    <tr>\n      <th>2</th>\n      <td>A grest deal</td>\n      <td>Yes</td>\n    </tr>\n    <tr>\n      <th>3</th>\n      <td>Little</td>\n      <td>No</td>\n    </tr>\n    <tr>\n      <th>4</th>\n      <td>Little</td>\n      <td>No</td>\n    </tr>\n    <tr>\n      <th>...</th>\n      <td>...</td>\n      <td>...</td>\n    </tr>\n    <tr>\n      <th>110</th>\n      <td>A great deal</td>\n      <td>Yes</td>\n    </tr>\n    <tr>\n      <th>111</th>\n      <td>A great deal</td>\n      <td>Yes</td>\n    </tr>\n    <tr>\n      <th>112</th>\n      <td>A great deal</td>\n      <td>Yes</td>\n    </tr>\n    <tr>\n      <th>113</th>\n      <td>A great deal</td>\n      <td>Yes</td>\n    </tr>\n    <tr>\n      <th>114</th>\n      <td>A great deal</td>\n      <td>Yes</td>\n    </tr>\n  </tbody>\n</table>\n<p>115 rows × 2 columns</p>\n</div>"
     },
     "execution_count": 23,
     "metadata": {},
     "output_type": "execute_result"
    }
   ],
   "source": [
    "d2 = data[['How much trust do you place in products that bear the KEBS label when it comes to quality and safety?','Have you intentionally purchased products with the KEBS label because of its perceived quality and safety standards?']]\n",
    "d2"
   ],
   "metadata": {
    "collapsed": false,
    "ExecuteTime": {
     "start_time": "2023-10-30T20:09:11.965097Z"
    }
   },
   "id": "994dae7e71bbb254"
  },
  {
   "cell_type": "code",
   "execution_count": 24,
   "outputs": [
    {
     "name": "stdout",
     "output_type": "stream",
     "text": [
      "Chi-squared statistic: 12.000777211421386\n",
      "P-value: 0.017345486628878234\n",
      "Degrees of freedom: 4\n",
      "Expected frequencies table:\n",
      "[[ 5.63809524 31.36190476]\n",
      " [ 0.3047619   1.6952381 ]\n",
      " [ 4.72380952 26.27619048]\n",
      " [ 0.15238095  0.84761905]\n",
      " [ 5.18095238 28.81904762]]\n"
     ]
    }
   ],
   "source": [
    "from scipy.stats import chi2_contingency\n",
    "\n",
    "# Create a contingency table\n",
    "contingency_table = pd.crosstab(d2['How much trust do you place in products that bear the KEBS label when it comes to quality and safety?'], d2['Have you intentionally purchased products with the KEBS label because of its perceived quality and safety standards?'])\n",
    "\n",
    "# Perform the Chi-squared test\n",
    "chi2, p, dof, expected = chi2_contingency(contingency_table)\n",
    "\n",
    "# Print the results\n",
    "print(\"Chi-squared statistic:\", chi2)\n",
    "print(\"P-value:\", p)\n",
    "print(\"Degrees of freedom:\", dof)\n",
    "print(\"Expected frequencies table:\")\n",
    "print(expected)\n"
   ],
   "metadata": {
    "collapsed": false,
    "ExecuteTime": {
     "start_time": "2023-10-30T20:09:12.059841600Z"
    }
   },
   "id": "1001cd7811bcc87d"
  },
  {
   "cell_type": "markdown",
   "source": [
    "# Interpretation of Chi-Squared Test Results for Hypothesis 2 at 95% Confidence\n",
    "Introduction:\n",
    "\n",
    "Hypothesis 2 focuses on consumer trust and preference for products bearing the KEBS label in Kenya, particularly concerning quality and safety standards. The Chi-squared test was conducted to explore the relationship between respondents' intentional purchases of products with the KEBS label due to perceived quality and safety standards and their likelihood of choosing products with the KEBS label over similar products without it.\n",
    "\n",
    "Chi-squared Test Results:\n",
    "\n",
    "Chi-squared Statistic: 12.001\n",
    "P-value: 0.0173\n",
    "Degrees of Freedom: 4\n",
    "Expected frequencies table:\n",
    "Rows: Intentional Purchase of KEBS-Labeled Products\n",
    "Columns: Likelihood of Choosing KEBS-Labeled Products\n",
    "Interpretation:\n",
    "\n",
    "At a 95% confidence level, corresponding to a significance level (alpha) of 0.05, the p-value obtained is approximately 0.0173, which is less than 0.05. This suggests that there is enough evidence to reject the null hypothesis at the 95% confidence level.\n",
    "\n",
    "Justification for Selected Questions:\n",
    "\n",
    "The two questions used in this analysis are:\n",
    "\n",
    "\"Have you intentionally purchased products with the KEBS label because of its perceived quality and safety standards?\"\n",
    "\"How likely are you to choose a product with the KEBS label over a similar product without it?\"\n",
    "Question Justification:\n",
    "\n",
    "Question 1: This question directly addresses the intention to purchase products with the KEBS label based on perceived quality and safety standards. It is relevant for Hypothesis 2 as it examines consumers' actual purchasing decisions and their trust in the KEBS label for quality and safety. Trust in quality and safety is a critical aspect of consumer preferences.\n",
    "\n",
    "Question 2: This question explores consumers' likelihood to choose products with the KEBS label over similar alternatives. It is pertinent for Hypothesis 2 as it assesses future consumer behavior and preferences. Consumers' likelihood to choose KEBS-labeled products reflects their trust and preference for such products.\n",
    "\n",
    "Interpretation and Implications:\n",
    "\n",
    "The Chi-squared test results indicate a statistically significant association between respondents' intentional purchases of KEBS-labeled products due to quality and safety standards and their likelihood to choose products with the KEBS label over similar alternatives. This finding has significant implications for understanding consumer trust and preference for KEBS-labeled products.\n",
    "\n",
    "It suggests that consumers who intentionally purchase products with the KEBS label due to quality and safety standards are also more likely to continue choosing such products in the future. This reflects a strong level of trust in the KEBS label for quality assurance and safety"
   ],
   "metadata": {
    "collapsed": false
   },
   "id": "16dd7e9201cfde50"
  },
  {
   "cell_type": "markdown",
   "source": [
    "# Hypothesis 3: To what extent do you associate the KEBS label with government oversight and regulation?\n"
   ],
   "metadata": {
    "collapsed": false
   },
   "id": "fdadf1fd5101c391"
  },
  {
   "cell_type": "markdown",
   "source": [
    "Specific Questions for Testing:\n",
    "\n",
    "\"To what extent do you associate the KEBS label with government oversight and regulation?\"\n",
    "\n",
    "\"Do you believe that products with the KEBS label are more reliable and safer than those without it?\""
   ],
   "metadata": {
    "collapsed": false
   },
   "id": "7a173e1aaaa5d696"
  },
  {
   "cell_type": "markdown",
   "source": [
    "Null Hypothesis (H0): There is no significant relationship between respondents' association of the KEBS label with government oversight and regulation and their belief in the reliability and safety of products with the KEBS label.\n",
    "\n",
    "Alternative Hypothesis (H1): There is a significant relationship between respondents' association of the KEBS label with government oversight and regulation and their belief in the reliability and safety of products with the KEBS label."
   ],
   "metadata": {
    "collapsed": false
   },
   "id": "e2f783f0714b2aa1"
  },
  {
   "cell_type": "code",
   "execution_count": 25,
   "outputs": [
    {
     "data": {
      "text/plain": "    To what extent do you associate the KEBS label with government oversight and regulation?  \\\n0                                              Neutral                                         \n1                                             Strongly                                         \n2                                             Strongly                                         \n3                                              Neutral                                         \n4                                             Somewhat                                         \n..                                                 ...                                         \n110                                           Strongly                                         \n111                                           Strongly                                         \n112                                           Somewhat                                         \n113                                           Somewhat                                         \n114                                           Strongly                                         \n\n    Do you believe that products with the KEBS label are more reliable and safer than those without it?  \n0                                                  Yes                                                   \n1                                                  Yes                                                   \n2                                                  Yes                                                   \n3                                                   No                                                   \n4                                                   No                                                   \n..                                                 ...                                                   \n110                                                Yes                                                   \n111                                                Yes                                                   \n112                                                Yes                                                   \n113                                                Yes                                                   \n114                                                Yes                                                   \n\n[115 rows x 2 columns]",
      "text/html": "<div>\n<style scoped>\n    .dataframe tbody tr th:only-of-type {\n        vertical-align: middle;\n    }\n\n    .dataframe tbody tr th {\n        vertical-align: top;\n    }\n\n    .dataframe thead th {\n        text-align: right;\n    }\n</style>\n<table border=\"1\" class=\"dataframe\">\n  <thead>\n    <tr style=\"text-align: right;\">\n      <th></th>\n      <th>To what extent do you associate the KEBS label with government oversight and regulation?</th>\n      <th>Do you believe that products with the KEBS label are more reliable and safer than those without it?</th>\n    </tr>\n  </thead>\n  <tbody>\n    <tr>\n      <th>0</th>\n      <td>Neutral</td>\n      <td>Yes</td>\n    </tr>\n    <tr>\n      <th>1</th>\n      <td>Strongly</td>\n      <td>Yes</td>\n    </tr>\n    <tr>\n      <th>2</th>\n      <td>Strongly</td>\n      <td>Yes</td>\n    </tr>\n    <tr>\n      <th>3</th>\n      <td>Neutral</td>\n      <td>No</td>\n    </tr>\n    <tr>\n      <th>4</th>\n      <td>Somewhat</td>\n      <td>No</td>\n    </tr>\n    <tr>\n      <th>...</th>\n      <td>...</td>\n      <td>...</td>\n    </tr>\n    <tr>\n      <th>110</th>\n      <td>Strongly</td>\n      <td>Yes</td>\n    </tr>\n    <tr>\n      <th>111</th>\n      <td>Strongly</td>\n      <td>Yes</td>\n    </tr>\n    <tr>\n      <th>112</th>\n      <td>Somewhat</td>\n      <td>Yes</td>\n    </tr>\n    <tr>\n      <th>113</th>\n      <td>Somewhat</td>\n      <td>Yes</td>\n    </tr>\n    <tr>\n      <th>114</th>\n      <td>Strongly</td>\n      <td>Yes</td>\n    </tr>\n  </tbody>\n</table>\n<p>115 rows × 2 columns</p>\n</div>"
     },
     "execution_count": 25,
     "metadata": {},
     "output_type": "execute_result"
    }
   ],
   "source": [
    "#Select the relevant columns\n",
    "d3 = data[['To what extent do you associate the KEBS label with government oversight and regulation?','Do you believe that products with the KEBS label are more reliable and safer than those without it?']]\n",
    "d3"
   ],
   "metadata": {
    "collapsed": false,
    "ExecuteTime": {
     "end_time": "2023-10-30T20:09:13.807243100Z",
     "start_time": "2023-10-30T20:09:12.103740200Z"
    }
   },
   "id": "b5dab407806b5959"
  },
  {
   "cell_type": "code",
   "execution_count": 26,
   "outputs": [
    {
     "name": "stdout",
     "output_type": "stream",
     "text": [
      "Chi-squared statistic: 49.326039283045546\n",
      "P-value: 4.992228082458918e-10\n",
      "Degrees of freedom: 4\n",
      "Expected frequencies table:\n",
      "[[ 5.63478261 12.36521739]\n",
      " [ 0.93913043  2.06086957]\n",
      " [ 4.06956522  8.93043478]\n",
      " [ 9.70434783 21.29565217]\n",
      " [15.65217391 34.34782609]]\n"
     ]
    }
   ],
   "source": [
    "\n",
    "# Create a contingency table\n",
    "contingency_table = pd.crosstab(d3['To what extent do you associate the KEBS label with government oversight and regulation?'], d3['Do you believe that products with the KEBS label are more reliable and safer than those without it?'])\n",
    "\n",
    "# Perform the Chi-squared test\n",
    "chi2, p, dof, expected = chi2_contingency(contingency_table)\n",
    "\n",
    "# Print the results\n",
    "print(\"Chi-squared statistic:\", chi2)\n",
    "print(\"P-value:\", p)\n",
    "print(\"Degrees of freedom:\", dof)\n",
    "print(\"Expected frequencies table:\")\n",
    "print(expected)\n"
   ],
   "metadata": {
    "collapsed": false,
    "ExecuteTime": {
     "end_time": "2023-10-30T20:09:14.260015400Z",
     "start_time": "2023-10-30T20:09:13.688559700Z"
    }
   },
   "id": "49808549f21cd30"
  },
  {
   "cell_type": "markdown",
   "source": [
    "# Interpretation of Chi-Squared Test Results for Hypothesis 3 at 95% Confidence\n",
    "Introduction:\n",
    "\n",
    "Hypothesis 3 is centered around the extent to which consumers in Kenya associate the KEBS label with government oversight and regulation. The Chi-squared test was conducted to explore the relationship between respondents' perceptions of the KEBS label's association with government oversight and their belief that products with the KEBS label are more reliable and safer than those without it.\n",
    "\n",
    "Chi-squared Test Results:\n",
    "\n",
    "Chi-squared Statistic: 49.326\n",
    "P-value: 4.992e-10 (approximately 0.0000000004992)\n",
    "Degrees of Freedom: 4\n",
    "Expected frequencies table:\n",
    "Rows: Association of KEBS Label with Government Oversight\n",
    "Columns: Belief in Reliability and Safety of KEBS-Labeled Products\n",
    "Interpretation:\n",
    "\n",
    "At a 95% confidence level, corresponding to a significance level (alpha) of 0.05, the p-value obtained is approximately 0.0000000004992, which is much less than 0.05. This exceptionally low p-value indicates a highly significant result. Therefore, there is compelling evidence to reject the null hypothesis at the 95% confidence level.\n",
    "\n",
    "Justification for Selected Questions:\n",
    "\n",
    "The two questions used in this analysis are:\n",
    "\n",
    "\"To what extent do you associate the KEBS label with government oversight and regulation?\"\n",
    "\"Do you believe that products with the KEBS label are more reliable and safer than those without it?\"\n",
    "Question Justification:\n",
    "\n",
    "Question 1: This question directly addresses consumers' associations of the KEBS label with government oversight and regulation. It is highly relevant for Hypothesis 3 as it delves into perceptions and beliefs related to the role of government in product regulation. The extent of this association is vital in understanding consumer attitudes and trust.\n",
    "\n",
    "Question 2: This question investigates consumers' beliefs about the reliability and safety of products with the KEBS label. It is directly aligned with Hypothesis 3 as it gauges consumer perceptions of the KEBS label's efficacy in ensuring product reliability and safety. These beliefs are crucial factors in consumer preferences.\n",
    "\n",
    "Interpretation and Implications:\n",
    "\n",
    "The Chi-squared test results indicate a highly significant association between respondents' associations of the KEBS label with government oversight and their belief that products with the KEBS label are more reliable and safer. This finding carries substantial implications for understanding consumer trust in the KEBS label and its role in product regulation.\n",
    "\n",
    "It suggests that consumers who strongly associate the KEBS label with government oversight are also more likely to believe in the reliability and safety of products bearing the label. This association demonstrates that the KEBS label plays a role in building trust and perceptions of reliability and safety among consumers.\n",
    "\n",
    "In the context of Hypothesis 3, these results support the idea that consumers view the KEBS label as a symbol of government-backed oversight and associate it with product reliability and safety. This trust in the label's regulatory function influences their beliefs about the safety and reliability of KEBS-labeled products"
   ],
   "metadata": {
    "collapsed": false
   },
   "id": "f44fed1e2e0c0cda"
  },
  {
   "cell_type": "markdown",
   "source": [
    "# Justification for Using the Chi-squared Test:\n",
    "\n",
    "The Chi-squared test is suitable for your hypotheses for the following reasons:\n",
    "\n",
    "Categorical Data: The survey responses are largely categorical in nature. The Chi-squared test is designed for the analysis of categorical data and can assess associations between categorical variables.\n",
    "\n",
    "Independence Testing: The Chi-squared test assesses the independence of two categorical variables. It's particularly well-suited for testing whether there's a significant relationship between the categorical variables in your hypotheses.\n",
    "\n",
    "Hypothesis-Driven: Your hypotheses involve relationships between categorical variables, making the Chi-squared test a hypothesis-driven choice.\n",
    "\n",
    "Chi-squared Test of Independence: For your hypotheses related to associations and relationships among categorical variables, the Chi-squared test of independence is a commonly used and straightforward statistical test.\n",
    "\n",
    "While other tests can be valuable for different types of data and hypotheses, the Chi-squared test aligns with the nature of your survey questions and the specific relationships you want to investigat"
   ],
   "metadata": {
    "collapsed": false
   },
   "id": "ed241d29ec440a8"
  },
  {
   "cell_type": "code",
   "execution_count": 26,
   "outputs": [],
   "source": [],
   "metadata": {
    "collapsed": false,
    "ExecuteTime": {
     "end_time": "2023-10-30T20:09:14.260015400Z",
     "start_time": "2023-10-30T20:09:14.123379100Z"
    }
   },
   "id": "f72ec985fe02634f"
  }
 ],
 "metadata": {
  "kernelspec": {
   "display_name": "Python 3",
   "language": "python",
   "name": "python3"
  },
  "language_info": {
   "codemirror_mode": {
    "name": "ipython",
    "version": 2
   },
   "file_extension": ".py",
   "mimetype": "text/x-python",
   "name": "python",
   "nbconvert_exporter": "python",
   "pygments_lexer": "ipython2",
   "version": "2.7.6"
  }
 },
 "nbformat": 4,
 "nbformat_minor": 5
}
